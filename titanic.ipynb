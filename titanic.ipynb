{
 "cells": [
  {
   "cell_type": "code",
   "execution_count": 29,
   "metadata": {
    "pycharm": {
     "is_executing": false
    }
   },
   "outputs": [],
   "source": [
    "import pandas as pd\n",
    "from pandas import DataFrame\n",
    "data = pd.read_csv('./pandas101/titanic.csv')"
   ]
  },
  {
   "cell_type": "code",
   "execution_count": 56,
   "outputs": [
    {
     "data": {
      "text/plain": "                               0  \\\nSURVIVED                       0   \nPCLASS                         3   \nNAME      Mr. Owen Harris Braund   \nSEX                         male   \nAGE                           22   \nSIBLINGS                       1   \nPARENTS                        0   \nFARE                        7.25   \n\n                                                          1  \nSURVIVED                                                  1  \nPCLASS                                                    1  \nNAME      Mrs. John Bradley (Florence Briggs Thayer) Cum...  \nSEX                                                  female  \nAGE                                                      38  \nSIBLINGS                                                  1  \nPARENTS                                                   0  \nFARE                                                71.2833  ",
      "text/html": "<div>\n<style scoped>\n    .dataframe tbody tr th:only-of-type {\n        vertical-align: middle;\n    }\n\n    .dataframe tbody tr th {\n        vertical-align: top;\n    }\n\n    .dataframe thead th {\n        text-align: right;\n    }\n</style>\n<table border=\"1\" class=\"dataframe\">\n  <thead>\n    <tr style=\"text-align: right;\">\n      <th></th>\n      <th>0</th>\n      <th>1</th>\n    </tr>\n  </thead>\n  <tbody>\n    <tr>\n      <td>SURVIVED</td>\n      <td>0</td>\n      <td>1</td>\n    </tr>\n    <tr>\n      <td>PCLASS</td>\n      <td>3</td>\n      <td>1</td>\n    </tr>\n    <tr>\n      <td>NAME</td>\n      <td>Mr. Owen Harris Braund</td>\n      <td>Mrs. John Bradley (Florence Briggs Thayer) Cum...</td>\n    </tr>\n    <tr>\n      <td>SEX</td>\n      <td>male</td>\n      <td>female</td>\n    </tr>\n    <tr>\n      <td>AGE</td>\n      <td>22</td>\n      <td>38</td>\n    </tr>\n    <tr>\n      <td>SIBLINGS</td>\n      <td>1</td>\n      <td>1</td>\n    </tr>\n    <tr>\n      <td>PARENTS</td>\n      <td>0</td>\n      <td>0</td>\n    </tr>\n    <tr>\n      <td>FARE</td>\n      <td>7.25</td>\n      <td>71.2833</td>\n    </tr>\n  </tbody>\n</table>\n</div>"
     },
     "metadata": {},
     "output_type": "execute_result",
     "execution_count": 56
    }
   ],
   "source": [
    "data.head(2).T"
   ],
   "metadata": {
    "collapsed": false,
    "pycharm": {
     "name": "#%%\n",
     "is_executing": false
    }
   }
  },
  {
   "cell_type": "code",
   "execution_count": 18,
   "outputs": [
    {
     "name": "stdout",
     "text": [
      "(887, 8)\n7096\nIndex(['Survived', 'Pclass', 'Name', 'Sex', 'Age', 'Siblings/Spouses Aboard',\n       'Parents/Children Aboard', 'Fare'],\n      dtype='object')\n<class 'pandas.core.frame.DataFrame'>\nRangeIndex: 887 entries, 0 to 886\nData columns (total 8 columns):\nSurvived                   887 non-null category\nPclass                     887 non-null category\nName                       887 non-null object\nSex                        887 non-null category\nAge                        887 non-null float64\nSiblings/Spouses Aboard    887 non-null category\nParents/Children Aboard    887 non-null category\nFare                       887 non-null float64\ndtypes: category(5), float64(2), object(1)\nmemory usage: 22.5+ KB\nNone\n"
     ],
     "output_type": "stream"
    }
   ],
   "source": [
    "print(data.shape)\n",
    "print(data.size)\n",
    "print(data.columns)\n",
    "print(data.info())"
   ],
   "metadata": {
    "collapsed": false,
    "pycharm": {
     "name": "#%%\n",
     "is_executing": false
    }
   }
  },
  {
   "cell_type": "code",
   "execution_count": 30,
   "outputs": [],
   "source": [
    "data['Survived'] = pd.Categorical(data['Survived'])\n",
    "data['Pclass'] = pd.Categorical(data['Pclass'])\n",
    "data['Sex'] = pd.Categorical(data['Sex'])\n",
    "data['Siblings/Spouses Aboard'] = pd.Categorical(data['Siblings/Spouses Aboard'])\n",
    "data['Parents/Children Aboard'] = pd.Categorical(data['Parents/Children Aboard'])"
   ],
   "metadata": {
    "collapsed": false,
    "pycharm": {
     "name": "#%%\n",
     "is_executing": false
    }
   }
  },
  {
   "cell_type": "code",
   "execution_count": 31,
   "outputs": [
    {
     "name": "stdout",
     "text": [
      "              Age       Fare\ncount  887.000000  887.00000\nmean    29.471443   32.30542\nstd     14.121908   49.78204\nmin      0.420000    0.00000\n25%     20.250000    7.92500\n50%     28.000000   14.45420\n75%     38.000000   31.13750\nmax     80.000000  512.32920\nIndex(['Survived', 'Pclass', 'Name', 'Sex', 'Age', 'Siblings/Spouses Aboard',\n       'Parents/Children Aboard', 'Fare'],\n      dtype='object')\n"
     ],
     "output_type": "stream"
    }
   ],
   "source": [
    "print(data.describe())\n",
    "print(data.columns)"
   ],
   "metadata": {
    "collapsed": false,
    "pycharm": {
     "name": "#%%\n",
     "is_executing": false
    }
   }
  },
  {
   "cell_type": "code",
   "execution_count": 32,
   "outputs": [
    {
     "name": "stdout",
     "text": [
      "Index(['SURVIVED', 'PCLASS', 'NAME', 'SEX', 'AGE', 'SIBLINGS', 'PARENTS',\n       'FARE'],\n      dtype='object')\n"
     ],
     "output_type": "stream"
    }
   ],
   "source": [
    "data.rename(columns = {'Siblings/Spouses Aboard':'Siblings',\n",
    "                       'Parents/Children Aboard':'Parents'}, inplace=True)\n",
    "data.columns = [col.upper() for col in data.columns]\n",
    "print(data.columns)"
   ],
   "metadata": {
    "collapsed": false,
    "pycharm": {
     "name": "#%%\n",
     "is_executing": false
    }
   }
  },
  {
   "cell_type": "code",
   "execution_count": 33,
   "outputs": [
    {
     "data": {
      "text/plain": "(1774, 8)"
     },
     "metadata": {},
     "output_type": "execute_result",
     "execution_count": 33
    }
   ],
   "source": [
    "data2:DataFrame = pd.concat([data, data], ignore_index=True)\n",
    "data2.shape"
   ],
   "metadata": {
    "collapsed": false,
    "pycharm": {
     "name": "#%%\n",
     "is_executing": false
    }
   }
  },
  {
   "cell_type": "code",
   "execution_count": 37,
   "outputs": [
    {
     "name": "stdout",
     "text": [
      "(887, 8)\n"
     ],
     "output_type": "stream"
    }
   ],
   "source": [
    "data2.drop_duplicates(inplace=True)\n",
    "print(data2.shape)"
   ],
   "metadata": {
    "collapsed": false,
    "pycharm": {
     "name": "#%%\n",
     "is_executing": false
    }
   }
  },
  {
   "cell_type": "code",
   "execution_count": 83,
   "outputs": [
    {
     "name": "stdout",
     "text": [
      "(887, 1)\nIndex(['SURVIVED'], dtype='object')\n    SURVIVED PCLASS                                               NAME  \\\n1          1      1  Mrs. John Bradley (Florence Briggs Thayer) Cum...   \n2          1      3                              Miss. Laina Heikkinen   \n3          1      1        Mrs. Jacques Heath (Lily May Peel) Futrelle   \n8          1      3   Mrs. Oscar W (Elisabeth Vilhelmina Berg) Johnson   \n9          1      2                 Mrs. Nicholas (Adele Achem) Nasser   \n..       ...    ...                                                ...   \n871        1      3                           Miss. Adele Kiamie Najib   \n875        1      1       Mrs. Thomas Jr (Lily Alexenia Wilson) Potter   \n876        1      2        Mrs. William (Imanita Parrish Hall) Shelley   \n883        1      1                        Miss. Margaret Edith Graham   \n885        1      1                               Mr. Karl Howell Behr   \n\n        SEX   AGE SIBLINGS PARENTS     FARE  \n1    female  38.0        1       0  71.2833  \n2    female  26.0        0       0   7.9250  \n3    female  35.0        1       0  53.1000  \n8    female  27.0        0       2  11.1333  \n9    female  14.0        1       0  30.0708  \n..      ...   ...      ...     ...      ...  \n871  female  15.0        0       0   7.2250  \n875  female  56.0        0       1  83.1583  \n876  female  25.0        0       1  26.0000  \n883  female  19.0        0       0  30.0000  \n885    male  26.0        0       0  30.0000  \n\n[342 rows x 8 columns]\n"
     ],
     "output_type": "stream"
    }
   ],
   "source": [
    "data3 = data2[['SURVIVED']]\n",
    "data4 = data2[data2['SURVIVED'] == 1]\n",
    "print(data3.shape)\n",
    "print(data3.columns)\n",
    "print(data4)"
   ],
   "metadata": {
    "collapsed": false,
    "pycharm": {
     "name": "#%%\n",
     "is_executing": false
    }
   }
  },
  {
   "cell_type": "code",
   "execution_count": 73,
   "outputs": [
    {
     "name": "stdout",
     "text": [
      "0    22.0\ndtype: float64\n"
     ],
     "output_type": "stream"
    }
   ],
   "source": [
    "s = data['AGE'].mode()\n",
    "print(s)\n",
    "\n",
    "data['AGE'].fillna(data['AGE'].mean(), inplace=True)"
   ],
   "metadata": {
    "collapsed": false,
    "pycharm": {
     "name": "#%%\n",
     "is_executing": false
    }
   }
  },
  {
   "cell_type": "code",
   "execution_count": 90,
   "outputs": [
    {
     "name": "stdout",
     "text": [
      "<class 'numpy.ndarray'>\n(97, 8)\n(97, 8)\n"
     ],
     "output_type": "stream"
    }
   ],
   "source": [
    "age = data[['AGE']].values\n",
    "print(type(age))\n",
    "\n",
    "older = data4[data4['AGE'] > 35]\n",
    "print(older.shape)\n",
    "\n",
    "older2 = data[(data['AGE'] > 35) & (data4['SURVIVED'] == 1)]\n",
    "print(older2.shape)"
   ],
   "metadata": {
    "collapsed": false,
    "pycharm": {
     "name": "#%%\n",
     "is_executing": false
    }
   }
  },
  {
   "cell_type": "code",
   "execution_count": 97,
   "outputs": [
    {
     "name": "stdout",
     "text": [
      "SEX\nfemale     8704.00\nmale      17437.17\nName: AGE, dtype: float64\nSURVIVED  SEX   \n0         male      464\n          female     81\n1         female    233\n          male      109\nName: SEX, dtype: int64\n"
     ],
     "output_type": "stream"
    }
   ],
   "source": [
    "print(data.groupby('SEX')['AGE'].sum())\n",
    "print(data.groupby('SURVIVED')['SEX'].value_counts())"
   ],
   "metadata": {
    "collapsed": false,
    "pycharm": {
     "name": "#%%\n",
     "is_executing": false
    }
   }
  },
  {
   "cell_type": "code",
   "execution_count": 101,
   "outputs": [
    {
     "name": "stdout",
     "text": [
      "0       dead\n1      alive\n2      alive\n3      alive\n4       dead\n       ...  \n882     dead\n883    alive\n884     dead\n885    alive\n886     dead\nName: DEAD, Length: 887, dtype: category\nCategories (2, object): [dead, alive]\n"
     ],
     "output_type": "stream"
    }
   ],
   "source": [
    "data['DEAD'] = data['SURVIVED'].apply(lambda x: 'dead' if x== 0 else 'alive')\n",
    "print(data['DEAD'])\n"
   ],
   "metadata": {
    "collapsed": false,
    "pycharm": {
     "name": "#%%\n",
     "is_executing": false
    }
   }
  }
 ],
 "metadata": {
  "kernelspec": {
   "display_name": "Python 3",
   "language": "python",
   "name": "python3"
  },
  "language_info": {
   "codemirror_mode": {
    "name": "ipython",
    "version": 3
   },
   "file_extension": ".py",
   "mimetype": "text/x-python",
   "name": "python",
   "nbconvert_exporter": "python",
   "pygments_lexer": "ipython3",
   "version": "3.7.1"
  },
  "pycharm": {
   "stem_cell": {
    "cell_type": "raw",
    "source": [],
    "metadata": {
     "collapsed": false
    }
   }
  }
 },
 "nbformat": 4,
 "nbformat_minor": 4
}