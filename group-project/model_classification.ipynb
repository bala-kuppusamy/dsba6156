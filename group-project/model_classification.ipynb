{
 "cells": [
  {
   "cell_type": "markdown",
   "source": [
    "## Model building"
   ],
   "metadata": {
    "collapsed": false
   }
  },
  {
   "cell_type": "code",
   "execution_count": 42,
   "metadata": {
    "collapsed": true,
    "pycharm": {
     "is_executing": false
    }
   },
   "outputs": [],
   "source": [
    "import pandas as pd\n",
    "from pandas import DataFrame\n",
    "import seaborn as sns\n",
    "import matplotlib.pyplot as plt\n",
    "from sklearn import tree\n",
    "from sklearn.tree import DecisionTreeClassifier as DTree\n",
    "from sklearn.tree import DecisionTreeRegressor  \n",
    "from sklearn.naive_bayes import BernoulliNB, GaussianNB, MultinomialNB\n",
    "from sklearn.model_selection import train_test_split\n",
    "from sklearn.utils import shuffle\n",
    "from sklearn.metrics import accuracy_score, f1_score, confusion_matrix\n",
    "\n",
    "import warnings\n",
    "warnings.filterwarnings(\"ignore\")\n",
    "\n",
    "from sklearn import preprocessing\n",
    "le = preprocessing.LabelEncoder()"
   ]
  },
  {
   "cell_type": "markdown",
   "source": [
    "#### Read training dataset from pickle file"
   ],
   "metadata": {
    "collapsed": false
   }
  },
  {
   "cell_type": "code",
   "execution_count": 43,
   "outputs": [
    {
     "name": "stdout",
     "text": [
      "(98855, 91)\n",
      "(51392, 154)\n"
     ],
     "output_type": "stream"
    }
   ],
   "source": [
    "master: DataFrame = pd.read_pickle('./data/master.pickle')\n",
    "print(master.shape)\n",
    "\n",
    "df_2017: DataFrame = pd.read_csv('./data/survey_results_public.csv')\n",
    "print(df_2017.shape)"
   ],
   "metadata": {
    "collapsed": false,
    "pycharm": {
     "name": "#%%\n",
     "is_executing": false
    }
   }
  },
  {
   "cell_type": "markdown",
   "source": [
    "#### Split dataset into x & y"
   ],
   "metadata": {
    "collapsed": false
   }
  },
  {
   "cell_type": "code",
   "execution_count": 44,
   "outputs": [],
   "source": [
    "X = master.drop('JobSatisfaction', axis=1)\n",
    "X2 = X[:]\n",
    "\n",
    "y = master[['JobSatisfaction']]\n",
    "y2 = y[:]\n",
    "\n",
    "X_train, X_test, y_train, y_test = train_test_split(X, y, test_size=0.33, random_state=42)"
   ],
   "metadata": {
    "collapsed": false,
    "pycharm": {
     "name": "#%%\n",
     "is_executing": false
    }
   }
  },
  {
   "cell_type": "markdown",
   "source": [
    "#### Decision Tree classifier"
   ],
   "metadata": {
    "collapsed": false
   }
  },
  {
   "cell_type": "code",
   "execution_count": 45,
   "outputs": [],
   "source": [
    "model_dt = tree.DecisionTreeClassifier()\n",
    "model_dt.fit(X_train, y_train)\n",
    "y_pred = model_dt.predict(X_test)"
   ],
   "metadata": {
    "collapsed": false,
    "pycharm": {
     "name": "#%%\n",
     "is_executing": false
    }
   }
  },
  {
   "cell_type": "code",
   "execution_count": 47,
   "outputs": [
    {
     "name": "stdout",
     "text": [
      "Accuracy: 0.51\nF1 score: 0.33\nConfusion Matrix - [[ 147  170   99   62   97  149   79   16]\n [ 154  467  340  192  272  448  145   16]\n [ 101  299  385  247  378  651  232   34]\n [  44  181  260  232  312  476  131   29]\n [  85  272  411  301  614 1234  357   28]\n [ 175  517  718  448 1313 3757 1681   97]\n [  71  156  200  158  367 1645 1443   38]\n [  12   17   29   27   31   91   43 9442]]\n"
     ],
     "output_type": "stream"
    }
   ],
   "source": [
    "accuracy = accuracy_score(y_test, y_pred)\n",
    "f1 = f1_score(y_test, y_pred, average='macro')  \n",
    "cf = confusion_matrix(y_test.values, y_pred)\n",
    "\n",
    "print(\"Accuracy: %0.2f\" %accuracy)\n",
    "print(\"F1 score: %0.2f\" %f1)\n",
    "print(\"Confusion Matrix -\", cf)"
   ],
   "metadata": {
    "collapsed": false,
    "pycharm": {
     "name": "#%%\n",
     "is_executing": false
    }
   }
  },
  {
   "cell_type": "markdown",
   "source": [
    "#### Naive Bayes"
   ],
   "metadata": {
    "collapsed": false
   }
  },
  {
   "cell_type": "code",
   "execution_count": 48,
   "outputs": [],
   "source": [
    "X2_train, X2_test, y2_train, y2_test = train_test_split(X2, y2, test_size=0.33, random_state=42)"
   ],
   "metadata": {
    "collapsed": false,
    "pycharm": {
     "name": "#%%\n",
     "is_executing": false
    }
   }
  },
  {
   "cell_type": "code",
   "execution_count": 49,
   "outputs": [],
   "source": [
    "model_nb = BernoulliNB()\n",
    "# model_nb = DTree(criterion='entropy')\n",
    "model_nb.fit(X2_train, y2_train)\n",
    "y2_pred = model_nb.predict(X2_test)"
   ],
   "metadata": {
    "collapsed": false,
    "pycharm": {
     "name": "#%%\n",
     "is_executing": false
    }
   }
  },
  {
   "cell_type": "code",
   "execution_count": 50,
   "outputs": [
    {
     "name": "stdout",
     "text": [
      "Accuracy: 0.54\nF1 score: 0.38\nConfusion Matrix - [[ 157  231   72   43   45  132   36  103]\n [  99  601  333  107  147  423   93  231]\n [  40  218  510  159  244  748  118  290]\n [  15   90  275  251  234  477   66  257]\n [  19   99  356  165  564 1513  201  385]\n [  31  138  304  201  721 4866 1464  981]\n [  23   46   30   39  108 1475 1949  408]\n [  92   90   70  322  105  207  147 8659]]\n"
     ],
     "output_type": "stream"
    }
   ],
   "source": [
    "accuracy = accuracy_score(y2_test, y2_pred)\n",
    "f1 = f1_score(y2_test, y2_pred, average='macro')  \n",
    "cf = confusion_matrix(y2_test, y2_pred)\n",
    "\n",
    "print(\"Accuracy: %0.2f\" %accuracy)\n",
    "print(\"F1 score: %0.2f\" %f1)\n",
    "print(\"Confusion Matrix -\", cf)"
   ],
   "metadata": {
    "collapsed": false,
    "pycharm": {
     "name": "#%%\n",
     "is_executing": false
    }
   }
  },
  {
   "cell_type": "code",
   "execution_count": null,
   "outputs": [],
   "source": [],
   "metadata": {
    "collapsed": false,
    "pycharm": {
     "name": "#%%\n"
    }
   }
  }
 ],
 "metadata": {
  "kernelspec": {
   "name": "pycharm-67ea9c55",
   "language": "python",
   "display_name": "PyCharm (dsba6156)"
  },
  "language_info": {
   "codemirror_mode": {
    "name": "ipython",
    "version": 2
   },
   "file_extension": ".py",
   "mimetype": "text/x-python",
   "name": "python",
   "nbconvert_exporter": "python",
   "pygments_lexer": "ipython2",
   "version": "2.7.6"
  },
  "pycharm": {
   "stem_cell": {
    "cell_type": "raw",
    "source": [],
    "metadata": {
     "collapsed": false
    }
   }
  }
 },
 "nbformat": 4,
 "nbformat_minor": 0
}