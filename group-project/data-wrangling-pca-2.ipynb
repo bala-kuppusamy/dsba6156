{
 "cells": [
  {
   "cell_type": "markdown",
   "metadata": {},
   "source": [
    "## Execute PCA Analysis"
   ]
  },
  {
   "cell_type": "code",
   "execution_count": 1,
   "metadata": {
    "collapsed": true,
    "pycharm": {
     "is_executing": false
    }
   },
   "outputs": [],
   "source": [
    "import matplotlib.pyplot as plt\n",
    "import numpy as np\n",
    "import pandas as pd\n",
    "import seaborn as sns\n",
    "from pandas import DataFrame\n",
    "from sklearn.decomposition import PCA\n",
    "from sklearn.preprocessing import MinMaxScaler, LabelEncoder\n",
    "\n",
    "le = LabelEncoder()\n",
    "scalar = MinMaxScaler()\n",
    "sns.set()"
   ]
  },
  {
   "cell_type": "markdown",
   "metadata": {},
   "source": [
    "#### Define functions"
   ]
  },
  {
   "cell_type": "code",
   "execution_count": 2,
   "metadata": {
    "pycharm": {
     "is_executing": false,
     "name": "#%%\n"
    }
   },
   "outputs": [],
   "source": [
    "def run_pca(_df: DataFrame, _comp_max: int) -> list:\n",
    "    _pca = PCA(n_components=_comp_max)\n",
    "    _pca.fit_transform(_df)\n",
    "    _vr = _pca.explained_variance_ratio_.cumsum()\n",
    "    return _vr"
   ]
  },
  {
   "cell_type": "markdown",
   "metadata": {},
   "source": [
    "#### Read Dataset from pickle file"
   ]
  },
  {
   "cell_type": "code",
   "execution_count": 3,
   "metadata": {
    "pycharm": {
     "is_executing": false,
     "name": "#%%\n"
    }
   },
   "outputs": [
    {
     "name": "stdout",
     "output_type": "stream",
     "text": [
      "(98855, 17)\n"
     ]
    }
   ],
   "source": [
    "_master: DataFrame = pd.read_pickle('./data/master.pickle')\n",
    "print(_master.shape)"
   ]
  },
  {
   "cell_type": "markdown",
   "metadata": {},
   "source": [
    "#### Remove the 'brand' column before PCA analysis"
   ]
  },
  {
   "cell_type": "code",
   "execution_count": 4,
   "metadata": {
    "pycharm": {
     "is_executing": false,
     "name": "#%%\n"
    }
   },
   "outputs": [
    {
     "name": "stdout",
     "output_type": "stream",
     "text": [
      "(98855, 16)\n"
     ]
    }
   ],
   "source": [
    "_master_features: DataFrame = _master.drop(columns=['AIFuture'])\n",
    "print(_master_features.shape)"
   ]
  },
  {
   "cell_type": "markdown",
   "metadata": {},
   "source": [
    "#### Encode labels for the categorical variables (to calculate Euclidean distance)"
   ]
  },
  {
   "cell_type": "code",
   "execution_count": 5,
   "metadata": {
    "pycharm": {
     "is_executing": false,
     "name": "#%%\n"
    }
   },
   "outputs": [
    {
     "name": "stdout",
     "output_type": "stream",
     "text": [
      "<class 'pandas.core.frame.DataFrame'>\n",
      "RangeIndex: 98855 entries, 0 to 98854\n",
      "Data columns (total 16 columns):\n",
      "Student               98855 non-null int32\n",
      "FormalEducation       98855 non-null int32\n",
      "EducationParents      98855 non-null int32\n",
      "Employment            98855 non-null int32\n",
      "CompanySize           98855 non-null int32\n",
      "JobSatisfaction       98855 non-null int32\n",
      "CareerSatisfaction    98855 non-null int32\n",
      "LastNewJob            98855 non-null int32\n",
      "HoursComputer         98855 non-null int32\n",
      "HoursOutside          98855 non-null int32\n",
      "AIDangerous           98855 non-null int32\n",
      "AIInteresting         98855 non-null int32\n",
      "AIResponsible         98855 non-null int32\n",
      "Exercise              98855 non-null int32\n",
      "ConvertedSalary       98855 non-null int32\n",
      "Studied_Software      98855 non-null int32\n",
      "dtypes: int32(16)\n",
      "memory usage: 6.0 MB\n"
     ]
    }
   ],
   "source": [
    "_master_encoded: DataFrame = _master_features.apply(le.fit_transform)\n",
    "_master_encoded.info()"
   ]
  },
  {
   "cell_type": "markdown",
   "metadata": {},
   "source": [
    "#### Scale the features based on Min-Max scalar (to calculate Euclidean distance)"
   ]
  },
  {
   "cell_type": "code",
   "execution_count": 6,
   "metadata": {
    "pycharm": {
     "is_executing": false,
     "name": "#%%\n"
    }
   },
   "outputs": [],
   "source": [
    "_master_array = scalar.fit_transform(_master_encoded)\n",
    "_master_scaled = pd.DataFrame(_master_array, columns=list(_master_encoded.columns))"
   ]
  },
  {
   "cell_type": "markdown",
   "metadata": {},
   "source": [
    "#### Running PCA analysis (with maximum 5 components)"
   ]
  },
  {
   "cell_type": "code",
   "execution_count": 7,
   "metadata": {
    "pycharm": {
     "is_executing": false,
     "name": "#%%\n"
    }
   },
   "outputs": [
    {
     "name": "stdout",
     "output_type": "stream",
     "text": [
      "[0.35280316 0.49476934 0.56497163 0.62879045 0.68452443 0.72945484\n",
      " 0.77090796 0.80990345 0.84647333 0.87631447 0.90496007]\n"
     ]
    }
   ],
   "source": [
    "variance_ratio = run_pca(_master_scaled, 11)\n",
    "print(variance_ratio)"
   ]
  },
  {
   "cell_type": "markdown",
   "metadata": {},
   "source": [
    "#### Optimum # of components = 11\n",
    "\n",
    "Since close to 90% of the variance in the data can be explained by 11 components, the optimum number of components that we can retain is 11, without much loss to the variation in the data."
   ]
  },
  {
   "cell_type": "code",
   "execution_count": 8,
   "metadata": {
    "pycharm": {
     "is_executing": false,
     "name": "#%%\n"
    }
   },
   "outputs": [
    {
     "name": "stdout",
     "output_type": "stream",
     "text": [
      "<class 'pandas.core.frame.DataFrame'>\n",
      "RangeIndex: 98855 entries, 0 to 98854\n",
      "Data columns (total 12 columns):\n",
      "PC1         98855 non-null float64\n",
      "PC2         98855 non-null float64\n",
      "PC3         98855 non-null float64\n",
      "PC4         98855 non-null float64\n",
      "PC5         98855 non-null float64\n",
      "PC6         98855 non-null float64\n",
      "PC7         98855 non-null float64\n",
      "PC8         98855 non-null float64\n",
      "PC9         98855 non-null float64\n",
      "PC10        98855 non-null float64\n",
      "PC11        98855 non-null float64\n",
      "AIFuture    98855 non-null category\n",
      "dtypes: category(1), float64(11)\n",
      "memory usage: 8.4 MB\n"
     ]
    }
   ],
   "source": [
    "n_pcs = 11\n",
    "pca_2 = PCA(n_components=n_pcs)\n",
    "components_2 = pca_2.fit_transform(_master_scaled)\n",
    "\n",
    "components_df = pd.DataFrame(data=components_2, columns=['PC1', 'PC2', 'PC3', 'PC4', 'PC5', 'PC6',\n",
    "                                                         'PC7', 'PC8', 'PC9', 'PC10', 'PC11'])\n",
    "\n",
    "components_df_merged = pd.concat([components_df, _master[['AIFuture']]], axis=1)\n",
    "components_df_merged.info()"
   ]
  },
  {
   "cell_type": "markdown",
   "metadata": {},
   "source": [
    "#### Identify the component -> feature correlation"
   ]
  },
  {
   "cell_type": "code",
   "execution_count": 9,
   "metadata": {
    "pycharm": {
     "is_executing": false,
     "name": "#%%\n"
    }
   },
   "outputs": [
    {
     "name": "stdout",
     "output_type": "stream",
     "text": [
      "{'PC1': 'AIResponsible', 'PC2': 'Studied_Software', 'PC3': 'CompanySize', 'PC4': 'AIInteresting', 'PC5': 'CareerSatisfaction', 'PC6': 'EducationParents', 'PC7': 'AIInteresting', 'PC8': 'AIDangerous', 'PC9': 'AIDangerous', 'PC10': 'FormalEducation', 'PC11': 'Student'}\n"
     ]
    }
   ],
   "source": [
    "# print(abs(pca_2.components_))\n",
    "features = list(_master_scaled.columns)\n",
    "\n",
    "_dict = {}\n",
    "for i in range(n_pcs):\n",
    "    idx_max = np.abs(pca_2.components_[i]).argmax()\n",
    "    _dict['PC' + str(i + 1)] = features[idx_max]\n",
    "print(_dict)"
   ]
  },
  {
   "cell_type": "markdown",
   "metadata": {},
   "source": [
    "#### Store the PCA data-frame as pickle file"
   ]
  },
  {
   "cell_type": "code",
   "execution_count": 10,
   "metadata": {
    "pycharm": {
     "is_executing": false,
     "name": "#%%\n"
    }
   },
   "outputs": [
    {
     "name": "stdout",
     "output_type": "stream",
     "text": [
      "DataFrame stored in pickle file...\n"
     ]
    }
   ],
   "source": [
    "components_df_merged.to_pickle('./data/master-pca-2.pickle')\n",
    "print('DataFrame stored in pickle file...')"
   ]
  }
 ],
 "metadata": {
  "kernelspec": {
   "display_name": "PyCharm (dsba6156)",
   "language": "python",
   "name": "pycharm-67ea9c55"
  },
  "language_info": {
   "codemirror_mode": {
    "name": "ipython",
    "version": 3
   },
   "file_extension": ".py",
   "mimetype": "text/x-python",
   "name": "python",
   "nbconvert_exporter": "python",
   "pygments_lexer": "ipython3",
   "version": "3.7.2"
  },
  "pycharm": {
   "stem_cell": {
    "cell_type": "raw",
    "metadata": {
     "collapsed": false
    },
    "source": []
   }
  }
 },
 "nbformat": 4,
 "nbformat_minor": 1
}
