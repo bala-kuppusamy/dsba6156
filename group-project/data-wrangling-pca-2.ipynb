{
 "cells": [
  {
   "cell_type": "markdown",
   "source": [
    "## Execute PCA Analysis"
   ],
   "metadata": {
    "collapsed": false
   }
  },
  {
   "cell_type": "code",
   "execution_count": 1,
   "metadata": {
    "collapsed": true,
    "pycharm": {
     "is_executing": false
    }
   },
   "outputs": [],
   "source": [
    "import matplotlib.pyplot as plt\n",
    "import numpy as np\n",
    "import pandas as pd\n",
    "import seaborn as sns\n",
    "from pandas import DataFrame\n",
    "from sklearn.decomposition import PCA\n",
    "from sklearn.preprocessing import MinMaxScaler, LabelEncoder\n",
    "\n",
    "le = LabelEncoder()\n",
    "scalar = MinMaxScaler()\n",
    "sns.set()"
   ]
  },
  {
   "cell_type": "markdown",
   "source": [
    "#### Define functions"
   ],
   "metadata": {
    "collapsed": false
   }
  },
  {
   "cell_type": "code",
   "execution_count": 2,
   "outputs": [],
   "source": [
    "def run_pca(_df: DataFrame, _comp_max: int) -> list:\n",
    "    _pca = PCA(n_components=_comp_max)\n",
    "    _pca.fit_transform(_df)\n",
    "    _vr = _pca.explained_variance_ratio_.cumsum()\n",
    "    return _vr"
   ],
   "metadata": {
    "collapsed": false,
    "pycharm": {
     "name": "#%%\n",
     "is_executing": false
    }
   }
  },
  {
   "cell_type": "markdown",
   "source": [
    "#### Read Dataset from pickle file"
   ],
   "metadata": {
    "collapsed": false
   }
  },
  {
   "cell_type": "code",
   "execution_count": 3,
   "outputs": [
    {
     "name": "stdout",
     "text": [
      "(98855, 17)\n"
     ],
     "output_type": "stream"
    }
   ],
   "source": [
    "_master: DataFrame = pd.read_pickle('./data/master.pickle')\n",
    "print(_master.shape)"
   ],
   "metadata": {
    "collapsed": false,
    "pycharm": {
     "name": "#%%\n",
     "is_executing": false
    }
   }
  },
  {
   "cell_type": "markdown",
   "source": [
    "#### Remove the 'brand' column before PCA analysis"
   ],
   "metadata": {
    "collapsed": false
   }
  },
  {
   "cell_type": "code",
   "execution_count": 4,
   "outputs": [
    {
     "name": "stdout",
     "text": [
      "(98855, 16)\n"
     ],
     "output_type": "stream"
    }
   ],
   "source": [
    "_master_features: DataFrame = _master.drop(columns=['AIFuture'])\n",
    "print(_master_features.shape)"
   ],
   "metadata": {
    "collapsed": false,
    "pycharm": {
     "name": "#%%\n",
     "is_executing": false
    }
   }
  },
  {
   "cell_type": "markdown",
   "source": [
    "#### Encode labels for the categorical variables (to calculate Euclidean distance)"
   ],
   "metadata": {
    "collapsed": false
   }
  },
  {
   "cell_type": "code",
   "execution_count": 5,
   "outputs": [
    {
     "name": "stdout",
     "text": [
      "<class 'pandas.core.frame.DataFrame'>\nRangeIndex: 98855 entries, 0 to 98854\nData columns (total 16 columns):\nStudent               98855 non-null int32\nFormalEducation       98855 non-null int32\nEducationParents      98855 non-null int32\nEmployment            98855 non-null int32\nCompanySize           98855 non-null int32\nJobSatisfaction       98855 non-null int32\nCareerSatisfaction    98855 non-null int32\nLastNewJob            98855 non-null int32\nHoursComputer         98855 non-null int32\nHoursOutside          98855 non-null int32\nAIDangerous           98855 non-null int32\nAIInteresting         98855 non-null int32\nAIResponsible         98855 non-null int32\nExercise              98855 non-null int32\nConvertedSalary       98855 non-null int32\nStudied_Software      98855 non-null int32\ndtypes: int32(16)\nmemory usage: 6.0 MB\n"
     ],
     "output_type": "stream"
    }
   ],
   "source": [
    "_master_encoded: DataFrame = _master_features.apply(le.fit_transform)\n",
    "_master_encoded.info()"
   ],
   "metadata": {
    "collapsed": false,
    "pycharm": {
     "name": "#%%\n",
     "is_executing": false
    }
   }
  },
  {
   "cell_type": "markdown",
   "source": [
    "#### Scale the features based on Min-Max scalar (to calculate Euclidean distance)"
   ],
   "metadata": {
    "collapsed": false
   }
  },
  {
   "cell_type": "code",
   "execution_count": 6,
   "outputs": [],
   "source": [
    "_master_array = scalar.fit_transform(_master_encoded)\n",
    "_master_scaled = pd.DataFrame(_master_array, columns=list(_master_encoded.columns))"
   ],
   "metadata": {
    "collapsed": false,
    "pycharm": {
     "name": "#%%\n",
     "is_executing": false
    }
   }
  },
  {
   "cell_type": "markdown",
   "source": [
    "#### Running PCA analysis (with maximum 5 components)"
   ],
   "metadata": {
    "collapsed": false
   }
  },
  {
   "cell_type": "code",
   "execution_count": 7,
   "outputs": [
    {
     "name": "stdout",
     "text": [
      "[0.35280316 0.49476934 0.56497163 0.62879045 0.68452443 0.72945484\n 0.77090796 0.80990345 0.84647333 0.87631447 0.90496007]\n"
     ],
     "output_type": "stream"
    }
   ],
   "source": [
    "variance_ratio = run_pca(_master_scaled, 11)\n",
    "print(variance_ratio)"
   ],
   "metadata": {
    "collapsed": false,
    "pycharm": {
     "name": "#%%\n",
     "is_executing": false
    }
   }
  },
  {
   "cell_type": "markdown",
   "source": [
    "#### Optimum # of components = 11\n",
    "\n",
    "Since close to 90% of the variance in the data can be explained by 11 components, the optimum number of components that we can retain is 11, without much loss to the variation in the data."
   ],
   "metadata": {
    "collapsed": false
   }
  },
  {
   "cell_type": "code",
   "execution_count": 8,
   "outputs": [
    {
     "name": "stdout",
     "text": [
      "<class 'pandas.core.frame.DataFrame'>\nRangeIndex: 98855 entries, 0 to 98854\nData columns (total 12 columns):\nPC1         98855 non-null float64\nPC2         98855 non-null float64\nPC3         98855 non-null float64\nPC4         98855 non-null float64\nPC5         98855 non-null float64\nPC6         98855 non-null float64\nPC7         98855 non-null float64\nPC8         98855 non-null float64\nPC9         98855 non-null float64\nPC10        98855 non-null float64\nPC11        98855 non-null float64\nAIFuture    98855 non-null category\ndtypes: category(1), float64(11)\nmemory usage: 8.4 MB\n"
     ],
     "output_type": "stream"
    }
   ],
   "source": [
    "n_pcs = 11\n",
    "pca_2 = PCA(n_components=n_pcs)\n",
    "components_2 = pca_2.fit_transform(_master_scaled)\n",
    "\n",
    "components_df = pd.DataFrame(data=components_2, columns=['PC1', 'PC2', 'PC3', 'PC4', 'PC5', 'PC6',\n",
    "                                                         'PC7', 'PC8', 'PC9', 'PC10', 'PC11'])\n",
    "\n",
    "components_df_merged = pd.concat([components_df, _master[['AIFuture']]], axis=1)\n",
    "components_df_merged.info()"
   ],
   "metadata": {
    "collapsed": false,
    "pycharm": {
     "name": "#%%\n",
     "is_executing": false
    }
   }
  },
  {
   "cell_type": "markdown",
   "source": [
    "#### Identify the component -> feature correlation"
   ],
   "metadata": {
    "collapsed": false
   }
  },
  {
   "cell_type": "code",
   "execution_count": 9,
   "outputs": [
    {
     "name": "stdout",
     "text": [
      "{'PC1': 'AIResponsible', 'PC2': 'Studied_Software', 'PC3': 'CompanySize', 'PC4': 'AIInteresting', 'PC5': 'CareerSatisfaction', 'PC6': 'EducationParents', 'PC7': 'AIInteresting', 'PC8': 'AIDangerous', 'PC9': 'AIDangerous', 'PC10': 'FormalEducation', 'PC11': 'Student'}\n"
     ],
     "output_type": "stream"
    }
   ],
   "source": [
    "# print(abs(pca_2.components_))\n",
    "features = list(_master_scaled.columns)\n",
    "\n",
    "_dict = {}\n",
    "for i in range(n_pcs):\n",
    "    idx_max = np.abs(pca_2.components_[i]).argmax()\n",
    "    _dict['PC' + str(i + 1)] = features[idx_max]\n",
    "print(_dict)"
   ],
   "metadata": {
    "collapsed": false,
    "pycharm": {
     "name": "#%%\n",
     "is_executing": false
    }
   }
  },
  {
   "cell_type": "markdown",
   "source": [
    "#### Store the PCA data-frame as pickle file"
   ],
   "metadata": {
    "collapsed": false
   }
  },
  {
   "cell_type": "code",
   "execution_count": 10,
   "outputs": [
    {
     "name": "stdout",
     "text": [
      "DataFrame stored in pickle file...\n"
     ],
     "output_type": "stream"
    }
   ],
   "source": [
    "components_df_merged.to_pickle('./data/master-pca-2.pickle')\n",
    "print('DataFrame stored in pickle file...')"
   ],
   "metadata": {
    "collapsed": false,
    "pycharm": {
     "name": "#%%\n",
     "is_executing": false
    }
   }
  }
 ],
 "metadata": {
  "kernelspec": {
   "name": "pycharm-67ea9c55",
   "language": "python",
   "display_name": "PyCharm (dsba6156)"
  },
  "language_info": {
   "codemirror_mode": {
    "name": "ipython",
    "version": 2
   },
   "file_extension": ".py",
   "mimetype": "text/x-python",
   "name": "python",
   "nbconvert_exporter": "python",
   "pygments_lexer": "ipython2",
   "version": "2.7.6"
  },
  "pycharm": {
   "stem_cell": {
    "cell_type": "raw",
    "source": [],
    "metadata": {
     "collapsed": false
    }
   }
  }
 },
 "nbformat": 4,
 "nbformat_minor": 0
}