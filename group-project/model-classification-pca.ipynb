{
 "cells": [
  {
   "cell_type": "markdown",
   "metadata": {},
   "source": [
    "## Model building"
   ]
  },
  {
   "cell_type": "code",
   "execution_count": 17,
   "metadata": {
    "collapsed": true,
    "pycharm": {
     "is_executing": false
    }
   },
   "outputs": [],
   "source": [
    "import pandas as pd\n",
    "from pandas import DataFrame\n",
    "from sklearn import tree\n",
    "from sklearn.naive_bayes import BernoulliNB, GaussianNB, MultinomialNB\n",
    "from sklearn.model_selection import train_test_split\n",
    "from sklearn.metrics import accuracy_score, f1_score, precision_score, recall_score, confusion_matrix, classification_report\n",
    "from sklearn.ensemble import RandomForestClassifier\n",
    "from sklearn.linear_model import LogisticRegression\n",
    "\n",
    "import warnings\n",
    "warnings.filterwarnings(\"ignore\")\n",
    "\n",
    "from sklearn import preprocessing\n",
    "le = preprocessing.LabelEncoder()"
   ]
  },
  {
   "cell_type": "markdown",
   "metadata": {},
   "source": [
    "#### Define Functions"
   ]
  },
  {
   "cell_type": "code",
   "execution_count": 18,
   "metadata": {
    "pycharm": {
     "is_executing": false,
     "name": "#%%\n"
    }
   },
   "outputs": [],
   "source": [
    "def run_classification_for_model(_model, _x_train, _x_test, _y_train, _y_test) -> None:\n",
    "    _model.fit(_x_train, _y_train)\n",
    "    _y_pred = _model.predict(_x_test)\n",
    "\n",
    "    print(\"Accuracy: %0.2f\" %accuracy_score(_y_test, _y_pred))\n",
    "    print(\"Precision: %0.2f\" %precision_score(_y_test, _y_pred, average=\"macro\"))\n",
    "    print(\"Recall:  %0.2f\" %recall_score(_y_test, _y_pred, average=\"macro\"))\n",
    "    print(\"F1-score:  %0.2f\" %f1_score(_y_test, _y_pred, average=\"macro\"))\n",
    "\n",
    "    print(confusion_matrix(_y_test, _y_pred))\n",
    "    print(classification_report(_y_test, _y_pred))"
   ]
  },
  {
   "cell_type": "markdown",
   "metadata": {},
   "source": [
    "#### Read training dataset from pickle file"
   ]
  },
  {
   "cell_type": "code",
   "execution_count": 19,
   "metadata": {
    "pycharm": {
     "is_executing": false,
     "name": "#%%\n"
    }
   },
   "outputs": [
    {
     "name": "stdout",
     "text": [
      "(98855, 12)\n"
     ],
     "output_type": "stream"
    }
   ],
   "source": [
    "master: DataFrame = pd.read_pickle('./data/master-pca.pickle')\n",
    "print(master.shape)"
   ]
  },
  {
   "cell_type": "markdown",
   "metadata": {},
   "source": [
    "#### Split dataset into x & y"
   ]
  },
  {
   "cell_type": "code",
   "execution_count": 20,
   "metadata": {
    "pycharm": {
     "is_executing": false,
     "name": "#%%\n"
    }
   },
   "outputs": [],
   "source": [
    "X = master.drop('JobSatisfaction', axis=1)\n",
    "y = master[['JobSatisfaction']]\n",
    "\n",
    "X_train, X_test, y_train, y_test = train_test_split(X, y, test_size=0.33, random_state=42)"
   ]
  },
  {
   "cell_type": "markdown",
   "metadata": {},
   "source": [
    "#### Decision Tree classifier"
   ]
  },
  {
   "cell_type": "code",
   "execution_count": 21,
   "metadata": {
    "pycharm": {
     "is_executing": false,
     "name": "#%%\n"
    }
   },
   "outputs": [
    {
     "name": "stdout",
     "text": [
      "Accuracy: 0.43\nPrecision: 0.27\n",
      "Recall:  0.27\n",
      "F1-score:  0.27\n[[  81  150   94   61  119  180   84   50]\n [ 118  357  275  187  270  507  207  113]\n [ 106  308  301  149  349  715  259  140]\n [  75  187  201  162  232  484  184  140]\n [ 111  299  356  253  537 1090  474  182]\n [ 182  567  755  544 1141 3425 1583  509]\n [  70  215  285  207  477 1557  982  285]\n [  59  119  137  161  208  513  322 8173]]\n",
      "              precision    recall  f1-score   support\n\n           1       0.10      0.10      0.10       819\n           2       0.16      0.18      0.17      2034\n           3       0.13      0.13      0.13      2327\n           4       0.09      0.10      0.10      1665\n           5       0.16      0.16      0.16      3302\n           6       0.40      0.39      0.40      8706\n           7       0.24      0.24      0.24      4078\n           x       0.85      0.84      0.85      9692\n\n    accuracy                           0.43     32623\n   macro avg       0.27      0.27      0.27     32623\nweighted avg       0.43      0.43      0.43     32623\n\n"
     ],
     "output_type": "stream"
    }
   ],
   "source": [
    "model_dt = tree.DecisionTreeClassifier()\n",
    "run_classification_for_model(model_dt, X_train, X_test, y_train, y_test)"
   ]
  },
  {
   "cell_type": "markdown",
   "metadata": {},
   "source": [
    "#### Naive Bayes Classification"
   ]
  },
  {
   "cell_type": "code",
   "execution_count": 22,
   "metadata": {
    "pycharm": {
     "is_executing": false,
     "name": "#%%\n"
    }
   },
   "outputs": [
    {
     "name": "stdout",
     "text": [
      "Accuracy: 0.45\n",
      "Precision: 0.15\nRecall:  0.20\n",
      "F1-score:  0.15\n[[   0    5    0    0    0  677    0  137]\n [   0    9    0    0    0 1701    0  324]\n [   0    5    0    0    0 1924    0  398]\n [   0    3    0    0    0 1304    0  358]\n [   0    9    0    0    0 2676    0  617]\n [   0    7    0    0    0 6936    0 1763]\n [   0    1    0    0    0 3164    0  913]\n [   0    4    0    0    0 1877    0 7811]]\n",
      "              precision    recall  f1-score   support\n\n           1       0.00      0.00      0.00       819\n           2       0.21      0.00      0.01      2034\n           3       0.00      0.00      0.00      2327\n           4       0.00      0.00      0.00      1665\n           5       0.00      0.00      0.00      3302\n           6       0.34      0.80      0.48      8706\n           7       0.00      0.00      0.00      4078\n           x       0.63      0.81      0.71      9692\n\n    accuracy                           0.45     32623\n   macro avg       0.15      0.20      0.15     32623\nweighted avg       0.29      0.45      0.34     32623\n\n"
     ],
     "output_type": "stream"
    }
   ],
   "source": [
    "model_nb = BernoulliNB()\n",
    "run_classification_for_model(model_nb, X_train, X_test, y_train, y_test)"
   ]
  },
  {
   "cell_type": "markdown",
   "source": [
    "#### Random Forest Classification"
   ],
   "metadata": {
    "collapsed": false
   }
  },
  {
   "cell_type": "code",
   "execution_count": 23,
   "outputs": [
    {
     "name": "stdout",
     "text": [
      "Accuracy: 0.48\nPrecision: 0.28\n",
      "Recall:  0.28\n",
      "F1-score:  0.27\n[[  69  197   89   29   79  244   46   66]\n [ 121  408  237   94  251  723   97  103]\n [  79  319  221   89  296 1008  177  138]\n [  42  192  161   77  202  739  110  142]\n [  59  269  255  122  425 1721  268  183]\n [ 107  429  476  227  951 5030 1012  474]\n [  27  126  147   56  318 2398  712  294]\n [  28   77   76   54  114  507  166 8670]]\n",
      "              precision    recall  f1-score   support\n\n           1       0.13      0.08      0.10       819\n           2       0.20      0.20      0.20      2034\n           3       0.13      0.09      0.11      2327\n           4       0.10      0.05      0.06      1665\n           5       0.16      0.13      0.14      3302\n           6       0.41      0.58      0.48      8706\n           7       0.28      0.17      0.21      4078\n           x       0.86      0.89      0.88      9692\n\n    accuracy                           0.48     32623\n   macro avg       0.28      0.28      0.27     32623\nweighted avg       0.45      0.48      0.46     32623\n\n"
     ],
     "output_type": "stream"
    }
   ],
   "source": [
    "model_rf = RandomForestClassifier(n_jobs=10, random_state=0)\n",
    "run_classification_for_model(model_rf, X_train, X_test, y_train, y_test)"
   ],
   "metadata": {
    "collapsed": false,
    "pycharm": {
     "name": "#%%\n",
     "is_executing": false
    }
   }
  },
  {
   "cell_type": "markdown",
   "source": [
    "#### Logistic Regression Classification"
   ],
   "metadata": {
    "collapsed": false
   }
  },
  {
   "cell_type": "code",
   "execution_count": 24,
   "outputs": [
    {
     "name": "stdout",
     "text": [
      "Accuracy: 0.47\nPrecision: 0.16",
      "\nRecall:  0.22\n",
      "F1-score:  0.17\n[[   0  133    0    0    0  613    0   73]\n [   0  204    0    0    0 1663    0  167]\n [   0  109    0    0    0 1901    0  317]\n [   0   52    0    0    0 1306    0  307]\n [   0   59    0    0    0 2716    0  527]\n [   0   88    0    0    0 6820    0 1798]\n [   0   17    0    0    0 2941    0 1120]\n [   0  110    0    0    0 1135    0 8447]]\n",
      "              precision    recall  f1-score   support\n\n           1       0.00      0.00      0.00       819\n           2       0.26      0.10      0.15      2034\n           3       0.00      0.00      0.00      2327\n           4       0.00      0.00      0.00      1665\n           5       0.00      0.00      0.00      3302\n           6       0.36      0.78      0.49      8706\n           7       0.00      0.00      0.00      4078\n           x       0.66      0.87      0.75      9692\n\n    accuracy                           0.47     32623\n   macro avg       0.16      0.22      0.17     32623\nweighted avg       0.31      0.47      0.36     32623\n\n"
     ],
     "output_type": "stream"
    }
   ],
   "source": [
    "model_lr = LogisticRegression()\n",
    "run_classification_for_model(model_lr, X_train, X_test, y_train, y_test)"
   ],
   "metadata": {
    "collapsed": false,
    "pycharm": {
     "name": "#%%\n",
     "is_executing": false
    }
   }
  },
  {
   "cell_type": "markdown",
   "metadata": {},
   "source": [
    "#### Read training dataset - #2 from pickle file"
   ]
  },
  {
   "cell_type": "code",
   "execution_count": 25,
   "metadata": {
    "pycharm": {
     "is_executing": false,
     "name": "#%%\n"
    }
   },
   "outputs": [
    {
     "name": "stdout",
     "text": [
      "(98855, 12)\n"
     ],
     "output_type": "stream"
    }
   ],
   "source": [
    "master_2: DataFrame = pd.read_pickle('./data/master-pca-2.pickle')\n",
    "print(master_2.shape)"
   ]
  },
  {
   "cell_type": "markdown",
   "metadata": {},
   "source": [
    "#### Split dataset - #2 into x & y"
   ]
  },
  {
   "cell_type": "code",
   "execution_count": 26,
   "metadata": {
    "pycharm": {
     "is_executing": false,
     "name": "#%%\n"
    }
   },
   "outputs": [],
   "source": [
    "X2 = master_2.drop('AIFuture', axis=1)\n",
    "y2 = master_2[['AIFuture']]\n",
    "\n",
    "X2_train, X2_test, y2_train, y2_test = train_test_split(X2, y2, test_size=0.33, random_state=42)"
   ]
  },
  {
   "cell_type": "markdown",
   "metadata": {},
   "source": [
    "#### Decision Tree classifier - #2"
   ]
  },
  {
   "cell_type": "code",
   "execution_count": 27,
   "metadata": {
    "pycharm": {
     "is_executing": false,
     "name": "#%%\n"
    }
   },
   "outputs": [
    {
     "name": "stdout",
     "text": [
      "Accuracy: 0.67\nPrecision: 0.49\n",
      "Recall:  0.49\n",
      "F1-score:  0.49\n[[11743  1464  3257   285]\n [ 1227   201   394    92]\n [ 2937   417   934   106]\n [  268    94   101  9103]]\n",
      "              precision    recall  f1-score   support\n\n     EXCITED       0.73      0.70      0.71     16749\n NO-COMMENTS       0.09      0.11      0.10      1914\n     WORRIED       0.20      0.21      0.21      4394\n           x       0.95      0.95      0.95      9566\n\n    accuracy                           0.67     32623\n   macro avg       0.49      0.49      0.49     32623\nweighted avg       0.68      0.67      0.68     32623\n\n"
     ],
     "output_type": "stream"
    }
   ],
   "source": [
    "model_dt_2 = tree.DecisionTreeClassifier()\n",
    "run_classification_for_model(model_dt_2, X2_train, X2_test, y2_train, y2_test)"
   ]
  },
  {
   "cell_type": "markdown",
   "metadata": {},
   "source": [
    "#### Naive Bayes Classification - #2"
   ]
  },
  {
   "cell_type": "code",
   "execution_count": 28,
   "metadata": {
    "pycharm": {
     "is_executing": false,
     "name": "#%%\n"
    }
   },
   "outputs": [
    {
     "name": "stdout",
     "text": [
      "Accuracy: 0.75\n",
      "Precision: 0.38\nRecall:  0.47\n",
      "F1-score:  0.42\n[[15189     0     0  1560]\n [ 1606     0     0   308]\n [ 3889     0     0   505]\n [  213     0     0  9353]]\n",
      "              precision    recall  f1-score   support\n\n     EXCITED       0.73      0.91      0.81     16749\n NO-COMMENTS       0.00      0.00      0.00      1914\n     WORRIED       0.00      0.00      0.00      4394\n           x       0.80      0.98      0.88      9566\n\n    accuracy                           0.75     32623\n   macro avg       0.38      0.47      0.42     32623\nweighted avg       0.61      0.75      0.67     32623\n\n"
     ],
     "output_type": "stream"
    }
   ],
   "source": [
    "model_nb_2 = BernoulliNB()\n",
    "run_classification_for_model(model_nb_2, X2_train, X2_test, y2_train, y2_test)"
   ]
  },
  {
   "cell_type": "markdown",
   "source": [
    "#### Naive Bayes Classification - #2"
   ],
   "metadata": {
    "collapsed": false
   }
  },
  {
   "cell_type": "code",
   "execution_count": 29,
   "outputs": [
    {
     "name": "stdout",
     "text": [
      "Accuracy: 0.75\n",
      "Precision: 0.38\nRecall:  0.47\n",
      "F1-score:  0.42\n[[15189     0     0  1560]\n [ 1606     0     0   308]\n [ 3889     0     0   505]\n [  213     0     0  9353]]\n",
      "              precision    recall  f1-score   support\n\n     EXCITED       0.73      0.91      0.81     16749\n NO-COMMENTS       0.00      0.00      0.00      1914\n     WORRIED       0.00      0.00      0.00      4394\n           x       0.80      0.98      0.88      9566\n\n    accuracy                           0.75     32623\n   macro avg       0.38      0.47      0.42     32623\nweighted avg       0.61      0.75      0.67     32623\n\n"
     ],
     "output_type": "stream"
    }
   ],
   "source": [
    "model_nb_2 = BernoulliNB()\n",
    "run_classification_for_model(model_nb_2, X2_train, X2_test, y2_train, y2_test)"
   ],
   "metadata": {
    "collapsed": false,
    "pycharm": {
     "name": "#%%\n",
     "is_executing": false
    }
   }
  },
  {
   "cell_type": "markdown",
   "source": [
    "#### Random Forest Classification"
   ],
   "metadata": {
    "collapsed": false
   }
  },
  {
   "cell_type": "code",
   "execution_count": 30,
   "outputs": [
    {
     "name": "stdout",
     "text": [
      "Accuracy: 0.78\nPrecision: 0.52\n",
      "Recall:  0.49\n",
      "F1-score:  0.47\n[[15986    73   545   145]\n [ 1749    20    79    66]\n [ 4091    24   215    64]\n [  307    22    29  9208]]\n",
      "              precision    recall  f1-score   support\n\n     EXCITED       0.72      0.95      0.82     16749\n NO-COMMENTS       0.14      0.01      0.02      1914\n     WORRIED       0.25      0.05      0.08      4394\n           x       0.97      0.96      0.97      9566\n\n    accuracy                           0.78     32623\n   macro avg       0.52      0.49      0.47     32623\nweighted avg       0.70      0.78      0.72     32623\n\n"
     ],
     "output_type": "stream"
    }
   ],
   "source": [
    "model_rf_2 = RandomForestClassifier(n_jobs=10, random_state=0)\n",
    "run_classification_for_model(model_rf_2, X2_train, X2_test, y2_train, y2_test)"
   ],
   "metadata": {
    "collapsed": false,
    "pycharm": {
     "name": "#%%\n",
     "is_executing": false
    }
   }
  },
  {
   "cell_type": "markdown",
   "source": [
    "#### Logistic Regression Classification"
   ],
   "metadata": {
    "collapsed": false
   }
  },
  {
   "cell_type": "code",
   "execution_count": 31,
   "outputs": [
    {
     "name": "stdout",
     "text": [
      "Accuracy: 0.79\nPrecision: 0.42",
      "\nRecall:  0.49\n",
      "F1-score:  0.45\n[[16387     0     0   362]\n [ 1780     0     0   134]\n [ 4253     0     0   141]\n [  218     0     0  9348]]\n",
      "              precision    recall  f1-score   support\n\n     EXCITED       0.72      0.98      0.83     16749\n NO-COMMENTS       0.00      0.00      0.00      1914\n     WORRIED       0.00      0.00      0.00      4394\n           x       0.94      0.98      0.96      9566\n\n    accuracy                           0.79     32623\n   macro avg       0.42      0.49      0.45     32623\nweighted avg       0.65      0.79      0.71     32623\n\n"
     ],
     "output_type": "stream"
    }
   ],
   "source": [
    "model_lr_2 = LogisticRegression()\n",
    "run_classification_for_model(model_lr_2, X2_train, X2_test, y2_train, y2_test)"
   ],
   "metadata": {
    "collapsed": false,
    "pycharm": {
     "name": "#%%\n",
     "is_executing": false
    }
   }
  }
 ],
 "metadata": {
  "kernelspec": {
   "display_name": "PyCharm (dsba6156)",
   "language": "python",
   "name": "pycharm-67ea9c55"
  },
  "language_info": {
   "codemirror_mode": {
    "name": "ipython",
    "version": 3
   },
   "file_extension": ".py",
   "mimetype": "text/x-python",
   "name": "python",
   "nbconvert_exporter": "python",
   "pygments_lexer": "ipython3",
   "version": "3.7.2"
  },
  "pycharm": {
   "stem_cell": {
    "cell_type": "raw",
    "source": [],
    "metadata": {
     "collapsed": false
    }
   }
  }
 },
 "nbformat": 4,
 "nbformat_minor": 1
}