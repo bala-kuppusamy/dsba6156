{
 "cells": [
  {
   "cell_type": "markdown",
   "source": [
    "## Model building"
   ],
   "metadata": {
    "collapsed": false
   }
  },
  {
   "cell_type": "code",
   "execution_count": 7,
   "metadata": {
    "collapsed": true,
    "pycharm": {
     "is_executing": false
    }
   },
   "outputs": [],
   "source": [
    "import pandas as pd\n",
    "from pandas import DataFrame\n",
    "from sklearn import tree\n",
    "from sklearn.naive_bayes import BernoulliNB, GaussianNB, MultinomialNB\n",
    "from sklearn.model_selection import train_test_split\n",
    "from sklearn.metrics import accuracy_score, f1_score, precision_score, recall_score, confusion_matrix, classification_report\n",
    "\n",
    "import warnings\n",
    "warnings.filterwarnings(\"ignore\")\n",
    "\n",
    "from sklearn import preprocessing\n",
    "le = preprocessing.LabelEncoder()"
   ]
  },
  {
   "cell_type": "markdown",
   "source": [
    "#### Define Functions"
   ],
   "metadata": {
    "collapsed": false
   }
  },
  {
   "cell_type": "code",
   "execution_count": 8,
   "outputs": [],
   "source": [
    "def run_classification_for_model(_model, _x_train, _x_test, _y_train, _y_test) -> None:\n",
    "    _model.fit(_x_train, _y_train)\n",
    "    _y_pred = _model.predict(_x_test)\n",
    "\n",
    "    print(\"Accuracy: %0.2f\" %accuracy_score(_y_test, _y_pred))\n",
    "    print(\"Precision: %0.2f\" %precision_score(_y_test, _y_pred, average=\"macro\"))\n",
    "    print(\"Recall:  %0.2f\" %recall_score(_y_test, _y_pred, average=\"macro\"))\n",
    "    print(\"F1-score:  %0.2f\" %f1_score(_y_test, _y_pred, average=\"macro\"))\n",
    "\n",
    "    print(confusion_matrix(_y_test, _y_pred))\n",
    "    print(classification_report(_y_test, _y_pred))"
   ],
   "metadata": {
    "collapsed": false,
    "pycharm": {
     "name": "#%%\n",
     "is_executing": false
    }
   }
  },
  {
   "cell_type": "markdown",
   "source": [
    "#### Read training dataset from pickle file"
   ],
   "metadata": {
    "collapsed": false
   }
  },
  {
   "cell_type": "code",
   "execution_count": 9,
   "outputs": [
    {
     "name": "stdout",
     "text": [
      "(98855, 12)\n"
     ],
     "output_type": "stream"
    }
   ],
   "source": [
    "master: DataFrame = pd.read_pickle('./data/master-pca.pickle')\n",
    "print(master.shape)"
   ],
   "metadata": {
    "collapsed": false,
    "pycharm": {
     "name": "#%%\n",
     "is_executing": false
    }
   }
  },
  {
   "cell_type": "markdown",
   "source": [
    "#### Split dataset into x & y"
   ],
   "metadata": {
    "collapsed": false
   }
  },
  {
   "cell_type": "code",
   "execution_count": 10,
   "outputs": [],
   "source": [
    "X = master.drop('JobSatisfaction', axis=1)\n",
    "y = master[['JobSatisfaction']]\n",
    "\n",
    "X_train, X_test, y_train, y_test = train_test_split(X, y, test_size=0.33, random_state=42)"
   ],
   "metadata": {
    "collapsed": false,
    "pycharm": {
     "name": "#%%\n",
     "is_executing": false
    }
   }
  },
  {
   "cell_type": "markdown",
   "source": [
    "#### Decision Tree classifier"
   ],
   "metadata": {
    "collapsed": false
   }
  },
  {
   "cell_type": "code",
   "execution_count": 11,
   "outputs": [
    {
     "name": "stdout",
     "text": [
      "Accuracy: 0.43\nPrecision: 0.26\n",
      "Recall:  0.26\n",
      "F1-score:  0.26\n[[  68  162   88   62  121  191   77   50]\n [ 142  358  277  151  279  508  217  102]\n [ 112  286  291  170  346  703  268  151]\n [  56  182  198  144  245  513  190  137]\n [ 103  299  353  243  510 1150  452  192]\n [ 197  574  738  540 1127 3424 1596  510]\n [  68  221  276  216  468 1528 1003  298]\n [  65  119  147  146  190  508  354 8163]]\n",
      "              precision    recall  f1-score   support\n\n           1       0.08      0.08      0.08       819\n           2       0.16      0.18      0.17      2034\n           3       0.12      0.13      0.12      2327\n           4       0.09      0.09      0.09      1665\n           5       0.16      0.15      0.15      3302\n           6       0.40      0.39      0.40      8706\n           7       0.24      0.25      0.24      4078\n           x       0.85      0.84      0.85      9692\n\n    accuracy                           0.43     32623\n   macro avg       0.26      0.26      0.26     32623\nweighted avg       0.43      0.43      0.43     32623\n\n"
     ],
     "output_type": "stream"
    }
   ],
   "source": [
    "model_dt = tree.DecisionTreeClassifier()\n",
    "run_classification_for_model(model_dt, X_train, X_test, y_train, y_test)"
   ],
   "metadata": {
    "collapsed": false,
    "pycharm": {
     "name": "#%%\n",
     "is_executing": false
    }
   }
  },
  {
   "cell_type": "markdown",
   "source": [
    "#### Naive Bayes"
   ],
   "metadata": {
    "collapsed": false
   }
  },
  {
   "cell_type": "code",
   "execution_count": 12,
   "outputs": [
    {
     "name": "stdout",
     "text": [
      "Accuracy: 0.45\n",
      "Precision: 0.15\nRecall:  0.20\n",
      "F1-score:  0.15\n",
      "[[   0    5    0    0    0  677    0  137]\n [   0    9    0    0    0 1701    0  324]\n [   0    5    0    0    0 1924    0  398]\n [   0    3    0    0    0 1304    0  358]\n [   0    9    0    0    0 2676    0  617]\n [   0    7    0    0    0 6936    0 1763]\n [   0    1    0    0    0 3164    0  913]\n [   0    4    0    0    0 1877    0 7811]]\n",
      "              precision    recall  f1-score   support\n\n           1       0.00      0.00      0.00       819\n           2       0.21      0.00      0.01      2034\n           3       0.00      0.00      0.00      2327\n           4       0.00      0.00      0.00      1665\n           5       0.00      0.00      0.00      3302\n           6       0.34      0.80      0.48      8706\n           7       0.00      0.00      0.00      4078\n           x       0.63      0.81      0.71      9692\n\n    accuracy                           0.45     32623\n   macro avg       0.15      0.20      0.15     32623\nweighted avg       0.29      0.45      0.34     32623\n\n"
     ],
     "output_type": "stream"
    }
   ],
   "source": [
    "model_nb = BernoulliNB()\n",
    "run_classification_for_model(model_nb, X_train, X_test, y_train, y_test)"
   ],
   "metadata": {
    "collapsed": false,
    "pycharm": {
     "name": "#%%\n",
     "is_executing": false
    }
   }
  },
  {
   "cell_type": "markdown",
   "source": [
    "#### Read training dataset - #2 from pickle file"
   ],
   "metadata": {
    "collapsed": false
   }
  },
  {
   "cell_type": "code",
   "execution_count": 13,
   "outputs": [
    {
     "name": "stdout",
     "text": [
      "(98855, 12)\n"
     ],
     "output_type": "stream"
    }
   ],
   "source": [
    "master_2: DataFrame = pd.read_pickle('./data/master-pca-2.pickle')\n",
    "print(master_2.shape)"
   ],
   "metadata": {
    "collapsed": false,
    "pycharm": {
     "name": "#%%\n",
     "is_executing": false
    }
   }
  },
  {
   "cell_type": "markdown",
   "source": [
    "#### Split dataset - #2 into x & y"
   ],
   "metadata": {
    "collapsed": false
   }
  },
  {
   "cell_type": "code",
   "execution_count": 14,
   "outputs": [],
   "source": [
    "X2 = master_2.drop('AIFuture', axis=1)\n",
    "y2 = master_2[['AIFuture']]\n",
    "\n",
    "X2_train, X2_test, y2_train, y2_test = train_test_split(X2, y2, test_size=0.33, random_state=42)"
   ],
   "metadata": {
    "collapsed": false,
    "pycharm": {
     "name": "#%%\n",
     "is_executing": false
    }
   }
  },
  {
   "cell_type": "markdown",
   "source": [
    "#### Decision Tree classifier - #2"
   ],
   "metadata": {
    "collapsed": false
   }
  },
  {
   "cell_type": "code",
   "execution_count": 15,
   "outputs": [
    {
     "name": "stdout",
     "text": [
      "Accuracy: 0.68\nPrecision: 0.49\n",
      "Recall:  0.49\n",
      "F1-score:  0.49\n[[11803  1384  3260   302]\n [ 1238   176   404    96]\n [ 2921   401   969   103]\n [  271    95   107  9093]]\n",
      "              precision    recall  f1-score   support\n\n     EXCITED       0.73      0.70      0.72     16749\n NO-COMMENTS       0.09      0.09      0.09      1914\n     WORRIED       0.20      0.22      0.21      4394\n           x       0.95      0.95      0.95      9566\n\n    accuracy                           0.68     32623\n   macro avg       0.49      0.49      0.49     32623\nweighted avg       0.68      0.68      0.68     32623\n\n"
     ],
     "output_type": "stream"
    }
   ],
   "source": [
    "model_dt_2 = tree.DecisionTreeClassifier()\n",
    "run_classification_for_model(model_dt_2, X2_train, X2_test, y2_train, y2_test)"
   ],
   "metadata": {
    "collapsed": false,
    "pycharm": {
     "name": "#%%\n",
     "is_executing": false
    }
   }
  },
  {
   "cell_type": "markdown",
   "source": [
    "#### Naive Bayes Classification - #2"
   ],
   "metadata": {
    "collapsed": false
   }
  },
  {
   "cell_type": "code",
   "execution_count": 16,
   "outputs": [
    {
     "name": "stdout",
     "text": [
      "Accuracy: 0.75\n",
      "Precision: 0.38\nRecall:  0.47\n",
      "F1-score:  0.42\n[[15189     0     0  1560]\n [ 1606     0     0   308]\n [ 3889     0     0   505]\n [  213     0     0  9353]]\n",
      "              precision    recall  f1-score   support\n\n     EXCITED       0.73      0.91      0.81     16749\n NO-COMMENTS       0.00      0.00      0.00      1914\n     WORRIED       0.00      0.00      0.00      4394\n           x       0.80      0.98      0.88      9566\n\n    accuracy                           0.75     32623\n   macro avg       0.38      0.47      0.42     32623\nweighted avg       0.61      0.75      0.67     32623\n\n"
     ],
     "output_type": "stream"
    }
   ],
   "source": [
    "model_nb_2 = BernoulliNB()\n",
    "run_classification_for_model(model_nb_2, X2_train, X2_test, y2_train, y2_test)\n"
   ],
   "metadata": {
    "collapsed": false,
    "pycharm": {
     "name": "#%%\n",
     "is_executing": false
    }
   }
  }
 ],
 "metadata": {
  "kernelspec": {
   "name": "pycharm-67ea9c55",
   "language": "python",
   "display_name": "PyCharm (dsba6156)"
  },
  "language_info": {
   "codemirror_mode": {
    "name": "ipython",
    "version": 2
   },
   "file_extension": ".py",
   "mimetype": "text/x-python",
   "name": "python",
   "nbconvert_exporter": "python",
   "pygments_lexer": "ipython2",
   "version": "2.7.6"
  },
  "pycharm": {
   "stem_cell": {
    "cell_type": "raw",
    "source": [],
    "metadata": {
     "collapsed": false
    }
   }
  }
 },
 "nbformat": 4,
 "nbformat_minor": 0
}