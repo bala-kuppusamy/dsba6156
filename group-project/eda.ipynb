{
 "cells": [
  {
   "cell_type": "code",
   "execution_count": 1,
   "metadata": {
    "pycharm": {
     "is_executing": false,
     "name": "#%%\n"
    }
   },
   "outputs": [],
   "source": [
    "import pandas as pd\n",
    "from pandas import DataFrame"
   ]
  },
  {
   "cell_type": "code",
   "execution_count": 2,
   "metadata": {
    "pycharm": {
     "is_executing": false,
     "name": "#%%\n"
    }
   },
   "outputs": [],
   "source": [
    "def process_chunk(_chunk: DataFrame) -> None:\n",
    "    print(_chunk.head(3).T)\n",
    "    print(_chunk.shape)\n",
    "    print(_chunk.size)\n",
    "    print(_chunk.describe().T)\n",
    "    print(_chunk.info(verbose=True, null_counts=True))\n",
    "    print(_chunk.dtypes.value_counts())"
   ]
  },
  {
   "cell_type": "code",
   "execution_count": 3,
   "metadata": {
    "pycharm": {
     "is_executing": false,
     "name": "#%%\n"
    }
   },
   "outputs": [
    {
     "name": "stderr",
     "text": [
      "C:\\Users\\balav\\AppData\\Local\\Programs\\Python\\Python37-32\\lib\\site-packages\\IPython\\core\\interactiveshell.py:3058: DtypeWarning: Columns (8,12,13,14,15,16,50,51,52,53,55,56,57,58,59,60,61,62,63,64,65,66,67,68,69,70,71,72,73,74,75,76,77,78,79,80,81,82,83,84,85,93,94,95,96,97,98,99,100,101,102,103,104,105,106,107,108,109,110,111,112,113,114,115,116,117,118,119,120,121,122,123,124,125,126,127,128) have mixed types. Specify dtype option on import or set low_memory=False.\n  interactivity=interactivity, compiler=compiler, result=result)\n"
     ],
     "output_type": "stream"
    }
   ],
   "source": [
    "chunk_size = 10**5\n",
    "data = None\n",
    "\n",
    "# file = './group-project/data/loans.csv'\n",
    "file = './data/survey_results_public-2018.csv'\n",
    "\n",
    "for chunk in pd.read_csv(file, chunksize=chunk_size):\n",
    "    if data is None :\n",
    "        data = chunk\n",
    "    # process_chunk(chunk)"
   ]
  },
  {
   "cell_type": "code",
   "execution_count": 4,
   "metadata": {
    "pycharm": {
     "is_executing": false,
     "name": "#%%\n"
    }
   },
   "outputs": [
    {
     "name": "stdout",
     "text": [
      "(98855, 129)\n12752295\n"
     ],
     "output_type": "stream"
    }
   ],
   "source": [
    "print(data.shape)\n",
    "print(data.size)"
   ]
  },
  {
   "cell_type": "code",
   "execution_count": 5,
   "metadata": {
    "pycharm": {
     "is_executing": false,
     "name": "#%%\n"
    }
   },
   "outputs": [
    {
     "data": {
      "text/plain": "Index(['Respondent', 'Hobby', 'OpenSource', 'Country', 'Student', 'Employment',\n       'FormalEducation', 'UndergradMajor', 'CompanySize', 'DevType',\n       ...\n       'Exercise', 'Gender', 'SexualOrientation', 'EducationParents',\n       'RaceEthnicity', 'Age', 'Dependents', 'MilitaryUS', 'SurveyTooLong',\n       'SurveyEasy'],\n      dtype='object', length=129)"
     },
     "metadata": {},
     "output_type": "execute_result",
     "execution_count": 5
    }
   ],
   "source": [
    "data.columns"
   ]
  },
  {
   "cell_type": "code",
   "execution_count": 6,
   "metadata": {
    "pycharm": {
     "is_executing": false,
     "name": "#%%\n"
    }
   },
   "outputs": [
    {
     "data": {
      "text/plain": "                         count          mean            std  min      25%  \\\nRespondent             98855.0  50822.971635   29321.650410  1.0  25443.5   \nAssessJob1             66985.0      6.397089       2.788428  1.0      4.0   \nAssessJob2             66985.0      6.673524       2.531202  1.0      5.0   \nAssessJob3             66985.0      5.906875       2.642734  1.0      4.0   \nAssessJob4             66985.0      4.065791       2.541196  1.0      2.0   \nAssessJob5             66985.0      3.953243       2.520499  1.0      2.0   \nAssessJob6             66985.0      4.407196       2.502069  1.0      2.0   \nAssessJob7             66985.0      5.673181       2.923998  1.0      3.0   \nAssessJob8             66985.0      4.225200       2.507411  1.0      2.0   \nAssessJob9             66985.0      7.640009       2.407457  1.0      6.0   \nAssessJob10            66985.0      6.057804       2.663405  1.0      4.0   \nAssessBenefits1        64918.0      1.884177       1.880973  1.0      1.0   \nAssessBenefits2        64918.0      6.080609       3.080841  1.0      3.0   \nAssessBenefits3        64918.0      4.450553       2.808365  1.0      2.0   \nAssessBenefits4        64918.0      7.563218       2.830099  1.0      5.0   \nAssessBenefits5        64918.0      7.068101       2.638513  1.0      5.0   \nAssessBenefits6        64918.0      5.765581       2.851319  1.0      3.0   \nAssessBenefits7        64918.0      6.948196       2.746491  1.0      5.0   \nAssessBenefits8        64918.0      5.615053       2.782918  1.0      3.0   \nAssessBenefits9        64918.0      7.920746       2.765758  1.0      6.0   \nAssessBenefits10       64918.0      6.865061       2.687617  1.0      5.0   \nAssessBenefits11       64917.0      5.838625       2.706479  1.0      4.0   \nJobContactPriorities1  48706.0      3.035396       1.326079  1.0      2.0   \nJobContactPriorities2  48706.0      1.560588       0.906463  1.0      1.0   \nJobContactPriorities3  48706.0      3.849998       1.315095  1.0      3.0   \nJobContactPriorities4  48706.0      3.005112       1.160622  1.0      2.0   \nJobContactPriorities5  48706.0      3.548906       1.116461  1.0      3.0   \nJobEmailPriorities1    46213.0      3.709541       2.071172  1.0      2.0   \nJobEmailPriorities2    46213.0      4.224309       1.842500  1.0      3.0   \nJobEmailPriorities3    46213.0      3.796572       2.082178  1.0      2.0   \nJobEmailPriorities4    46213.0      3.015602       1.651321  1.0      2.0   \nJobEmailPriorities5    46213.0      3.443338       1.983163  1.0      2.0   \nJobEmailPriorities6    46213.0      4.974250       1.860630  1.0      4.0   \nJobEmailPriorities7    46213.0      4.836388       1.659844  1.0      4.0   \nConvertedSalary        47702.0  95780.861788  202348.215625  0.0  23844.0   \nAdsPriorities1         60479.0      2.726880       1.881078  1.0      1.0   \nAdsPriorities2         60479.0      3.805784       1.821323  1.0      2.0   \nAdsPriorities3         60479.0      3.340945       1.673485  1.0      2.0   \nAdsPriorities4         60479.0      3.782470       1.844864  1.0      2.0   \nAdsPriorities5         60479.0      4.383604       1.931746  1.0      3.0   \nAdsPriorities6         60479.0      5.138809       1.853249  1.0      4.0   \nAdsPriorities7         60479.0      4.821459       1.874895  1.0      3.0   \n\n                           50%      75%        max  \nRespondent             50823.0  76219.5   101592.0  \nAssessJob1                 7.0      9.0       10.0  \nAssessJob2                 7.0      9.0       10.0  \nAssessJob3                 6.0      8.0       10.0  \nAssessJob4                 4.0      6.0       10.0  \nAssessJob5                 3.0      6.0       10.0  \nAssessJob6                 4.0      6.0       10.0  \nAssessJob7                 6.0      8.0       10.0  \nAssessJob8                 4.0      6.0       10.0  \nAssessJob9                 8.0     10.0       10.0  \nAssessJob10                6.0      8.0       10.0  \nAssessBenefits1            1.0      2.0       11.0  \nAssessBenefits2            6.0      9.0       11.0  \nAssessBenefits3            4.0      6.0       11.0  \nAssessBenefits4            8.0     10.0       11.0  \nAssessBenefits5            7.0      9.0       11.0  \nAssessBenefits6            5.0      8.0       11.0  \nAssessBenefits7            7.0      9.0       11.0  \nAssessBenefits8            5.0      8.0       11.0  \nAssessBenefits9            9.0     10.0       11.0  \nAssessBenefits10           7.0      9.0       11.0  \nAssessBenefits11           6.0      8.0       11.0  \nJobContactPriorities1      3.0      4.0        5.0  \nJobContactPriorities2      1.0      2.0        5.0  \nJobContactPriorities3      4.0      5.0        5.0  \nJobContactPriorities4      3.0      4.0        5.0  \nJobContactPriorities5      4.0      4.0        5.0  \nJobEmailPriorities1        4.0      6.0        7.0  \nJobEmailPriorities2        4.0      6.0        7.0  \nJobEmailPriorities3        4.0      6.0        7.0  \nJobEmailPriorities4        3.0      4.0        7.0  \nJobEmailPriorities5        3.0      5.0        7.0  \nJobEmailPriorities6        5.0      7.0        7.0  \nJobEmailPriorities7        5.0      6.0        7.0  \nConvertedSalary        55075.0  93000.0  2000000.0  \nAdsPriorities1             2.0      4.0        7.0  \nAdsPriorities2             4.0      5.0        7.0  \nAdsPriorities3             3.0      5.0        7.0  \nAdsPriorities4             4.0      5.0        7.0  \nAdsPriorities5             5.0      6.0        7.0  \nAdsPriorities6             6.0      7.0        7.0  \nAdsPriorities7             5.0      7.0        7.0  ",
      "text/html": "<div>\n<style scoped>\n    .dataframe tbody tr th:only-of-type {\n        vertical-align: middle;\n    }\n\n    .dataframe tbody tr th {\n        vertical-align: top;\n    }\n\n    .dataframe thead th {\n        text-align: right;\n    }\n</style>\n<table border=\"1\" class=\"dataframe\">\n  <thead>\n    <tr style=\"text-align: right;\">\n      <th></th>\n      <th>count</th>\n      <th>mean</th>\n      <th>std</th>\n      <th>min</th>\n      <th>25%</th>\n      <th>50%</th>\n      <th>75%</th>\n      <th>max</th>\n    </tr>\n  </thead>\n  <tbody>\n    <tr>\n      <td>Respondent</td>\n      <td>98855.0</td>\n      <td>50822.971635</td>\n      <td>29321.650410</td>\n      <td>1.0</td>\n      <td>25443.5</td>\n      <td>50823.0</td>\n      <td>76219.5</td>\n      <td>101592.0</td>\n    </tr>\n    <tr>\n      <td>AssessJob1</td>\n      <td>66985.0</td>\n      <td>6.397089</td>\n      <td>2.788428</td>\n      <td>1.0</td>\n      <td>4.0</td>\n      <td>7.0</td>\n      <td>9.0</td>\n      <td>10.0</td>\n    </tr>\n    <tr>\n      <td>AssessJob2</td>\n      <td>66985.0</td>\n      <td>6.673524</td>\n      <td>2.531202</td>\n      <td>1.0</td>\n      <td>5.0</td>\n      <td>7.0</td>\n      <td>9.0</td>\n      <td>10.0</td>\n    </tr>\n    <tr>\n      <td>AssessJob3</td>\n      <td>66985.0</td>\n      <td>5.906875</td>\n      <td>2.642734</td>\n      <td>1.0</td>\n      <td>4.0</td>\n      <td>6.0</td>\n      <td>8.0</td>\n      <td>10.0</td>\n    </tr>\n    <tr>\n      <td>AssessJob4</td>\n      <td>66985.0</td>\n      <td>4.065791</td>\n      <td>2.541196</td>\n      <td>1.0</td>\n      <td>2.0</td>\n      <td>4.0</td>\n      <td>6.0</td>\n      <td>10.0</td>\n    </tr>\n    <tr>\n      <td>AssessJob5</td>\n      <td>66985.0</td>\n      <td>3.953243</td>\n      <td>2.520499</td>\n      <td>1.0</td>\n      <td>2.0</td>\n      <td>3.0</td>\n      <td>6.0</td>\n      <td>10.0</td>\n    </tr>\n    <tr>\n      <td>AssessJob6</td>\n      <td>66985.0</td>\n      <td>4.407196</td>\n      <td>2.502069</td>\n      <td>1.0</td>\n      <td>2.0</td>\n      <td>4.0</td>\n      <td>6.0</td>\n      <td>10.0</td>\n    </tr>\n    <tr>\n      <td>AssessJob7</td>\n      <td>66985.0</td>\n      <td>5.673181</td>\n      <td>2.923998</td>\n      <td>1.0</td>\n      <td>3.0</td>\n      <td>6.0</td>\n      <td>8.0</td>\n      <td>10.0</td>\n    </tr>\n    <tr>\n      <td>AssessJob8</td>\n      <td>66985.0</td>\n      <td>4.225200</td>\n      <td>2.507411</td>\n      <td>1.0</td>\n      <td>2.0</td>\n      <td>4.0</td>\n      <td>6.0</td>\n      <td>10.0</td>\n    </tr>\n    <tr>\n      <td>AssessJob9</td>\n      <td>66985.0</td>\n      <td>7.640009</td>\n      <td>2.407457</td>\n      <td>1.0</td>\n      <td>6.0</td>\n      <td>8.0</td>\n      <td>10.0</td>\n      <td>10.0</td>\n    </tr>\n    <tr>\n      <td>AssessJob10</td>\n      <td>66985.0</td>\n      <td>6.057804</td>\n      <td>2.663405</td>\n      <td>1.0</td>\n      <td>4.0</td>\n      <td>6.0</td>\n      <td>8.0</td>\n      <td>10.0</td>\n    </tr>\n    <tr>\n      <td>AssessBenefits1</td>\n      <td>64918.0</td>\n      <td>1.884177</td>\n      <td>1.880973</td>\n      <td>1.0</td>\n      <td>1.0</td>\n      <td>1.0</td>\n      <td>2.0</td>\n      <td>11.0</td>\n    </tr>\n    <tr>\n      <td>AssessBenefits2</td>\n      <td>64918.0</td>\n      <td>6.080609</td>\n      <td>3.080841</td>\n      <td>1.0</td>\n      <td>3.0</td>\n      <td>6.0</td>\n      <td>9.0</td>\n      <td>11.0</td>\n    </tr>\n    <tr>\n      <td>AssessBenefits3</td>\n      <td>64918.0</td>\n      <td>4.450553</td>\n      <td>2.808365</td>\n      <td>1.0</td>\n      <td>2.0</td>\n      <td>4.0</td>\n      <td>6.0</td>\n      <td>11.0</td>\n    </tr>\n    <tr>\n      <td>AssessBenefits4</td>\n      <td>64918.0</td>\n      <td>7.563218</td>\n      <td>2.830099</td>\n      <td>1.0</td>\n      <td>5.0</td>\n      <td>8.0</td>\n      <td>10.0</td>\n      <td>11.0</td>\n    </tr>\n    <tr>\n      <td>AssessBenefits5</td>\n      <td>64918.0</td>\n      <td>7.068101</td>\n      <td>2.638513</td>\n      <td>1.0</td>\n      <td>5.0</td>\n      <td>7.0</td>\n      <td>9.0</td>\n      <td>11.0</td>\n    </tr>\n    <tr>\n      <td>AssessBenefits6</td>\n      <td>64918.0</td>\n      <td>5.765581</td>\n      <td>2.851319</td>\n      <td>1.0</td>\n      <td>3.0</td>\n      <td>5.0</td>\n      <td>8.0</td>\n      <td>11.0</td>\n    </tr>\n    <tr>\n      <td>AssessBenefits7</td>\n      <td>64918.0</td>\n      <td>6.948196</td>\n      <td>2.746491</td>\n      <td>1.0</td>\n      <td>5.0</td>\n      <td>7.0</td>\n      <td>9.0</td>\n      <td>11.0</td>\n    </tr>\n    <tr>\n      <td>AssessBenefits8</td>\n      <td>64918.0</td>\n      <td>5.615053</td>\n      <td>2.782918</td>\n      <td>1.0</td>\n      <td>3.0</td>\n      <td>5.0</td>\n      <td>8.0</td>\n      <td>11.0</td>\n    </tr>\n    <tr>\n      <td>AssessBenefits9</td>\n      <td>64918.0</td>\n      <td>7.920746</td>\n      <td>2.765758</td>\n      <td>1.0</td>\n      <td>6.0</td>\n      <td>9.0</td>\n      <td>10.0</td>\n      <td>11.0</td>\n    </tr>\n    <tr>\n      <td>AssessBenefits10</td>\n      <td>64918.0</td>\n      <td>6.865061</td>\n      <td>2.687617</td>\n      <td>1.0</td>\n      <td>5.0</td>\n      <td>7.0</td>\n      <td>9.0</td>\n      <td>11.0</td>\n    </tr>\n    <tr>\n      <td>AssessBenefits11</td>\n      <td>64917.0</td>\n      <td>5.838625</td>\n      <td>2.706479</td>\n      <td>1.0</td>\n      <td>4.0</td>\n      <td>6.0</td>\n      <td>8.0</td>\n      <td>11.0</td>\n    </tr>\n    <tr>\n      <td>JobContactPriorities1</td>\n      <td>48706.0</td>\n      <td>3.035396</td>\n      <td>1.326079</td>\n      <td>1.0</td>\n      <td>2.0</td>\n      <td>3.0</td>\n      <td>4.0</td>\n      <td>5.0</td>\n    </tr>\n    <tr>\n      <td>JobContactPriorities2</td>\n      <td>48706.0</td>\n      <td>1.560588</td>\n      <td>0.906463</td>\n      <td>1.0</td>\n      <td>1.0</td>\n      <td>1.0</td>\n      <td>2.0</td>\n      <td>5.0</td>\n    </tr>\n    <tr>\n      <td>JobContactPriorities3</td>\n      <td>48706.0</td>\n      <td>3.849998</td>\n      <td>1.315095</td>\n      <td>1.0</td>\n      <td>3.0</td>\n      <td>4.0</td>\n      <td>5.0</td>\n      <td>5.0</td>\n    </tr>\n    <tr>\n      <td>JobContactPriorities4</td>\n      <td>48706.0</td>\n      <td>3.005112</td>\n      <td>1.160622</td>\n      <td>1.0</td>\n      <td>2.0</td>\n      <td>3.0</td>\n      <td>4.0</td>\n      <td>5.0</td>\n    </tr>\n    <tr>\n      <td>JobContactPriorities5</td>\n      <td>48706.0</td>\n      <td>3.548906</td>\n      <td>1.116461</td>\n      <td>1.0</td>\n      <td>3.0</td>\n      <td>4.0</td>\n      <td>4.0</td>\n      <td>5.0</td>\n    </tr>\n    <tr>\n      <td>JobEmailPriorities1</td>\n      <td>46213.0</td>\n      <td>3.709541</td>\n      <td>2.071172</td>\n      <td>1.0</td>\n      <td>2.0</td>\n      <td>4.0</td>\n      <td>6.0</td>\n      <td>7.0</td>\n    </tr>\n    <tr>\n      <td>JobEmailPriorities2</td>\n      <td>46213.0</td>\n      <td>4.224309</td>\n      <td>1.842500</td>\n      <td>1.0</td>\n      <td>3.0</td>\n      <td>4.0</td>\n      <td>6.0</td>\n      <td>7.0</td>\n    </tr>\n    <tr>\n      <td>JobEmailPriorities3</td>\n      <td>46213.0</td>\n      <td>3.796572</td>\n      <td>2.082178</td>\n      <td>1.0</td>\n      <td>2.0</td>\n      <td>4.0</td>\n      <td>6.0</td>\n      <td>7.0</td>\n    </tr>\n    <tr>\n      <td>JobEmailPriorities4</td>\n      <td>46213.0</td>\n      <td>3.015602</td>\n      <td>1.651321</td>\n      <td>1.0</td>\n      <td>2.0</td>\n      <td>3.0</td>\n      <td>4.0</td>\n      <td>7.0</td>\n    </tr>\n    <tr>\n      <td>JobEmailPriorities5</td>\n      <td>46213.0</td>\n      <td>3.443338</td>\n      <td>1.983163</td>\n      <td>1.0</td>\n      <td>2.0</td>\n      <td>3.0</td>\n      <td>5.0</td>\n      <td>7.0</td>\n    </tr>\n    <tr>\n      <td>JobEmailPriorities6</td>\n      <td>46213.0</td>\n      <td>4.974250</td>\n      <td>1.860630</td>\n      <td>1.0</td>\n      <td>4.0</td>\n      <td>5.0</td>\n      <td>7.0</td>\n      <td>7.0</td>\n    </tr>\n    <tr>\n      <td>JobEmailPriorities7</td>\n      <td>46213.0</td>\n      <td>4.836388</td>\n      <td>1.659844</td>\n      <td>1.0</td>\n      <td>4.0</td>\n      <td>5.0</td>\n      <td>6.0</td>\n      <td>7.0</td>\n    </tr>\n    <tr>\n      <td>ConvertedSalary</td>\n      <td>47702.0</td>\n      <td>95780.861788</td>\n      <td>202348.215625</td>\n      <td>0.0</td>\n      <td>23844.0</td>\n      <td>55075.0</td>\n      <td>93000.0</td>\n      <td>2000000.0</td>\n    </tr>\n    <tr>\n      <td>AdsPriorities1</td>\n      <td>60479.0</td>\n      <td>2.726880</td>\n      <td>1.881078</td>\n      <td>1.0</td>\n      <td>1.0</td>\n      <td>2.0</td>\n      <td>4.0</td>\n      <td>7.0</td>\n    </tr>\n    <tr>\n      <td>AdsPriorities2</td>\n      <td>60479.0</td>\n      <td>3.805784</td>\n      <td>1.821323</td>\n      <td>1.0</td>\n      <td>2.0</td>\n      <td>4.0</td>\n      <td>5.0</td>\n      <td>7.0</td>\n    </tr>\n    <tr>\n      <td>AdsPriorities3</td>\n      <td>60479.0</td>\n      <td>3.340945</td>\n      <td>1.673485</td>\n      <td>1.0</td>\n      <td>2.0</td>\n      <td>3.0</td>\n      <td>5.0</td>\n      <td>7.0</td>\n    </tr>\n    <tr>\n      <td>AdsPriorities4</td>\n      <td>60479.0</td>\n      <td>3.782470</td>\n      <td>1.844864</td>\n      <td>1.0</td>\n      <td>2.0</td>\n      <td>4.0</td>\n      <td>5.0</td>\n      <td>7.0</td>\n    </tr>\n    <tr>\n      <td>AdsPriorities5</td>\n      <td>60479.0</td>\n      <td>4.383604</td>\n      <td>1.931746</td>\n      <td>1.0</td>\n      <td>3.0</td>\n      <td>5.0</td>\n      <td>6.0</td>\n      <td>7.0</td>\n    </tr>\n    <tr>\n      <td>AdsPriorities6</td>\n      <td>60479.0</td>\n      <td>5.138809</td>\n      <td>1.853249</td>\n      <td>1.0</td>\n      <td>4.0</td>\n      <td>6.0</td>\n      <td>7.0</td>\n      <td>7.0</td>\n    </tr>\n    <tr>\n      <td>AdsPriorities7</td>\n      <td>60479.0</td>\n      <td>4.821459</td>\n      <td>1.874895</td>\n      <td>1.0</td>\n      <td>3.0</td>\n      <td>5.0</td>\n      <td>7.0</td>\n      <td>7.0</td>\n    </tr>\n  </tbody>\n</table>\n</div>"
     },
     "metadata": {},
     "output_type": "execute_result",
     "execution_count": 6
    }
   ],
   "source": [
    "data.describe().T"
   ]
  },
  {
   "cell_type": "code",
   "execution_count": 7,
   "metadata": {
    "pycharm": {
     "is_executing": false,
     "name": "#%%\n"
    }
   },
   "outputs": [
    {
     "name": "stdout",
     "text": [
      "<class 'pandas.core.frame.DataFrame'>\nRangeIndex: 98855 entries, 0 to 98854\nData columns (total 129 columns):\nRespondent                     98855 non-null int64\nHobby                          98855 non-null object\nOpenSource                     98855 non-null object\nCountry                        98443 non-null object\nStudent                        94901 non-null object\nEmployment                     95321 non-null object\nFormalEducation                94703 non-null object\nUndergradMajor                 79036 non-null object\nCompanySize                    71531 non-null object\nDevType                        92098 non-null object\nYearsCoding                    93835 non-null object\nYearsCodingProf                77903 non-null object\nJobSatisfaction                69276 non-null object\nCareerSatisfaction             76504 non-null object\nHopeFiveYears                  75718 non-null object\nJobSearchStatus                79488 non-null object\nLastNewJob                     78889 non-null object\nAssessJob1                     66985 non-null float64\nAssessJob2                     66985 non-null float64\nAssessJob3                     66985 non-null float64\nAssessJob4                     66985 non-null float64\nAssessJob5                     66985 non-null float64\nAssessJob6                     66985 non-null float64\nAssessJob7                     66985 non-null float64\nAssessJob8                     66985 non-null float64\nAssessJob9                     66985 non-null float64\nAssessJob10                    66985 non-null float64\nAssessBenefits1                64918 non-null float64\nAssessBenefits2                64918 non-null float64\nAssessBenefits3                64918 non-null float64\nAssessBenefits4                64918 non-null float64\nAssessBenefits5                64918 non-null float64\nAssessBenefits6                64918 non-null float64\nAssessBenefits7                64918 non-null float64\nAssessBenefits8                64918 non-null float64\nAssessBenefits9                64918 non-null float64\nAssessBenefits10               64918 non-null float64\nAssessBenefits11               64917 non-null float64\nJobContactPriorities1          48706 non-null float64\nJobContactPriorities2          48706 non-null float64\nJobContactPriorities3          48706 non-null float64\nJobContactPriorities4          48706 non-null float64\nJobContactPriorities5          48706 non-null float64\nJobEmailPriorities1            46213 non-null float64\nJobEmailPriorities2            46213 non-null float64\nJobEmailPriorities3            46213 non-null float64\nJobEmailPriorities4            46213 non-null float64\nJobEmailPriorities5            46213 non-null float64\nJobEmailPriorities6            46213 non-null float64\nJobEmailPriorities7            46213 non-null float64\nUpdateCV                       65539 non-null object\nCurrency                       62008 non-null object\nSalary                         50578 non-null object\nSalaryType                     51070 non-null object\nConvertedSalary                47702 non-null float64\nCurrencySymbol                 58650 non-null object\nCommunicationTools             56970 non-null object\nTimeFullyProductive            51872 non-null object\nEducationTypes                 67960 non-null object\nSelfTaughtTypes                57354 non-null object\nTimeAfterBootcamp              6652 non-null object\nHackathonReasons               25691 non-null object\nAgreeDisagree1                 68217 non-null object\nAgreeDisagree2                 68346 non-null object\nAgreeDisagree3                 68364 non-null object\nLanguageWorkedWith             78334 non-null object\nLanguageDesireNextYear         73244 non-null object\nDatabaseWorkedWith             66270 non-null object\nDatabaseDesireNextYear         57498 non-null object\nPlatformWorkedWith             65999 non-null object\nPlatformDesireNextYear         61353 non-null object\nFrameworkWorkedWith            51620 non-null object\nFrameworkDesireNextYear        55218 non-null object\nIDE                            75398 non-null object\nOperatingSystem                76179 non-null object\nNumberMonitors                 76398 non-null object\nMethodology                    58981 non-null object\nVersionControl                 74298 non-null object\nCheckInCode                    72355 non-null object\nAdBlocker                      76055 non-null object\nAdBlockerDisable               54898 non-null object\nAdBlockerReasons               37745 non-null object\nAdsAgreeDisagree1              74485 non-null object\nAdsAgreeDisagree2              74413 non-null object\nAdsAgreeDisagree3              74414 non-null object\nAdsActions                     59514 non-null object\nAdsPriorities1                 60479 non-null float64\nAdsPriorities2                 60479 non-null float64\nAdsPriorities3                 60479 non-null float64\nAdsPriorities4                 60479 non-null float64\nAdsPriorities5                 60479 non-null float64\nAdsPriorities6                 60479 non-null float64\nAdsPriorities7                 60479 non-null float64\nAIDangerous                    63115 non-null object\nAIInteresting                  65367 non-null object\nAIResponsible                  65553 non-null object\nAIFuture                       69728 non-null object\nEthicsChoice                   70782 non-null object\nEthicsReport                   70426 non-null object\nEthicsResponsible              64540 non-null object\nEthicalImplications            69309 non-null object\nStackOverflowRecommend         76489 non-null object\nStackOverflowVisit             76811 non-null object\nStackOverflowHasAccount        76791 non-null object\nStackOverflowParticipate       65740 non-null object\nStackOverflowJobs              75297 non-null object\nStackOverflowDevStory          65677 non-null object\nStackOverflowJobsRecommend     38317 non-null object\nStackOverflowConsiderMember    76007 non-null object\nHypotheticalTools1             70068 non-null object\nHypotheticalTools2             70052 non-null object\nHypotheticalTools3             69999 non-null object\nHypotheticalTools4             69986 non-null object\nHypotheticalTools5             70045 non-null object\nWakeTime                       72146 non-null object\nHoursComputer                  72133 non-null object\nHoursOutside                   72024 non-null object\nSkipMeals                      71946 non-null object\nErgonomicDevices               34058 non-null object\nExercise                       72108 non-null object\nGender                         64469 non-null object\nSexualOrientation              59765 non-null object\nEducationParents               61813 non-null object\nRaceEthnicity                  57473 non-null object\nAge                            64574 non-null object\nDependents                     62596 non-null object\nMilitaryUS                     15781 non-null object\nSurveyTooLong                  65941 non-null object\nSurveyEasy                     65879 non-null object\ndtypes: float64(41), int64(1), object(87)\nmemory usage: 64.5+ MB\n"
     ],
     "output_type": "stream"
    }
   ],
   "source": [
    "data.info(verbose=True, null_counts=True)"
   ]
  },
  {
   "cell_type": "code",
   "execution_count": 8,
   "metadata": {
    "pycharm": {
     "is_executing": false,
     "name": "#%%\n"
    }
   },
   "outputs": [
    {
     "data": {
      "text/plain": "object     87\nfloat64    41\nint64       1\ndtype: int64"
     },
     "metadata": {},
     "output_type": "execute_result",
     "execution_count": 8
    }
   ],
   "source": [
    "data.dtypes.value_counts()\n"
   ]
  }
 ],
 "metadata": {
  "kernelspec": {
   "display_name": "PyCharm (dsba6156)",
   "language": "python",
   "name": "pycharm-67ea9c55"
  },
  "language_info": {
   "codemirror_mode": {
    "name": "ipython",
    "version": 3
   },
   "file_extension": ".py",
   "mimetype": "text/x-python",
   "name": "python",
   "nbconvert_exporter": "python",
   "pygments_lexer": "ipython3",
   "version": "3.7.2"
  },
  "pycharm": {
   "stem_cell": {
    "cell_type": "raw",
    "source": [],
    "metadata": {
     "collapsed": false
    }
   }
  }
 },
 "nbformat": 4,
 "nbformat_minor": 1
}