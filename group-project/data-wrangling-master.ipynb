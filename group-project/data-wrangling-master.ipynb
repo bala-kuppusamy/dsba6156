{
 "cells": [
  {
   "cell_type": "markdown",
   "metadata": {},
   "source": [
    "## Data wrangling - 'master' dataset"
   ]
  },
  {
   "cell_type": "code",
   "execution_count": 1,
   "metadata": {
    "collapsed": true,
    "pycharm": {
     "is_executing": false
    }
   },
   "outputs": [],
   "source": [
    "# import numpy as np\n",
    "import pandas as pd\n",
    "from pandas import DataFrame\n",
    "\n",
    "import warnings\n",
    "warnings.filterwarnings(\"ignore\")"
   ]
  },
  {
   "cell_type": "markdown",
   "metadata": {},
   "source": [
    "#### Read dataset from file"
   ]
  },
  {
   "cell_type": "code",
   "execution_count": 7,
   "metadata": {
    "pycharm": {
     "is_executing": false,
     "name": "#%%\n"
    }
   },
   "outputs": [
    {
     "name": "stdout",
     "text": [
      "(98855, 129)\n"
     ],
     "output_type": "stream"
    }
   ],
   "source": [
    "# master: DataFrame = pd.read_csv('./data/survey_results_public-2018.csv')\n",
    "master: DataFrame = pd.read_csv('./data/survey_results_public-2018.csv')\n",
    "print(master.shape)"
   ]
  },
  {
   "cell_type": "markdown",
   "source": [
    "#### Define dictionaries to make certain verbose data into concise definitions"
   ],
   "metadata": {
    "collapsed": false
   }
  },
  {
   "cell_type": "code",
   "execution_count": 8,
   "outputs": [],
   "source": [
    "student_dict = {\n",
    "    'No': 'NO', \n",
    "    'Yes, full-time': 'FULL-TIME', \n",
    "    'Yes, part-time': 'PART-TIME',\n",
    "}\n",
    "# student_map = pd.DataFrame(data=student_original, columns=['Original', 'Modified'])\n",
    "\n",
    "employment_dict = {\n",
    "    'Employed full-time': 'FULL-TIME', \n",
    "    'Independent contractor, freelancer, or self-employed': 'CONTRACTOR', \n",
    "    'Not employed, but looking for work': 'LOOKING', \n",
    "    'Employed part-time': 'PART-TIME', \n",
    "    'Not employed, and not looking for work': 'NOT-LOOKING', \n",
    "    'Retired': 'RETIRED',\n",
    "}\n",
    "\n",
    "education_dict = {\n",
    "    'Bachelor’s degree (BA, BS, B.Eng., etc.)': 'BACHELORS', \n",
    "    'Master’s degree (MA, MS, M.Eng., MBA, etc.)': 'MASTERS', \n",
    "    'Some college/university study without earning a degree': 'NO-DEGREE', \n",
    "    'Secondary school (e.g. American high school, German Realschule or Gymnasium, etc.)': 'SECONDARY', \n",
    "    'Associate degree': 'ASSOCIATE', \n",
    "    'Other doctoral degree (Ph.D, Ed.D., etc.)': 'DOCTORAL', \n",
    "    'Primary/elementary school': 'PRIMARY', \n",
    "    'Professional degree (JD, MD, etc.)': 'PROFESSIONAL', \n",
    "    'I never completed any formal education': 'NONE',\n",
    "    'They never completed any formal education': 'NONE'\n",
    "}\n",
    "\n",
    "company_size_dict = {\n",
    "    'Fewer than 10 employees': '<10', \n",
    "    '10 to 19 employees': '10-19', \n",
    "    '20 to 99 employees': '20-99',\n",
    "    '100 to 499 employees': '100-499', \n",
    "    '500 to 999 employees': '500-999', \n",
    "    '1,000 to 4,999 employees': '1000-4999', \n",
    "    '5,000 to 9,999 employees': '5000-9999', \n",
    "    '10,000 or more employees': '>10000',\n",
    "}\n",
    "\n",
    "job_satisfaction_dict = {\n",
    "    'Extremely dissatisfied': '1', \n",
    "    'Moderately dissatisfied': '2', \n",
    "    'Slightly dissatisfied': '3', \n",
    "    'Neither satisfied nor dissatisfied': '4', \n",
    "    'Slightly satisfied': '5', \n",
    "    'Moderately satisfied': '6', \n",
    "    'Extremely satisfied': '7',\n",
    "}\n",
    "\n",
    "last_new_job_dict = {\n",
    "    \"I've never had a job\": '0',\n",
    "    'Less than a year ago': '<1', \n",
    "    'Between 1 and 2 years ago': '1-2', \n",
    "    'Between 2 and 4 years ago': '2-4', \n",
    "    'More than 4 years ago': '>4', \n",
    "}\n",
    "\n",
    "hours_computer_dict = {\n",
    "    'Less than 1 hour': '<1',\n",
    "    '1 - 4 hours': '1-4', \n",
    "    '5 - 8 hours': '5-8', \n",
    "    '9 - 12 hours': '9-12', \n",
    "    'Over 12 hours': '>12', \n",
    "}\n",
    "\n",
    "hours_outside_dict = {\n",
    "    'Less than 30 minutes': '<0.5',\n",
    "    '30 - 59 minutes': '0.5-1',\n",
    "    '1 - 2 hours': '1-2',\n",
    "    '3 - 4 hours': '3-4',\n",
    "    'Over 4 hours': '>4'\n",
    "}\n",
    "\n",
    "ai_dangerous_dict = {\n",
    "    'Algorithms making important decisions': 'IMP-DECISIONS',\n",
    "    'Artificial intelligence surpassing human intelligence (\"the singularity\")': 'SINGULARITY',\n",
    "    'Evolving definitions of \"fairness\" in algorithmic versus human decisions': 'FAIRNESS-DEFINITION',\n",
    "    'Increasing automation of jobs': 'AUTOMATION'\n",
    "}\n",
    "\n",
    "ai_responsible_dict = {\n",
    "    'The developers or the people creating the AI': 'DEVELOPERS',\n",
    "    'A governmental or other regulatory body': 'GOVT',\n",
    "    'Prominent industry leaders': 'LEADERS',\n",
    "    'Nobody': 'NOBODY'\n",
    "}\n",
    "\n",
    "ai_future_dict = {\n",
    "    \"I'm excited about the possibilities more than worried about the dangers.\": 'EXCITED',\n",
    "    \"I'm worried about the dangers more than I'm excited about the possibilities.\": 'WORRIED',\n",
    "    \"I don't care about it, or I haven't thought about it.\": 'NO-COMMENTS'\n",
    "}"
   ],
   "metadata": {
    "collapsed": false,
    "pycharm": {
     "name": "#%%\n",
     "is_executing": false
    }
   }
  },
  {
   "cell_type": "markdown",
   "source": [
    "#### Define function to identify if the undergrad course was related to computer science"
   ],
   "metadata": {
    "collapsed": false
   }
  },
  {
   "cell_type": "code",
   "execution_count": 9,
   "outputs": [],
   "source": [
    "courses = ['computer', 'software', 'information']\n",
    "def has_software(_undergrad: str) -> bool:\n",
    "    if _undergrad is None:\n",
    "        return False\n",
    "    return any(ext in _undergrad.lower() for ext in courses)"
   ],
   "metadata": {
    "collapsed": false,
    "pycharm": {
     "name": "#%%\n",
     "is_executing": false
    }
   }
  },
  {
   "cell_type": "markdown",
   "source": [
    "#### Extract the important columns into a separate dataset"
   ],
   "metadata": {
    "collapsed": false
   }
  },
  {
   "cell_type": "code",
   "execution_count": 6,
   "outputs": [],
   "source": [
    "imp_cols = ['Student', 'FormalEducation', 'EducationParents', 'UndergradMajor',\n",
    "        'Employment', 'CompanySize', 'JobSatisfaction', 'CareerSatisfaction', 'LastNewJob',\n",
    "        'HoursComputer', 'HoursOutside',\n",
    "        'AIDangerous', 'AIInteresting', 'AIResponsible', 'AIFuture']\n",
    "master_imp: DataFrame = master[imp_cols]"
   ],
   "metadata": {
    "collapsed": false,
    "pycharm": {
     "name": "#%%\n",
     "is_executing": false
    }
   }
  },
  {
   "cell_type": "code",
   "execution_count": 10,
   "outputs": [
    {
     "data": {
      "text/plain": "EducationParents      37042\nAIDangerous           35740\nAIInteresting         33488\nAIResponsible         33302\nJobSatisfaction       29579\nAIFuture              29127\nCompanySize           27324\nHoursOutside          26831\nHoursComputer         26722\nCareerSatisfaction    22351\nLastNewJob            19966\nUndergradMajor        19819\nFormalEducation        4152\nStudent                3954\nEmployment             3534\ndtype: int64"
     },
     "metadata": {},
     "output_type": "execute_result",
     "execution_count": 10
    }
   ],
   "source": [
    "null_counts = master_imp.isnull().sum().sort_values(ascending = False)\n",
    "null_counts"
   ],
   "metadata": {
    "collapsed": false,
    "pycharm": {
     "name": "#%%\n",
     "is_executing": false
    }
   }
  },
  {
   "cell_type": "markdown",
   "source": [
    "#### Handle missing values\n",
    "- if the # of nulls is > 10,000, then impute with a new value 'x'\n",
    "- if the # of nulls is < 10,000, then impute with the mode for that column."
   ],
   "metadata": {
    "collapsed": false
   }
  },
  {
   "cell_type": "code",
   "execution_count": 11,
   "outputs": [],
   "source": [
    "# master_imp = master_imp.replace(np.nan, '', regex=True)\n",
    "\n",
    "for col in imp_cols:\n",
    "    if master_imp[col].isnull().sum() > 10000:\n",
    "        master_imp[col].fillna('x', inplace=True)\n",
    "    else:\n",
    "        master_imp[col].fillna(master_imp[col].mode()[0], inplace=True)"
   ],
   "metadata": {
    "collapsed": false,
    "pycharm": {
     "name": "#%%\n",
     "is_executing": false
    }
   }
  },
  {
   "cell_type": "markdown",
   "source": [
    "#### Replace the verbose definitions with the concise data dictionary values"
   ],
   "metadata": {
    "collapsed": false
   }
  },
  {
   "cell_type": "code",
   "execution_count": 12,
   "outputs": [],
   "source": [
    "master_imp = master_imp.replace({\n",
    "    'Student': student_dict,\n",
    "    'Employment': employment_dict,\n",
    "    'FormalEducation': education_dict, \n",
    "    'CompanySize': company_size_dict,\n",
    "    'JobSatisfaction': job_satisfaction_dict,\n",
    "    'CareerSatisfaction': job_satisfaction_dict,\n",
    "    'LastNewJob': last_new_job_dict,\n",
    "    'HoursComputer': hours_computer_dict,\n",
    "    'HoursOutside': hours_outside_dict,\n",
    "    'EducationParents': education_dict,\n",
    "    'AIDangerous': ai_dangerous_dict,\n",
    "    'AIInteresting': ai_dangerous_dict,\n",
    "    'AIResponsible': ai_responsible_dict,\n",
    "    'AIFuture': ai_future_dict,\n",
    "})\n",
    "\n",
    "master_imp['Studied_Software'] = master_imp['UndergradMajor'].map(has_software)\n",
    "master_imp.drop(columns=['UndergradMajor'], inplace=True)"
   ],
   "metadata": {
    "collapsed": false,
    "pycharm": {
     "name": "#%%\n",
     "is_executing": false
    }
   }
  },
  {
   "cell_type": "markdown",
   "metadata": {},
   "source": [
    "#### Datatype conversion"
   ]
  },
  {
   "cell_type": "code",
   "execution_count": 13,
   "metadata": {
    "pycharm": {
     "is_executing": false,
     "name": "#%%\n"
    }
   },
   "outputs": [
    {
     "name": "stdout",
     "text": [
      "<class 'pandas.core.frame.DataFrame'>\nRangeIndex: 98855 entries, 0 to 98854\nData columns (total 15 columns):\nStudent               98855 non-null category\nFormalEducation       98855 non-null category\nEducationParents      98855 non-null category\nEmployment            98855 non-null category\nCompanySize           98855 non-null category\nJobSatisfaction       98855 non-null category\nCareerSatisfaction    98855 non-null category\nLastNewJob            98855 non-null category\nHoursComputer         98855 non-null category\nHoursOutside          98855 non-null category\nAIDangerous           98855 non-null category\nAIInteresting         98855 non-null category\nAIResponsible         98855 non-null category\nAIFuture              98855 non-null category\nStudied_Software      98855 non-null category\ndtypes: category(15)\nmemory usage: 1.4 MB\n"
     ],
     "output_type": "stream"
    }
   ],
   "source": [
    "categorical_cols = imp_cols[:]\n",
    "categorical_cols.remove('UndergradMajor')\n",
    "categorical_cols.append('Studied_Software')\n",
    "for col in categorical_cols:\n",
    "    master_imp[col] = pd.Categorical(master_imp[col])\n",
    "\n",
    "master_imp.info()"
   ]
  },
  {
   "cell_type": "markdown",
   "metadata": {},
   "source": [
    "#### Dummy coding"
   ]
  },
  {
   "cell_type": "code",
   "execution_count": 14,
   "metadata": {
    "pycharm": {
     "is_executing": false,
     "name": "#%%\n"
    }
   },
   "outputs": [],
   "source": [
    "for col in categorical_cols:\n",
    "    col_dummies = pd.get_dummies(pd.DataFrame({col: master_imp[col]}))\n",
    "    master_imp = pd.concat([master_imp, col_dummies], axis=1)"
   ]
  },
  {
   "cell_type": "code",
   "execution_count": 15,
   "outputs": [
    {
     "name": "stdout",
     "text": [
      "<class 'pandas.core.frame.DataFrame'>\nRangeIndex: 98855 entries, 0 to 98854\nData columns (total 107 columns):\nStudent                              category\nFormalEducation                      category\nEducationParents                     category\nEmployment                           category\nCompanySize                          category\nJobSatisfaction                      category\nCareerSatisfaction                   category\nLastNewJob                           category\nHoursComputer                        category\nHoursOutside                         category\nAIDangerous                          category\nAIInteresting                        category\nAIResponsible                        category\nAIFuture                             category\nStudied_Software                     category\nStudent_FULL-TIME                    uint8\nStudent_NO                           uint8\nStudent_PART-TIME                    uint8\nFormalEducation_ASSOCIATE            uint8\nFormalEducation_BACHELORS            uint8\nFormalEducation_DOCTORAL             uint8\nFormalEducation_MASTERS              uint8\nFormalEducation_NO-DEGREE            uint8\nFormalEducation_NONE                 uint8\nFormalEducation_PRIMARY              uint8\nFormalEducation_PROFESSIONAL         uint8\nFormalEducation_SECONDARY            uint8\nEducationParents_ASSOCIATE           uint8\nEducationParents_BACHELORS           uint8\nEducationParents_DOCTORAL            uint8\nEducationParents_MASTERS             uint8\nEducationParents_NO-DEGREE           uint8\nEducationParents_NONE                uint8\nEducationParents_PRIMARY             uint8\nEducationParents_PROFESSIONAL        uint8\nEducationParents_SECONDARY           uint8\nEducationParents_x                   uint8\nEmployment_CONTRACTOR                uint8\nEmployment_FULL-TIME                 uint8\nEmployment_LOOKING                   uint8\nEmployment_NOT-LOOKING               uint8\nEmployment_PART-TIME                 uint8\nEmployment_RETIRED                   uint8\nCompanySize_10-19                    uint8\nCompanySize_100-499                  uint8\nCompanySize_1000-4999                uint8\nCompanySize_20-99                    uint8\nCompanySize_500-999                  uint8\nCompanySize_5000-9999                uint8\nCompanySize_<10                      uint8\nCompanySize_>10000                   uint8\nCompanySize_x                        uint8\nJobSatisfaction_1                    uint8\nJobSatisfaction_2                    uint8\nJobSatisfaction_3                    uint8\nJobSatisfaction_4                    uint8\nJobSatisfaction_5                    uint8\nJobSatisfaction_6                    uint8\nJobSatisfaction_7                    uint8\nJobSatisfaction_x                    uint8\nCareerSatisfaction_1                 uint8\nCareerSatisfaction_2                 uint8\nCareerSatisfaction_3                 uint8\nCareerSatisfaction_4                 uint8\nCareerSatisfaction_5                 uint8\nCareerSatisfaction_6                 uint8\nCareerSatisfaction_7                 uint8\nCareerSatisfaction_x                 uint8\nLastNewJob_0                         uint8\nLastNewJob_1-2                       uint8\nLastNewJob_2-4                       uint8\nLastNewJob_<1                        uint8\nLastNewJob_>4                        uint8\nLastNewJob_x                         uint8\nHoursComputer_1-4                    uint8\nHoursComputer_5-8                    uint8\nHoursComputer_9-12                   uint8\nHoursComputer_<1                     uint8\nHoursComputer_>12                    uint8\nHoursComputer_x                      uint8\nHoursOutside_0.5-1                   uint8\nHoursOutside_1-2                     uint8\nHoursOutside_3-4                     uint8\nHoursOutside_<0.5                    uint8\nHoursOutside_>4                      uint8\nHoursOutside_x                       uint8\nAIDangerous_AUTOMATION               uint8\nAIDangerous_FAIRNESS-DEFINITION      uint8\nAIDangerous_IMP-DECISIONS            uint8\nAIDangerous_SINGULARITY              uint8\nAIDangerous_x                        uint8\nAIInteresting_AUTOMATION             uint8\nAIInteresting_FAIRNESS-DEFINITION    uint8\nAIInteresting_IMP-DECISIONS          uint8\nAIInteresting_SINGULARITY            uint8\nAIInteresting_x                      uint8\nAIResponsible_DEVELOPERS             uint8\nAIResponsible_GOVT                   uint8\nAIResponsible_LEADERS                uint8\nAIResponsible_NOBODY                 uint8\nAIResponsible_x                      uint8\nAIFuture_EXCITED                     uint8\nAIFuture_NO-COMMENTS                 uint8\nAIFuture_WORRIED                     uint8\nAIFuture_x                           uint8\nStudied_Software_False               uint8\nStudied_Software_True                uint8\ndtypes: category(15), uint8(92)\nmemory usage: 10.1 MB\n"
     ],
     "output_type": "stream"
    }
   ],
   "source": [
    "master_imp.info(verbose=True)"
   ],
   "metadata": {
    "collapsed": false,
    "pycharm": {
     "name": "#%%\n",
     "is_executing": false
    }
   }
  },
  {
   "cell_type": "code",
   "execution_count": 16,
   "metadata": {
    "pycharm": {
     "is_executing": false,
     "name": "#%%\n"
    }
   },
   "outputs": [
    {
     "name": "stdout",
     "text": [
      "DataFrame stored in pickle file...\n"
     ],
     "output_type": "stream"
    }
   ],
   "source": [
    "master_imp.to_pickle('./data/master.pickle')\n",
    "print('DataFrame stored in pickle file...')\n"
   ]
  }
 ],
 "metadata": {
  "kernelspec": {
   "display_name": "PyCharm (dsba6156)",
   "language": "python",
   "name": "pycharm-67ea9c55"
  },
  "language_info": {
   "codemirror_mode": {
    "name": "ipython",
    "version": 3
   },
   "file_extension": ".py",
   "mimetype": "text/x-python",
   "name": "python",
   "nbconvert_exporter": "python",
   "pygments_lexer": "ipython3",
   "version": "3.7.2"
  },
  "pycharm": {
   "stem_cell": {
    "cell_type": "raw",
    "source": [],
    "metadata": {
     "collapsed": false
    }
   }
  }
 },
 "nbformat": 4,
 "nbformat_minor": 1
}