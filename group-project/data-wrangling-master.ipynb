{
 "cells": [
  {
   "cell_type": "markdown",
   "metadata": {},
   "source": [
    "## Data wrangling - 'master' dataset"
   ]
  },
  {
   "cell_type": "code",
   "execution_count": 84,
   "metadata": {
    "collapsed": true,
    "pycharm": {
     "is_executing": false
    }
   },
   "outputs": [],
   "source": [
    "# import numpy as np\n",
    "import pandas as pd\n",
    "from pandas import DataFrame\n",
    "import seaborn as sns\n",
    "import matplotlib.pyplot as plt\n",
    "from sklearn.tree import DecisionTreeRegressor  \n",
    "from sklearn.model_selection import train_test_split\n",
    "from sklearn.naive_bayes import BernoulliNB, GaussianNB, MultinomialNB\n",
    "\n",
    "import warnings\n",
    "warnings.filterwarnings(\"ignore\")"
   ]
  },
  {
   "cell_type": "markdown",
   "metadata": {},
   "source": [
    "#### Read dataset from file"
   ]
  },
  {
   "cell_type": "code",
   "execution_count": 85,
   "metadata": {
    "pycharm": {
     "is_executing": false,
     "name": "#%%\n"
    }
   },
   "outputs": [
    {
     "name": "stdout",
     "text": [
      "(98855, 129)\n"
     ],
     "output_type": "stream"
    }
   ],
   "source": [
    "master: DataFrame = pd.read_csv('./data/survey_results_public-2018.csv')\n",
    "print(master.shape)"
   ]
  },
  {
   "cell_type": "markdown",
   "source": [
    "#### Define dictionaries to make certain verbose data into concise definitions"
   ],
   "metadata": {
    "collapsed": false
   }
  },
  {
   "cell_type": "code",
   "execution_count": 86,
   "outputs": [],
   "source": [
    "student_dict = {\n",
    "    'No': 'NO', \n",
    "    'Yes, full-time': 'FULL-TIME', \n",
    "    'Yes, part-time': 'PART-TIME',\n",
    "}\n",
    "# student_map = pd.DataFrame(data=student_original, columns=['Original', 'Modified'])\n",
    "\n",
    "employment_dict = {\n",
    "    'Employed full-time': 'FULL-TIME', \n",
    "    'Independent contractor, freelancer, or self-employed': 'CONTRACTOR', \n",
    "    'Not employed, but looking for work': 'LOOKING', \n",
    "    'Employed part-time': 'PART-TIME', \n",
    "    'Not employed, and not looking for work': 'NOT-LOOKING', \n",
    "    'Retired': 'RETIRED',\n",
    "}\n",
    "\n",
    "education_dict = {\n",
    "    'Bachelor’s degree (BA, BS, B.Eng., etc.)': 'BACHELORS', \n",
    "    'Master’s degree (MA, MS, M.Eng., MBA, etc.)': 'MASTERS', \n",
    "    'Some college/university study without earning a degree': 'NO-DEGREE', \n",
    "    'Secondary school (e.g. American high school, German Realschule or Gymnasium, etc.)': 'SECONDARY', \n",
    "    'Associate degree': 'ASSOCIATE', \n",
    "    'Other doctoral degree (Ph.D, Ed.D., etc.)': 'DOCTORAL', \n",
    "    'Primary/elementary school': 'PRIMARY', \n",
    "    'Professional degree (JD, MD, etc.)': 'PROFESSIONAL', \n",
    "    'I never completed any formal education': 'NONE',\n",
    "    'They never completed any formal education': 'NONE',\n",
    "}\n",
    "\n",
    "company_size_dict = {\n",
    "    'Fewer than 10 employees': '<10', \n",
    "    '10 to 19 employees': '10-19', \n",
    "    '20 to 99 employees': '20-99',\n",
    "    '100 to 499 employees': '100-499', \n",
    "    '500 to 999 employees': '500-999', \n",
    "    '1,000 to 4,999 employees': '1000-4999', \n",
    "    '5,000 to 9,999 employees': '5000-9999', \n",
    "    '10,000 or more employees': '>10000',\n",
    "}\n",
    "\n",
    "job_satisfaction_dict = {\n",
    "    'Extremely dissatisfied': '1',\n",
    "    'Moderately dissatisfied': '2',\n",
    "    'Slightly dissatisfied': '3',\n",
    "    'Neither satisfied nor dissatisfied': '4',\n",
    "    'Slightly satisfied': '5',\n",
    "    'Moderately satisfied': '6',\n",
    "    'Extremely satisfied': '7',\n",
    "}\n",
    "\n",
    "last_new_job_dict = {\n",
    "    \"I've never had a job\": '0',\n",
    "    'Less than a year ago': '<1',\n",
    "    'Between 1 and 2 years ago': '1-2',\n",
    "    'Between 2 and 4 years ago': '2-4',\n",
    "    'More than 4 years ago': '>4',\n",
    "}\n",
    "\n",
    "hours_computer_dict = {\n",
    "    'Less than 1 hour': '<1',\n",
    "    '1 - 4 hours': '1-4', \n",
    "    '5 - 8 hours': '5-8', \n",
    "    '9 - 12 hours': '9-12', \n",
    "    'Over 12 hours': '>12', \n",
    "}\n",
    "\n",
    "hours_outside_dict = {\n",
    "    'Less than 30 minutes': '<0.5',\n",
    "    '30 - 59 minutes': '0.5-1',\n",
    "    '1 - 2 hours': '1-2',\n",
    "    '3 - 4 hours': '3-4',\n",
    "    'Over 4 hours': '>4',\n",
    "}\n",
    "\n",
    "ai_dangerous_dict = {\n",
    "    'Algorithms making important decisions': 'IMP-DECISIONS',\n",
    "    'Artificial intelligence surpassing human intelligence (\"the singularity\")': 'SINGULARITY',\n",
    "    'Evolving definitions of \"fairness\" in algorithmic versus human decisions': 'FAIRNESS-DEFINITION',\n",
    "    'Increasing automation of jobs': 'AUTOMATION',\n",
    "}\n",
    "\n",
    "ai_responsible_dict = {\n",
    "    'The developers or the people creating the AI': 'DEVELOPERS',\n",
    "    'A governmental or other regulatory body': 'GOVT',\n",
    "    'Prominent industry leaders': 'LEADERS',\n",
    "    'Nobody': 'NOBODY',\n",
    "}\n",
    "\n",
    "ai_future_dict = {\n",
    "    \"I'm excited about the possibilities more than worried about the dangers.\": 'EXCITED',\n",
    "    \"I'm worried about the dangers more than I'm excited about the possibilities.\": 'WORRIED',\n",
    "    \"I don't care about it, or I haven't thought about it.\": 'NO-COMMENTS',\n",
    "}\n",
    "\n",
    "exercise_dict = {\n",
    "    \"1 - 2 times per week\" : '2',        \n",
    "    \"3 - 4 times per week\" : '4',        \n",
    "    'Daily or almost every day': '7',\n",
    "    \"I don't typically exercise\" : '0',\n",
    "}"
   ],
   "metadata": {
    "collapsed": false,
    "pycharm": {
     "name": "#%%\n",
     "is_executing": false
    }
   }
  },
  {
   "cell_type": "markdown",
   "source": [
    "#### Define function to identify if the undergrad course was related to computer science"
   ],
   "metadata": {
    "collapsed": false
   }
  },
  {
   "cell_type": "code",
   "execution_count": 87,
   "outputs": [],
   "source": [
    "courses = ['computer', 'software', 'information']\n",
    "def has_software(_undergrad: str) -> bool:\n",
    "    if _undergrad is None:\n",
    "        return False\n",
    "    return any(ext in _undergrad.lower() for ext in courses)"
   ],
   "metadata": {
    "collapsed": false,
    "pycharm": {
     "name": "#%%\n",
     "is_executing": false
    }
   }
  },
  {
   "cell_type": "markdown",
   "source": [
    "#### Extract the important columns into a separate dataset"
   ],
   "metadata": {
    "collapsed": false
   }
  },
  {
   "cell_type": "code",
   "execution_count": 88,
   "outputs": [],
   "source": [
    "imp_cols = ['Student', 'FormalEducation', 'EducationParents', 'UndergradMajor',\n",
    "        'Employment', 'CompanySize', 'JobSatisfaction', 'CareerSatisfaction', 'LastNewJob',\n",
    "        'HoursComputer', 'HoursOutside',\n",
    "        'AIDangerous', 'AIInteresting', 'AIResponsible', 'AIFuture','Exercise','ConvertedSalary']\n",
    "master_imp: DataFrame = master[imp_cols]"
   ],
   "metadata": {
    "collapsed": false,
    "pycharm": {
     "name": "#%%\n",
     "is_executing": false
    }
   }
  },
  {
   "cell_type": "code",
   "execution_count": 89,
   "outputs": [
    {
     "name": "stdout",
     "text": [
      "<class 'pandas.core.frame.DataFrame'>\nRangeIndex: 98855 entries, 0 to 98854\nData columns (total 17 columns):\nStudent               94901 non-null object\nFormalEducation       94703 non-null object\nEducationParents      61813 non-null object\nUndergradMajor        79036 non-null object\nEmployment            95321 non-null object\nCompanySize           71531 non-null object\nJobSatisfaction       69276 non-null object\nCareerSatisfaction    76504 non-null object\nLastNewJob            78889 non-null object\nHoursComputer         72133 non-null object\nHoursOutside          72024 non-null object\nAIDangerous           63115 non-null object\nAIInteresting         65367 non-null object\nAIResponsible         65553 non-null object\nAIFuture              69728 non-null object\nExercise              72108 non-null object\nConvertedSalary       47702 non-null float64\ndtypes: float64(1), object(16)\nmemory usage: 6.8+ MB\n"
     ],
     "output_type": "stream"
    }
   ],
   "source": [
    "master_imp.info()"
   ],
   "metadata": {
    "collapsed": false,
    "pycharm": {
     "name": "#%%\n",
     "is_executing": false
    }
   }
  },
  {
   "cell_type": "code",
   "execution_count": 90,
   "outputs": [
    {
     "data": {
      "text/plain": "ConvertedSalary       51153\nEducationParents      37042\nAIDangerous           35740\nAIInteresting         33488\nAIResponsible         33302\nJobSatisfaction       29579\nAIFuture              29127\nCompanySize           27324\nHoursOutside          26831\nExercise              26747\nHoursComputer         26722\nCareerSatisfaction    22351\nLastNewJob            19966\nUndergradMajor        19819\nFormalEducation        4152\nStudent                3954\nEmployment             3534\ndtype: int64"
     },
     "metadata": {},
     "output_type": "execute_result",
     "execution_count": 90
    }
   ],
   "source": [
    "null_counts = master_imp.isnull().sum().sort_values(ascending = False)\n",
    "null_counts"
   ],
   "metadata": {
    "collapsed": false,
    "pycharm": {
     "name": "#%%\n",
     "is_executing": false
    }
   }
  },
  {
   "cell_type": "markdown",
   "source": [
    "#### Handle missing values\n",
    "- if the column is numeric, then impute with the mean for that column.\n",
    "- if the # of nulls is > 10,000, then impute with a new value 'x'\n",
    "- if the # of nulls is < 10,000, then impute with the mode for that column."
   ],
   "metadata": {
    "collapsed": false
   }
  },
  {
   "cell_type": "code",
   "execution_count": 91,
   "outputs": [],
   "source": [
    "# master_imp = master_imp.replace(np.nan, '', regex=True)\n",
    "num_cols = master_imp.select_dtypes(include=['float','int']).columns\n",
    "\n",
    "for col in imp_cols:\n",
    "    if col in num_cols:\n",
    "        master_imp[col].fillna(master_imp[col].mean(), inplace=True)\n",
    "    elif master_imp[col].isnull().sum() > 10000:\n",
    "        master_imp[col].fillna('x', inplace=True)\n",
    "    else:\n",
    "        master_imp[col].fillna(master_imp[col].mode()[0], inplace=True)"
   ],
   "metadata": {
    "collapsed": false,
    "pycharm": {
     "name": "#%%\n",
     "is_executing": false
    }
   }
  },
  {
   "cell_type": "markdown",
   "source": [
    "#### Replace the verbose definitions with the concise data dictionary values"
   ],
   "metadata": {
    "collapsed": false
   }
  },
  {
   "cell_type": "code",
   "execution_count": 92,
   "outputs": [],
   "source": [
    "master_imp = master_imp.replace({\n",
    "    'Student': student_dict,\n",
    "    'Employment': employment_dict,\n",
    "    'FormalEducation': education_dict, \n",
    "    'CompanySize': company_size_dict,\n",
    "    'JobSatisfaction': job_satisfaction_dict,\n",
    "    'CareerSatisfaction': job_satisfaction_dict,\n",
    "    'LastNewJob': last_new_job_dict,\n",
    "    'HoursComputer': hours_computer_dict,\n",
    "    'HoursOutside': hours_outside_dict,\n",
    "    'EducationParents': education_dict,\n",
    "    'AIDangerous': ai_dangerous_dict,\n",
    "    'AIInteresting': ai_dangerous_dict,\n",
    "    'AIResponsible': ai_responsible_dict,\n",
    "    'AIFuture': ai_future_dict,\n",
    "    'Exercise': exercise_dict,\n",
    "})\n",
    "\n",
    "master_imp['Studied_Software'] = master_imp['UndergradMajor'].map(has_software)\n",
    "master_imp.drop(columns=['UndergradMajor'], inplace=True)"
   ],
   "metadata": {
    "collapsed": false,
    "pycharm": {
     "name": "#%%\n",
     "is_executing": false
    }
   }
  },
  {
   "cell_type": "markdown",
   "metadata": {},
   "source": [
    "#### Datatype conversion"
   ]
  },
  {
   "cell_type": "code",
   "execution_count": 93,
   "metadata": {
    "pycharm": {
     "is_executing": false,
     "name": "#%%\n"
    }
   },
   "outputs": [
    {
     "name": "stdout",
     "text": [
      "<class 'pandas.core.frame.DataFrame'>\nRangeIndex: 98855 entries, 0 to 98854\nData columns (total 17 columns):\nStudent               98855 non-null category\nFormalEducation       98855 non-null category\nEducationParents      98855 non-null category\nEmployment            98855 non-null category\nCompanySize           98855 non-null category\nJobSatisfaction       98855 non-null category\nCareerSatisfaction    98855 non-null category\nLastNewJob            98855 non-null category\nHoursComputer         98855 non-null category\nHoursOutside          98855 non-null category\nAIDangerous           98855 non-null category\nAIInteresting         98855 non-null category\nAIResponsible         98855 non-null category\nAIFuture              98855 non-null category\nExercise              98855 non-null category\nConvertedSalary       98855 non-null float64\nStudied_Software      98855 non-null category\ndtypes: category(16), float64(1)\nmemory usage: 2.3 MB\n"
     ],
     "output_type": "stream"
    }
   ],
   "source": [
    "categorical_cols = master_imp.select_dtypes(include=['object']).columns.tolist()\n",
    "categorical_cols.append('Studied_Software')\n",
    "\n",
    "for col in categorical_cols:\n",
    "    master_imp[col] = pd.Categorical(master_imp[col])\n",
    "\n",
    "master_imp.info()"
   ]
  },
  {
   "cell_type": "markdown",
   "metadata": {},
   "source": [
    "#### Dummy coding"
   ]
  },
  {
   "cell_type": "code",
   "execution_count": 94,
   "metadata": {
    "pycharm": {
     "is_executing": false,
     "name": "#%%\n"
    }
   },
   "outputs": [
    {
     "name": "stdout",
     "text": [
      "<class 'pandas.core.frame.DataFrame'>\nRangeIndex: 98855 entries, 0 to 98854\nData columns (total 91 columns):\nJobSatisfaction                      98855 non-null category\nConvertedSalary                      98855 non-null float64\nStudent_FULL-TIME                    98855 non-null uint8\nStudent_NO                           98855 non-null uint8\nStudent_PART-TIME                    98855 non-null uint8\nFormalEducation_ASSOCIATE            98855 non-null uint8\nFormalEducation_BACHELORS            98855 non-null uint8\nFormalEducation_DOCTORAL             98855 non-null uint8\nFormalEducation_MASTERS              98855 non-null uint8\nFormalEducation_NO-DEGREE            98855 non-null uint8\nFormalEducation_NONE                 98855 non-null uint8\nFormalEducation_PRIMARY              98855 non-null uint8\nFormalEducation_PROFESSIONAL         98855 non-null uint8\nFormalEducation_SECONDARY            98855 non-null uint8\nEducationParents_ASSOCIATE           98855 non-null uint8\nEducationParents_BACHELORS           98855 non-null uint8\nEducationParents_DOCTORAL            98855 non-null uint8\nEducationParents_MASTERS             98855 non-null uint8\nEducationParents_NO-DEGREE           98855 non-null uint8\nEducationParents_NONE                98855 non-null uint8\nEducationParents_PRIMARY             98855 non-null uint8\nEducationParents_PROFESSIONAL        98855 non-null uint8\nEducationParents_SECONDARY           98855 non-null uint8\nEducationParents_x                   98855 non-null uint8\nEmployment_CONTRACTOR                98855 non-null uint8\nEmployment_FULL-TIME                 98855 non-null uint8\nEmployment_LOOKING                   98855 non-null uint8\nEmployment_NOT-LOOKING               98855 non-null uint8\nEmployment_PART-TIME                 98855 non-null uint8\nEmployment_RETIRED                   98855 non-null uint8\nCompanySize_10-19                    98855 non-null uint8\nCompanySize_100-499                  98855 non-null uint8\nCompanySize_1000-4999                98855 non-null uint8\nCompanySize_20-99                    98855 non-null uint8\nCompanySize_500-999                  98855 non-null uint8\nCompanySize_5000-9999                98855 non-null uint8\nCompanySize_<10                      98855 non-null uint8\nCompanySize_>10000                   98855 non-null uint8\nCompanySize_x                        98855 non-null uint8\nCareerSatisfaction_1                 98855 non-null uint8\nCareerSatisfaction_2                 98855 non-null uint8\nCareerSatisfaction_3                 98855 non-null uint8\nCareerSatisfaction_4                 98855 non-null uint8\nCareerSatisfaction_5                 98855 non-null uint8\nCareerSatisfaction_6                 98855 non-null uint8\nCareerSatisfaction_7                 98855 non-null uint8\nCareerSatisfaction_x                 98855 non-null uint8\nLastNewJob_0                         98855 non-null uint8\nLastNewJob_1-2                       98855 non-null uint8\nLastNewJob_2-4                       98855 non-null uint8\nLastNewJob_<1                        98855 non-null uint8\nLastNewJob_>4                        98855 non-null uint8\nLastNewJob_x                         98855 non-null uint8\nHoursComputer_1-4                    98855 non-null uint8\nHoursComputer_5-8                    98855 non-null uint8\nHoursComputer_9-12                   98855 non-null uint8\nHoursComputer_<1                     98855 non-null uint8\nHoursComputer_>12                    98855 non-null uint8\nHoursComputer_x                      98855 non-null uint8\nHoursOutside_0.5-1                   98855 non-null uint8\nHoursOutside_1-2                     98855 non-null uint8\nHoursOutside_3-4                     98855 non-null uint8\nHoursOutside_<0.5                    98855 non-null uint8\nHoursOutside_>4                      98855 non-null uint8\nHoursOutside_x                       98855 non-null uint8\nAIDangerous_AUTOMATION               98855 non-null uint8\nAIDangerous_FAIRNESS-DEFINITION      98855 non-null uint8\nAIDangerous_IMP-DECISIONS            98855 non-null uint8\nAIDangerous_SINGULARITY              98855 non-null uint8\nAIDangerous_x                        98855 non-null uint8\nAIInteresting_AUTOMATION             98855 non-null uint8\nAIInteresting_FAIRNESS-DEFINITION    98855 non-null uint8\nAIInteresting_IMP-DECISIONS          98855 non-null uint8\nAIInteresting_SINGULARITY            98855 non-null uint8\nAIInteresting_x                      98855 non-null uint8\nAIResponsible_DEVELOPERS             98855 non-null uint8\nAIResponsible_GOVT                   98855 non-null uint8\nAIResponsible_LEADERS                98855 non-null uint8\nAIResponsible_NOBODY                 98855 non-null uint8\nAIResponsible_x                      98855 non-null uint8\nAIFuture_EXCITED                     98855 non-null uint8\nAIFuture_NO-COMMENTS                 98855 non-null uint8\nAIFuture_WORRIED                     98855 non-null uint8\nAIFuture_x                           98855 non-null uint8\nExercise_0                           98855 non-null uint8\nExercise_2                           98855 non-null uint8\nExercise_4                           98855 non-null uint8\nExercise_7                           98855 non-null uint8\nExercise_x                           98855 non-null uint8\nStudied_Software_False               98855 non-null uint8\nStudied_Software_True                98855 non-null uint8\ndtypes: category(1), float64(1), uint8(89)\nmemory usage: 9.2 MB\n"
     ],
     "output_type": "stream"
    }
   ],
   "source": [
    "y_col = ['JobSatisfaction']\n",
    "x_col = [x for x in categorical_cols if x != 'JobSatisfaction']\n",
    "\n",
    "master_imp = pd.get_dummies(master_imp, columns=x_col)\n",
    "master_imp.info(verbose=True)"
   ]
  },
  {
   "cell_type": "markdown",
   "source": [
    "#### Store as pickle file"
   ],
   "metadata": {
    "collapsed": false
   }
  },
  {
   "cell_type": "code",
   "execution_count": 95,
   "metadata": {
    "pycharm": {
     "is_executing": false,
     "name": "#%%\n"
    }
   },
   "outputs": [
    {
     "name": "stdout",
     "text": [
      "DataFrame stored in pickle file...\n"
     ],
     "output_type": "stream"
    }
   ],
   "source": [
    "master_imp.to_pickle('./data/master.pickle')\n",
    "print('DataFrame stored in pickle file...')"
   ]
  },
  {
   "cell_type": "code",
   "execution_count": 96,
   "outputs": [
    {
     "name": "stdout",
     "text": [
      "(98855, 91)\n"
     ],
     "output_type": "stream"
    }
   ],
   "source": [
    "master_2: DataFrame = pd.read_pickle('./data/master.pickle')\n",
    "print(master_2.shape)"
   ],
   "metadata": {
    "collapsed": false,
    "pycharm": {
     "name": "#%%\n",
     "is_executing": false
    }
   }
  },
  {
   "cell_type": "code",
   "execution_count": 98,
   "outputs": [],
   "source": [
    "X = master_2.drop('JobSatisfaction', axis=1)\n",
    "y = master_2[['JobSatisfaction']]\n",
    "# y = pd.get_dummies(y)"
   ],
   "metadata": {
    "collapsed": false,
    "pycharm": {
     "name": "#%%\n",
     "is_executing": false
    }
   }
  },
  {
   "cell_type": "code",
   "execution_count": 99,
   "outputs": [],
   "source": [
    "from sklearn import tree\n",
    "\n",
    "X_train, X_test, y_train, y_test = train_test_split(X, y, test_size=0.33, random_state=42)\n",
    "\n",
    "# model = tree.DecisionTreeClassifier()\n",
    "# model.fit(X_train, y_train) \n",
    "# y_pred = model.predict(X_test)\n",
    "\n",
    "model_nb = BernoulliNB()\n",
    "model_nb.fit(X_train, y_train) \n",
    "y_pred = model_nb.predict(X_test)\n"
   ],
   "metadata": {
    "collapsed": false,
    "pycharm": {
     "name": "#%%\n",
     "is_executing": false
    }
   }
  }
 ],
 "metadata": {
  "kernelspec": {
   "display_name": "PyCharm (dsba6156)",
   "language": "python",
   "name": "pycharm-67ea9c55"
  },
  "language_info": {
   "codemirror_mode": {
    "name": "ipython",
    "version": 3
   },
   "file_extension": ".py",
   "mimetype": "text/x-python",
   "name": "python",
   "nbconvert_exporter": "python",
   "pygments_lexer": "ipython3",
   "version": "3.7.2"
  },
  "pycharm": {
   "stem_cell": {
    "cell_type": "raw",
    "source": [],
    "metadata": {
     "collapsed": false
    }
   }
  }
 },
 "nbformat": 4,
 "nbformat_minor": 1
}