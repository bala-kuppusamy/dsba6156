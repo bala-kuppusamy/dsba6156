{
 "cells": [
  {
   "cell_type": "markdown",
   "source": [
    "## Model building"
   ],
   "metadata": {
    "collapsed": false
   }
  },
  {
   "cell_type": "code",
   "execution_count": 84,
   "metadata": {
    "collapsed": true,
    "pycharm": {
     "is_executing": false
    }
   },
   "outputs": [],
   "source": [
    "import pandas as pd\n",
    "from pandas import DataFrame\n",
    "from sklearn import tree\n",
    "from sklearn.naive_bayes import BernoulliNB, GaussianNB, MultinomialNB\n",
    "from sklearn.model_selection import train_test_split\n",
    "from sklearn.metrics import accuracy_score, f1_score, precision_score, recall_score, confusion_matrix, classification_report\n",
    "\n",
    "import warnings\n",
    "warnings.filterwarnings(\"ignore\")\n",
    "\n",
    "from sklearn import preprocessing\n",
    "le = preprocessing.LabelEncoder()"
   ]
  },
  {
   "cell_type": "markdown",
   "source": [
    "#### Define Functions"
   ],
   "metadata": {
    "collapsed": false
   }
  },
  {
   "cell_type": "code",
   "execution_count": 85,
   "outputs": [],
   "source": [
    "def run_classification_for_model(_model, _x_train, _x_test, _y_train, _y_test) -> None:\n",
    "    _model.fit(_x_train, _y_train)\n",
    "    _y_pred = _model.predict(_x_test)\n",
    "\n",
    "    print(\"Accuracy: %0.2f\" %accuracy_score(_y_test, _y_pred))\n",
    "    print(\"Precision: %0.2f\" %precision_score(_y_test, _y_pred, average=\"macro\"))\n",
    "    print(\"Recall:  %0.2f\" %recall_score(_y_test, _y_pred, average=\"macro\"))\n",
    "    print(\"F1-score:  %0.2f\" %f1_score(_y_test, _y_pred, average=\"macro\"))\n",
    "\n",
    "    print(confusion_matrix(_y_test, _y_pred))\n",
    "    print(classification_report(_y_test, _y_pred))"
   ],
   "metadata": {
    "collapsed": false,
    "pycharm": {
     "name": "#%%\n",
     "is_executing": false
    }
   }
  },
  {
   "cell_type": "markdown",
   "source": [
    "#### Read training dataset from pickle file"
   ],
   "metadata": {
    "collapsed": false
   }
  },
  {
   "cell_type": "code",
   "execution_count": 86,
   "outputs": [],
   "source": [
    "master: DataFrame = pd.read_pickle('./data/master-coded.pickle')\n",
    "print(master.shape)"
   ],
   "metadata": {
    "collapsed": false,
    "pycharm": {
     "name": "#%%\n",
     "is_executing": false
    }
   }
  },
  {
   "cell_type": "markdown",
   "source": [
    "#### Split dataset into x & y"
   ],
   "metadata": {
    "collapsed": false
   }
  },
  {
   "cell_type": "code",
   "execution_count": 87,
   "outputs": [],
   "source": [
    "X = master.drop('JobSatisfaction', axis=1)\n",
    "y = master[['JobSatisfaction']]\n",
    "\n",
    "X_train, X_test, y_train, y_test = train_test_split(X, y, test_size=0.33, random_state=42)"
   ],
   "metadata": {
    "collapsed": false,
    "pycharm": {
     "name": "#%%\n",
     "is_executing": false
    }
   }
  },
  {
   "cell_type": "markdown",
   "source": [
    "#### Decision Tree classifier"
   ],
   "metadata": {
    "collapsed": false
   }
  },
  {
   "cell_type": "code",
   "execution_count": 88,
   "outputs": [],
   "source": [
    "model_dt = tree.DecisionTreeClassifier()\n",
    "run_classification_for_model(model_dt, X_train, X_test, y_train, y_test)"
   ],
   "metadata": {
    "collapsed": false,
    "pycharm": {
     "name": "#%%\n",
     "is_executing": false
    }
   }
  },
  {
   "cell_type": "markdown",
   "source": [
    "#### Naive Bayes Classification"
   ],
   "metadata": {
    "collapsed": false
   }
  },
  {
   "cell_type": "code",
   "execution_count": 89,
   "outputs": [],
   "source": [
    "model_nb = BernoulliNB()\n",
    "run_classification_for_model(model_nb, X_train, X_test, y_train, y_test)"
   ],
   "metadata": {
    "collapsed": false,
    "pycharm": {
     "name": "#%%\n",
     "is_executing": false
    }
   }
  },
  {
   "cell_type": "markdown",
   "source": [
    "#### Read training dataset - #2 from pickle file"
   ],
   "metadata": {
    "collapsed": false
   }
  },
  {
   "cell_type": "code",
   "execution_count": 94,
   "outputs": [
    {
     "name": "stdout",
     "text": [
      "(98855, 95)\n"
     ],
     "output_type": "stream"
    }
   ],
   "source": [
    "master_2: DataFrame = pd.read_pickle('./data/master-coded-2.pickle')\n",
    "print(master_2.shape)"
   ],
   "metadata": {
    "collapsed": false,
    "pycharm": {
     "name": "#%%\n",
     "is_executing": false
    }
   }
  },
  {
   "cell_type": "markdown",
   "source": [
    "#### Split dataset - #2 into x & y"
   ],
   "metadata": {
    "collapsed": false
   }
  },
  {
   "cell_type": "code",
   "execution_count": 95,
   "outputs": [],
   "source": [
    "X2 = master_2.drop('AIFuture', axis=1)\n",
    "y2 = master_2[['AIFuture']]\n",
    "\n",
    "X2_train, X2_test, y2_train, y2_test = train_test_split(X2, y2, test_size=0.33, random_state=42)"
   ],
   "metadata": {
    "collapsed": false,
    "pycharm": {
     "name": "#%%\n",
     "is_executing": false
    }
   }
  },
  {
   "cell_type": "markdown",
   "source": [
    "#### Decision Tree classifier - #2"
   ],
   "metadata": {
    "collapsed": false
   }
  },
  {
   "cell_type": "code",
   "execution_count": 96,
   "outputs": [
    {
     "name": "stdout",
     "text": [
      "Accuracy: 0.69\nPrecision: 0.50\n",
      "Recall:  0.50\n",
      "F1-score:  0.50\n[[11991  1422  3132   204]\n [ 1255   195   395    69]\n [ 2888   350  1047   109]\n [  220    67   103  9176]]\n",
      "              precision    recall  f1-score   support\n\n     EXCITED       0.73      0.72      0.72     16749\n NO-COMMENTS       0.10      0.10      0.10      1914\n     WORRIED       0.22      0.24      0.23      4394\n           x       0.96      0.96      0.96      9566\n\n    accuracy                           0.69     32623\n   macro avg       0.50      0.50      0.50     32623\nweighted avg       0.69      0.69      0.69     32623\n\n"
     ],
     "output_type": "stream"
    }
   ],
   "source": [
    "model_dt_2 = tree.DecisionTreeClassifier()\n",
    "run_classification_for_model(model_dt_2, X2_train, X2_test, y2_train, y2_test)"
   ],
   "metadata": {
    "collapsed": false,
    "pycharm": {
     "name": "#%%\n",
     "is_executing": false
    }
   }
  },
  {
   "cell_type": "markdown",
   "source": [
    "#### Naive Bayes Classification - #2"
   ],
   "metadata": {
    "collapsed": false
   }
  },
  {
   "cell_type": "code",
   "execution_count": 97,
   "outputs": [
    {
     "name": "stdout",
     "text": [
      "Accuracy: 0.78\nPrecision: 0.59\n",
      "Recall:  0.50\nF1-score:  0.49\n",
      "[[16115   114   213   307]\n [ 1678   106    62    68]\n [ 4002    67   211   114]\n [  301   134    21  9110]]\n",
      "              precision    recall  f1-score   support\n\n     EXCITED       0.73      0.96      0.83     16749\n NO-COMMENTS       0.25      0.06      0.09      1914\n     WORRIED       0.42      0.05      0.09      4394\n           x       0.95      0.95      0.95      9566\n\n    accuracy                           0.78     32623\n   macro avg       0.59      0.50      0.49     32623\nweighted avg       0.72      0.78      0.72     32623\n\n"
     ],
     "output_type": "stream"
    }
   ],
   "source": [
    "model_nb_2 = BernoulliNB()\n",
    "run_classification_for_model(model_nb_2, X2_train, X2_test, y2_train, y2_test)\n"
   ],
   "metadata": {
    "collapsed": false,
    "pycharm": {
     "name": "#%%\n",
     "is_executing": false
    }
   }
  }
 ],
 "metadata": {
  "kernelspec": {
   "name": "pycharm-67ea9c55",
   "language": "python",
   "display_name": "PyCharm (dsba6156)"
  },
  "language_info": {
   "codemirror_mode": {
    "name": "ipython",
    "version": 2
   },
   "file_extension": ".py",
   "mimetype": "text/x-python",
   "name": "python",
   "nbconvert_exporter": "python",
   "pygments_lexer": "ipython2",
   "version": "2.7.6"
  },
  "pycharm": {
   "stem_cell": {
    "cell_type": "raw",
    "source": [],
    "metadata": {
     "collapsed": false
    }
   }
  }
 },
 "nbformat": 4,
 "nbformat_minor": 0
}