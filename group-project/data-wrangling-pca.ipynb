{
 "cells": [
  {
   "cell_type": "markdown",
   "source": [
    "## Execute PCA Analysis"
   ],
   "metadata": {
    "collapsed": false
   }
  },
  {
   "cell_type": "code",
   "execution_count": 26,
   "metadata": {
    "collapsed": true,
    "pycharm": {
     "is_executing": false
    }
   },
   "outputs": [],
   "source": [
    "import matplotlib.pyplot as plt\n",
    "import numpy as np\n",
    "import pandas as pd\n",
    "import seaborn as sns\n",
    "from pandas import DataFrame\n",
    "from sklearn.decomposition import PCA\n",
    "from sklearn.preprocessing import MinMaxScaler, LabelEncoder\n",
    "\n",
    "le = LabelEncoder()\n",
    "scalar = MinMaxScaler()\n",
    "sns.set()"
   ]
  },
  {
   "cell_type": "markdown",
   "source": [
    "#### Define functions"
   ],
   "metadata": {
    "collapsed": false
   }
  },
  {
   "cell_type": "code",
   "execution_count": 27,
   "outputs": [],
   "source": [
    "def run_pca(_df: DataFrame, _comp_max: int) -> list:\n",
    "    _pca = PCA(n_components=_comp_max)\n",
    "    _pca.fit_transform(_df)\n",
    "    _vr = _pca.explained_variance_ratio_.cumsum()\n",
    "    return _vr"
   ],
   "metadata": {
    "collapsed": false,
    "pycharm": {
     "name": "#%%\n",
     "is_executing": false
    }
   }
  },
  {
   "cell_type": "markdown",
   "source": [
    "#### Read Dataset from pickle file"
   ],
   "metadata": {
    "collapsed": false
   }
  },
  {
   "cell_type": "code",
   "execution_count": 28,
   "outputs": [
    {
     "name": "stdout",
     "text": [
      "(98855, 17)\n"
     ],
     "output_type": "stream"
    }
   ],
   "source": [
    "_master: DataFrame = pd.read_pickle('./data/master.pickle')\n",
    "print(_master.shape)"
   ],
   "metadata": {
    "collapsed": false,
    "pycharm": {
     "name": "#%%\n",
     "is_executing": false
    }
   }
  },
  {
   "cell_type": "markdown",
   "source": [
    "#### Remove the 'brand' column before PCA analysis"
   ],
   "metadata": {
    "collapsed": false
   }
  },
  {
   "cell_type": "code",
   "execution_count": 29,
   "outputs": [
    {
     "name": "stdout",
     "text": [
      "(98855, 16)\n"
     ],
     "output_type": "stream"
    }
   ],
   "source": [
    "_master_features: DataFrame = _master.drop(columns=['JobSatisfaction'])\n",
    "print(_master_features.shape)"
   ],
   "metadata": {
    "collapsed": false,
    "pycharm": {
     "name": "#%%\n",
     "is_executing": false
    }
   }
  },
  {
   "cell_type": "markdown",
   "source": [
    "#### Encode labels for the categorical variables (to calculate Euclidean distance)"
   ],
   "metadata": {
    "collapsed": false
   }
  },
  {
   "cell_type": "code",
   "execution_count": 30,
   "outputs": [
    {
     "name": "stdout",
     "text": [
      "<class 'pandas.core.frame.DataFrame'>\nRangeIndex: 98855 entries, 0 to 98854\nData columns (total 16 columns):\nStudent               98855 non-null int32\nFormalEducation       98855 non-null int32\nEducationParents      98855 non-null int32\nEmployment            98855 non-null int32\nCompanySize           98855 non-null int32\nCareerSatisfaction    98855 non-null int32\nLastNewJob            98855 non-null int32\nHoursComputer         98855 non-null int32\nHoursOutside          98855 non-null int32\nAIDangerous           98855 non-null int32\nAIInteresting         98855 non-null int32\nAIResponsible         98855 non-null int32\nAIFuture              98855 non-null int32\nExercise              98855 non-null int32\nConvertedSalary       98855 non-null int32\nStudied_Software      98855 non-null int32\ndtypes: int32(16)\nmemory usage: 6.0 MB\n"
     ],
     "output_type": "stream"
    }
   ],
   "source": [
    "_master_encoded: DataFrame = _master_features.apply(le.fit_transform)\n",
    "_master_encoded.info()"
   ],
   "metadata": {
    "collapsed": false,
    "pycharm": {
     "name": "#%%\n",
     "is_executing": false
    }
   }
  },
  {
   "cell_type": "markdown",
   "source": [
    "#### Scale the features based on Min-Max scalar (to calculate Euclidean distance)"
   ],
   "metadata": {
    "collapsed": false
   }
  },
  {
   "cell_type": "code",
   "execution_count": 31,
   "outputs": [
    {
     "name": "stdout",
     "text": [
      "    Student  FormalEducation  EducationParents  Employment  CompanySize  \\\n0       0.5            0.125          0.111111         0.8        0.375   \n1       0.5            0.125          0.111111         0.2        0.875   \n2       0.5            0.000          1.000000         0.2        0.375   \n3       0.5            0.125          0.444444         0.2        0.125   \n4       1.0            0.500          0.444444         0.2        0.875   \n5       0.5            0.125          0.888889         0.2        0.000   \n6       0.5            0.500          0.333333         0.2        0.875   \n7       0.5            0.125          0.666667         0.2        0.000   \n8       0.5            0.500          0.444444         0.2        0.125   \n9       0.5            0.125          1.000000         0.2        0.500   \n10      0.5            0.375          1.000000         0.2        0.250   \n11      0.5            0.125          1.000000         0.2        0.125   \n12      0.5            0.500          1.000000         0.2        0.375   \n13      0.5            0.125          1.000000         0.2        0.375   \n14      0.0            1.000          0.000000         0.2        0.375   \n\n    CareerSatisfaction  LastNewJob  HoursComputer  HoursOutside  AIDangerous  \\\n0             0.857143         0.6            0.4           0.2         0.75   \n1             0.428571         0.8            0.2           0.0         0.00   \n2             0.714286         0.6            1.0           1.0         1.00   \n3             0.285714         0.6            0.4           0.6         0.75   \n4             0.714286         0.2            0.8           0.2         0.50   \n5             0.571429         0.4            0.4           0.0         0.00   \n6             0.714286         0.6            0.8           0.6         0.50   \n7             0.714286         0.6            0.8           0.2         0.75   \n8             0.714286         0.4            0.4           0.6         0.50   \n9             1.000000         1.0            1.0           1.0         1.00   \n10            0.142857         1.0            1.0           1.0         1.00   \n11            1.000000         1.0            1.0           1.0         1.00   \n12            1.000000         1.0            1.0           1.0         1.00   \n13            0.714286         0.6            0.2           0.2         0.00   \n14            0.142857         0.4            0.4           0.2         0.75   \n\n    AIInteresting  AIResponsible  AIFuture  Exercise  ConvertedSalary  \\\n0            0.50           0.00  0.000000      0.50         0.765155   \n1            0.00           0.00  0.000000      0.75         0.650341   \n2            1.00           1.00  1.000000      1.00         0.765155   \n3            0.75           0.25  0.333333      0.00         0.765155   \n4            0.50           0.00  0.000000      0.50         0.260270   \n5            0.50           0.25  0.000000      0.25         0.445604   \n6            0.75           0.00  0.000000      0.00         0.831527   \n7            0.25           1.00  0.000000      0.25         0.765155   \n8            0.75           0.00  0.666667      0.00         0.922789   \n9            1.00           1.00  1.000000      1.00         0.765155   \n10           1.00           1.00  1.000000      1.00         0.765155   \n11           1.00           1.00  1.000000      1.00         0.765155   \n12           1.00           1.00  1.000000      1.00         0.765155   \n13           0.50           0.00  0.000000      0.00         0.765155   \n14           1.00           0.00  0.666667      0.75         0.000000   \n\n    Studied_Software  \n0                0.0  \n1                0.0  \n2                1.0  \n3                1.0  \n4                1.0  \n5                1.0  \n6                1.0  \n7                1.0  \n8                0.0  \n9                1.0  \n10               1.0  \n11               0.0  \n12               1.0  \n13               0.0  \n14               0.0  \n"
     ],
     "output_type": "stream"
    }
   ],
   "source": [
    "_master_array = scalar.fit_transform(_master_encoded)\n",
    "_master_scaled = pd.DataFrame(_master_array, columns=list(_master_encoded.columns))"
   ],
   "metadata": {
    "collapsed": false,
    "pycharm": {
     "name": "#%%\n",
     "is_executing": false
    }
   }
  },
  {
   "cell_type": "markdown",
   "source": [
    "#### Running PCA analysis (with maximum 5 components)"
   ],
   "metadata": {
    "collapsed": false
   }
  },
  {
   "cell_type": "code",
   "execution_count": 32,
   "outputs": [
    {
     "name": "stdout",
     "text": [
      "[0.39182654 0.52452168 0.58731344 0.64919591 0.69426582 0.73577576\n 0.77400896 0.80947128 0.84267016 0.87151946 0.89881251]\n"
     ],
     "output_type": "stream"
    }
   ],
   "source": [
    "variance_ratio = run_pca(_master_scaled, 11)\n",
    "print(variance_ratio)"
   ],
   "metadata": {
    "collapsed": false,
    "pycharm": {
     "name": "#%%\n",
     "is_executing": false
    }
   }
  },
  {
   "cell_type": "markdown",
   "source": [
    "#### Optimum # of components = 11\n",
    "\n",
    "Since close to 90% of the variance in the data can be explained by 11 components, the optimum number of components that we can retain is 11, without much loss to the variation in the data."
   ],
   "metadata": {
    "collapsed": false
   }
  },
  {
   "cell_type": "code",
   "execution_count": 33,
   "outputs": [
    {
     "name": "stdout",
     "text": [
      "<class 'pandas.core.frame.DataFrame'>\nRangeIndex: 98855 entries, 0 to 98854\nData columns (total 12 columns):\nPC1                98855 non-null float64\nPC2                98855 non-null float64\nPC3                98855 non-null float64\nPC4                98855 non-null float64\nPC5                98855 non-null float64\nPC6                98855 non-null float64\nPC7                98855 non-null float64\nPC8                98855 non-null float64\nPC9                98855 non-null float64\nPC10               98855 non-null float64\nPC11               98855 non-null float64\nJobSatisfaction    98855 non-null category\ndtypes: category(1), float64(11)\nmemory usage: 8.4 MB\n"
     ],
     "output_type": "stream"
    }
   ],
   "source": [
    "n_pcs = 11\n",
    "pca_2 = PCA(n_components=n_pcs)\n",
    "components_2 = pca_2.fit_transform(_master_scaled)\n",
    "\n",
    "components_df = pd.DataFrame(data=components_2, columns=['PC1', 'PC2', 'PC3', 'PC4', 'PC5', 'PC6',\n",
    "                                                         'PC7', 'PC8', 'PC9', 'PC10', 'PC11'])\n",
    "\n",
    "components_df_merged = pd.concat([components_df, _master[['JobSatisfaction']]], axis=1)\n",
    "components_df_merged.info()"
   ],
   "metadata": {
    "collapsed": false,
    "pycharm": {
     "name": "#%%\n",
     "is_executing": false
    }
   }
  },
  {
   "cell_type": "markdown",
   "source": [
    "#### Identify the component -> feature correlation"
   ],
   "metadata": {
    "collapsed": false
   }
  },
  {
   "cell_type": "code",
   "execution_count": 34,
   "outputs": [
    {
     "name": "stdout",
     "text": [
      "{'PC1': 'AIFuture', 'PC2': 'Studied_Software', 'PC3': 'CompanySize', 'PC4': 'CompanySize', 'PC5': 'LastNewJob', 'PC6': 'EducationParents', 'PC7': 'AIInteresting', 'PC8': 'AIDangerous', 'PC9': 'FormalEducation', 'PC10': 'AIFuture', 'PC11': 'Student'}\n"
     ],
     "output_type": "stream"
    }
   ],
   "source": [
    "# print(abs(pca_2.components_))\n",
    "features = list(_master_scaled.columns)\n",
    "\n",
    "_dict = {}\n",
    "for i in range(n_pcs):\n",
    "    idx_max = np.abs(pca_2.components_[i]).argmax()\n",
    "    _dict['PC' + str(i + 1)] = features[idx_max]\n",
    "print(_dict)"
   ],
   "metadata": {
    "collapsed": false,
    "pycharm": {
     "name": "#%%\n",
     "is_executing": false
    }
   }
  },
  {
   "cell_type": "markdown",
   "source": [
    "#### Store the PCA data-frame as pickle file"
   ],
   "metadata": {
    "collapsed": false
   }
  },
  {
   "cell_type": "code",
   "execution_count": 35,
   "outputs": [
    {
     "name": "stdout",
     "text": [
      "DataFrame stored in pickle file...\n"
     ],
     "output_type": "stream"
    }
   ],
   "source": [
    "components_df_merged.to_pickle('./data/master-pca.pickle')\n",
    "print('DataFrame stored in pickle file...')"
   ],
   "metadata": {
    "collapsed": false,
    "pycharm": {
     "name": "#%%\n",
     "is_executing": false
    }
   }
  }
 ],
 "metadata": {
  "kernelspec": {
   "name": "pycharm-67ea9c55",
   "language": "python",
   "display_name": "PyCharm (dsba6156)"
  },
  "language_info": {
   "codemirror_mode": {
    "name": "ipython",
    "version": 2
   },
   "file_extension": ".py",
   "mimetype": "text/x-python",
   "name": "python",
   "nbconvert_exporter": "python",
   "pygments_lexer": "ipython2",
   "version": "2.7.6"
  },
  "pycharm": {
   "stem_cell": {
    "cell_type": "raw",
    "source": [],
    "metadata": {
     "collapsed": false
    }
   }
  }
 },
 "nbformat": 4,
 "nbformat_minor": 0
}