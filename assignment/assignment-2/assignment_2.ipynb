{
 "cells": [
  {
   "cell_type": "code",
   "execution_count": 42,
   "metadata": {
    "collapsed": true,
    "pycharm": {
     "is_executing": false
    }
   },
   "outputs": [],
   "source": [
    "import numpy as np\n",
    "import pandas as pd\n",
    "from pandas import DataFrame\n",
    "from sklearn.linear_model import LinearRegression\n",
    "from sklearn.metrics import mean_squared_error\n",
    "from sklearn.model_selection import train_test_split\n",
    "from sklearn.neighbors import KNeighborsRegressor"
   ]
  },
  {
   "cell_type": "markdown",
   "metadata": {
    "pycharm": {
     "name": "#%% md\n"
    }
   },
   "source": [
    "#### Define functions"
   ]
  },
  {
   "cell_type": "code",
   "execution_count": 116,
   "metadata": {
    "pycharm": {
     "is_executing": false,
     "name": "#%%\n"
    }
   },
   "outputs": [],
   "source": [
    "def explore_df(df: DataFrame) -> None:\n",
    "    print('Exploring field values summary...')\n",
    "    print(df.describe())\n",
    "    print('\\nExploring field types...')\n",
    "    print(df.info())\n",
    "    print('\\nExploring field correlation...')\n",
    "    print(df.corr())\n",
    "    # print(df.isna().sum())\n",
    "\n",
    "def fix_col_types(df: DataFrame, has_hr: bool = False) -> DataFrame:\n",
    "    cols = ['season', 'holiday', 'weekday', 'weathersit']\n",
    "    if has_hr:\n",
    "        cols.append('hr')\n",
    "    print('Converting the following columns to categorical...', cols)\n",
    "    for col in cols:\n",
    "        df[col] = pd.Categorical(df[col])\n",
    "    print(df.info())\n",
    "    return df\n",
    "\n",
    "def split_columns(df: DataFrame, has_hr: bool = False) -> tuple:\n",
    "    features: DataFrame = df[['season', 'holiday', 'weekday', 'weathersit', 'atemp', 'hum', 'windspeed']]\n",
    "    if has_hr:\n",
    "        features = features.assign(hr = df['hr'])\n",
    "    casual: DataFrame = df[['casual']]\n",
    "    registered: DataFrame = df[['registered']]\n",
    "    print('\\nfeatures:', features.shape, ' casual:', casual.shape, ' registered:', registered.shape)\n",
    "    return features, casual, registered\n",
    "\n",
    "def mape(actual: DataFrame, predicted: DataFrame) -> float:\n",
    "    mask = actual != 0\n",
    "    return (np.fabs(actual - predicted) / actual)[mask].mean() * 100\n",
    "\n",
    "def run_regr_for_model(_model, _x_train: DataFrame, _x_test: DataFrame, _y_train: DataFrame, _y_test: DataFrame) -> None:\n",
    "    _model = _model.fit(_x_train, _y_train)\n",
    "    _y_pred = _model.predict(_x_test)\n",
    "    print('MSE: %.2f' %mean_squared_error(_y_test, _y_pred))\n",
    "    print('MAPE: %.2f' %mape(_y_test, _y_pred), '%')\n",
    "\n",
    "def run_all_models(x: DataFrame, y: DataFrame) -> None:\n",
    "    x_train, x_test, y_train, y_test = train_test_split(x, y, test_size=0.2, random_state=1)\n",
    "    print(x_train.shape, x_test.shape, y_train.shape, y_test.shape)\n",
    "    print('\\nExecuting Linear Regression =>')\n",
    "    lr = LinearRegression()\n",
    "    run_regr_for_model(lr, x_train, x_test, y_train, y_test)\n",
    "\n",
    "    print('\\nExecuting KNN Regression =>')\n",
    "    knn = KNeighborsRegressor()\n",
    "    run_regr_for_model(knn, x_train, x_test, y_train, y_test)"
   ]
  },
  {
   "cell_type": "markdown",
   "metadata": {},
   "source": [
    "## Day dataset\n",
    "#### Load dataset & explore"
   ]
  },
  {
   "cell_type": "code",
   "execution_count": 113,
   "metadata": {
    "pycharm": {
     "is_executing": false,
     "name": "#%%\n"
    }
   },
   "outputs": [
    {
     "name": "stdout",
     "output_type": "stream",
     "text": [
      "(731, 16)\n",
      "Exploring field values summary...\n",
      "          instant      season          yr        mnth     holiday     weekday  \\\n",
      "count  731.000000  731.000000  731.000000  731.000000  731.000000  731.000000   \n",
      "mean   366.000000    2.496580    0.500684    6.519836    0.028728    2.997264   \n",
      "std    211.165812    1.110807    0.500342    3.451913    0.167155    2.004787   \n",
      "min      1.000000    1.000000    0.000000    1.000000    0.000000    0.000000   \n",
      "25%    183.500000    2.000000    0.000000    4.000000    0.000000    1.000000   \n",
      "50%    366.000000    3.000000    1.000000    7.000000    0.000000    3.000000   \n",
      "75%    548.500000    3.000000    1.000000   10.000000    0.000000    5.000000   \n",
      "max    731.000000    4.000000    1.000000   12.000000    1.000000    6.000000   \n",
      "\n",
      "       workingday  weathersit        temp       atemp         hum   windspeed  \\\n",
      "count  731.000000  731.000000  731.000000  731.000000  731.000000  731.000000   \n",
      "mean     0.683995    1.395349    0.495385    0.474354    0.627894    0.190486   \n",
      "std      0.465233    0.544894    0.183051    0.162961    0.142429    0.077498   \n",
      "min      0.000000    1.000000    0.059130    0.079070    0.000000    0.022392   \n",
      "25%      0.000000    1.000000    0.337083    0.337842    0.520000    0.134950   \n",
      "50%      1.000000    1.000000    0.498333    0.486733    0.626667    0.180975   \n",
      "75%      1.000000    2.000000    0.655417    0.608602    0.730209    0.233214   \n",
      "max      1.000000    3.000000    0.861667    0.840896    0.972500    0.507463   \n",
      "\n",
      "            casual   registered          cnt  \n",
      "count   731.000000   731.000000   731.000000  \n",
      "mean    848.176471  3656.172367  4504.348837  \n",
      "std     686.622488  1560.256377  1937.211452  \n",
      "min       2.000000    20.000000    22.000000  \n",
      "25%     315.500000  2497.000000  3152.000000  \n",
      "50%     713.000000  3662.000000  4548.000000  \n",
      "75%    1096.000000  4776.500000  5956.000000  \n",
      "max    3410.000000  6946.000000  8714.000000  \n",
      "\n",
      "Exploring field types...\n",
      "<class 'pandas.core.frame.DataFrame'>\n",
      "RangeIndex: 731 entries, 0 to 730\n",
      "Data columns (total 16 columns):\n",
      "instant       731 non-null int64\n",
      "dteday        731 non-null object\n",
      "season        731 non-null int64\n",
      "yr            731 non-null int64\n",
      "mnth          731 non-null int64\n",
      "holiday       731 non-null int64\n",
      "weekday       731 non-null int64\n",
      "workingday    731 non-null int64\n",
      "weathersit    731 non-null int64\n",
      "temp          731 non-null float64\n",
      "atemp         731 non-null float64\n",
      "hum           731 non-null float64\n",
      "windspeed     731 non-null float64\n",
      "casual        731 non-null int64\n",
      "registered    731 non-null int64\n",
      "cnt           731 non-null int64\n",
      "dtypes: float64(4), int64(11), object(1)\n",
      "memory usage: 88.6+ KB\n",
      "None\n",
      "\n",
      "Exploring field correlation...\n",
      "             instant    season        yr      mnth   holiday   weekday  \\\n",
      "instant     1.000000  0.412224  0.866025  0.496702  0.016145 -0.000016   \n",
      "season      0.412224  1.000000 -0.001844  0.831440 -0.010537 -0.003080   \n",
      "yr          0.866025 -0.001844  1.000000 -0.001792  0.007954 -0.005461   \n",
      "mnth        0.496702  0.831440 -0.001792  1.000000  0.019191  0.009509   \n",
      "holiday     0.016145 -0.010537  0.007954  0.019191  1.000000 -0.101960   \n",
      "weekday    -0.000016 -0.003080 -0.005461  0.009509 -0.101960  1.000000   \n",
      "workingday -0.004337  0.012485 -0.002013 -0.005901 -0.253023  0.035790   \n",
      "weathersit -0.021477  0.019211 -0.048727  0.043528 -0.034627  0.031087   \n",
      "temp        0.150580  0.334315  0.047604  0.220205 -0.028556 -0.000170   \n",
      "atemp       0.152638  0.342876  0.046106  0.227459 -0.032507 -0.007537   \n",
      "hum         0.016375  0.205445 -0.110651  0.222204 -0.015937 -0.052232   \n",
      "windspeed  -0.112620 -0.229046 -0.011817 -0.207502  0.006292  0.014282   \n",
      "casual      0.275255  0.210399  0.248546  0.123006  0.054274  0.059923   \n",
      "registered  0.659623  0.411623  0.594248  0.293488 -0.108745  0.057367   \n",
      "cnt         0.628830  0.406100  0.566710  0.279977 -0.068348  0.067443   \n",
      "\n",
      "            workingday  weathersit      temp     atemp       hum  windspeed  \\\n",
      "instant      -0.004337   -0.021477  0.150580  0.152638  0.016375  -0.112620   \n",
      "season        0.012485    0.019211  0.334315  0.342876  0.205445  -0.229046   \n",
      "yr           -0.002013   -0.048727  0.047604  0.046106 -0.110651  -0.011817   \n",
      "mnth         -0.005901    0.043528  0.220205  0.227459  0.222204  -0.207502   \n",
      "holiday      -0.253023   -0.034627 -0.028556 -0.032507 -0.015937   0.006292   \n",
      "weekday       0.035790    0.031087 -0.000170 -0.007537 -0.052232   0.014282   \n",
      "workingday    1.000000    0.061200  0.052660  0.052182  0.024327  -0.018796   \n",
      "weathersit    0.061200    1.000000 -0.120602 -0.121583  0.591045   0.039511   \n",
      "temp          0.052660   -0.120602  1.000000  0.991702  0.126963  -0.157944   \n",
      "atemp         0.052182   -0.121583  0.991702  1.000000  0.139988  -0.183643   \n",
      "hum           0.024327    0.591045  0.126963  0.139988  1.000000  -0.248489   \n",
      "windspeed    -0.018796    0.039511 -0.157944 -0.183643 -0.248489   1.000000   \n",
      "casual       -0.518044   -0.247353  0.543285  0.543864 -0.077008  -0.167613   \n",
      "registered    0.303907   -0.260388  0.540012  0.544192 -0.091089  -0.217449   \n",
      "cnt           0.061156   -0.297391  0.627494  0.631066 -0.100659  -0.234545   \n",
      "\n",
      "              casual  registered       cnt  \n",
      "instant     0.275255    0.659623  0.628830  \n",
      "season      0.210399    0.411623  0.406100  \n",
      "yr          0.248546    0.594248  0.566710  \n",
      "mnth        0.123006    0.293488  0.279977  \n",
      "holiday     0.054274   -0.108745 -0.068348  \n",
      "weekday     0.059923    0.057367  0.067443  \n",
      "workingday -0.518044    0.303907  0.061156  \n",
      "weathersit -0.247353   -0.260388 -0.297391  \n",
      "temp        0.543285    0.540012  0.627494  \n",
      "atemp       0.543864    0.544192  0.631066  \n",
      "hum        -0.077008   -0.091089 -0.100659  \n",
      "windspeed  -0.167613   -0.217449 -0.234545  \n",
      "casual      1.000000    0.395282  0.672804  \n",
      "registered  0.395282    1.000000  0.945517  \n",
      "cnt         0.672804    0.945517  1.000000  \n"
     ]
    }
   ],
   "source": [
    "days: DataFrame = pd.read_csv('./day.csv')\n",
    "print(days.shape)\n",
    "explore_df(days)"
   ]
  },
  {
   "cell_type": "markdown",
   "metadata": {},
   "source": [
    "#### Fix datatype of columns & split the data into feature-set & target variables"
   ]
  },
  {
   "cell_type": "code",
   "execution_count": 117,
   "metadata": {
    "pycharm": {
     "is_executing": false,
     "name": "#%%\n"
    }
   },
   "outputs": [
    {
     "name": "stdout",
     "output_type": "stream",
     "text": [
      "Converting the following columns to categorical... ['season', 'holiday', 'weekday', 'weathersit']\n",
      "<class 'pandas.core.frame.DataFrame'>\n",
      "RangeIndex: 731 entries, 0 to 730\n",
      "Data columns (total 16 columns):\n",
      "instant       731 non-null int64\n",
      "dteday        731 non-null object\n",
      "season        731 non-null category\n",
      "yr            731 non-null int64\n",
      "mnth          731 non-null int64\n",
      "holiday       731 non-null category\n",
      "weekday       731 non-null category\n",
      "workingday    731 non-null int64\n",
      "weathersit    731 non-null category\n",
      "temp          731 non-null float64\n",
      "atemp         731 non-null float64\n",
      "hum           731 non-null float64\n",
      "windspeed     731 non-null float64\n",
      "casual        731 non-null int64\n",
      "registered    731 non-null int64\n",
      "cnt           731 non-null int64\n",
      "dtypes: category(4), float64(4), int64(7), object(1)\n",
      "memory usage: 69.2+ KB\n",
      "None\n",
      "\n",
      "features: (731, 7)  casual: (731, 1)  registered: (731, 1)\n"
     ]
    }
   ],
   "source": [
    "days = fix_col_types(days)\n",
    "# Splitting the data into feature-set & target variables\n",
    "d_features, d_casual, d_registered = split_columns(days)"
   ]
  },
  {
   "cell_type": "markdown",
   "metadata": {},
   "source": [
    "#### Running models for 'casual' target variable"
   ]
  },
  {
   "cell_type": "code",
   "execution_count": 118,
   "metadata": {
    "pycharm": {
     "is_executing": false,
     "name": "#%%\n"
    }
   },
   "outputs": [
    {
     "name": "stdout",
     "output_type": "stream",
     "text": [
      "(584, 7) (147, 7) (584, 1) (147, 1)\n",
      "\n",
      "Executing Linear Regression =>\n",
      "MSE: 240679.10\n",
      "MAPE: 99.35 %\n",
      "\n",
      "Executing KNN Regression =>\n",
      "MSE: 183438.66\n",
      "MAPE: 81.81 %\n"
     ]
    }
   ],
   "source": [
    "run_all_models(d_features, d_casual)"
   ]
  },
  {
   "cell_type": "markdown",
   "metadata": {},
   "source": [
    "#### Running models for 'registered' target variable"
   ]
  },
  {
   "cell_type": "code",
   "execution_count": 119,
   "metadata": {
    "pycharm": {
     "is_executing": false,
     "name": "#%%\n"
    }
   },
   "outputs": [
    {
     "name": "stdout",
     "output_type": "stream",
     "text": [
      "(584, 7) (147, 7) (584, 1) (147, 1)\n",
      "\n",
      "Executing Linear Regression =>\n",
      "MSE: 1345423.08\n",
      "MAPE: 42.10 %\n",
      "\n",
      "Executing KNN Regression =>\n",
      "MSE: 1494425.71\n",
      "MAPE: 44.86 %\n"
     ]
    }
   ],
   "source": [
    "run_all_models(d_features, d_registered)"
   ]
  },
  {
   "cell_type": "markdown",
   "metadata": {
    "pycharm": {
     "name": "#%% md\n"
    }
   },
   "source": [
    "## Hour dataset\n",
    "#### Load dataset & explore"
   ]
  },
  {
   "cell_type": "code",
   "execution_count": 120,
   "metadata": {
    "pycharm": {
     "is_executing": false,
     "name": "#%% \n"
    }
   },
   "outputs": [
    {
     "name": "stdout",
     "output_type": "stream",
     "text": [
      "(17379, 17)\n",
      "Exploring field values summary...\n",
      "          instant        season            yr          mnth            hr  \\\n",
      "count  17379.0000  17379.000000  17379.000000  17379.000000  17379.000000   \n",
      "mean    8690.0000      2.501640      0.502561      6.537775     11.546752   \n",
      "std     5017.0295      1.106918      0.500008      3.438776      6.914405   \n",
      "min        1.0000      1.000000      0.000000      1.000000      0.000000   \n",
      "25%     4345.5000      2.000000      0.000000      4.000000      6.000000   \n",
      "50%     8690.0000      3.000000      1.000000      7.000000     12.000000   \n",
      "75%    13034.5000      3.000000      1.000000     10.000000     18.000000   \n",
      "max    17379.0000      4.000000      1.000000     12.000000     23.000000   \n",
      "\n",
      "            holiday       weekday    workingday    weathersit          temp  \\\n",
      "count  17379.000000  17379.000000  17379.000000  17379.000000  17379.000000   \n",
      "mean       0.028770      3.003683      0.682721      1.425283      0.496987   \n",
      "std        0.167165      2.005771      0.465431      0.639357      0.192556   \n",
      "min        0.000000      0.000000      0.000000      1.000000      0.020000   \n",
      "25%        0.000000      1.000000      0.000000      1.000000      0.340000   \n",
      "50%        0.000000      3.000000      1.000000      1.000000      0.500000   \n",
      "75%        0.000000      5.000000      1.000000      2.000000      0.660000   \n",
      "max        1.000000      6.000000      1.000000      4.000000      1.000000   \n",
      "\n",
      "              atemp           hum     windspeed        casual    registered  \\\n",
      "count  17379.000000  17379.000000  17379.000000  17379.000000  17379.000000   \n",
      "mean       0.475775      0.627229      0.190098     35.676218    153.786869   \n",
      "std        0.171850      0.192930      0.122340     49.305030    151.357286   \n",
      "min        0.000000      0.000000      0.000000      0.000000      0.000000   \n",
      "25%        0.333300      0.480000      0.104500      4.000000     34.000000   \n",
      "50%        0.484800      0.630000      0.194000     17.000000    115.000000   \n",
      "75%        0.621200      0.780000      0.253700     48.000000    220.000000   \n",
      "max        1.000000      1.000000      0.850700    367.000000    886.000000   \n",
      "\n",
      "                cnt  \n",
      "count  17379.000000  \n",
      "mean     189.463088  \n",
      "std      181.387599  \n",
      "min        1.000000  \n",
      "25%       40.000000  \n",
      "50%      142.000000  \n",
      "75%      281.000000  \n",
      "max      977.000000  \n",
      "\n",
      "Exploring field types...\n",
      "<class 'pandas.core.frame.DataFrame'>\n",
      "RangeIndex: 17379 entries, 0 to 17378\n",
      "Data columns (total 17 columns):\n",
      "instant       17379 non-null int64\n",
      "dteday        17379 non-null object\n",
      "season        17379 non-null int64\n",
      "yr            17379 non-null int64\n",
      "mnth          17379 non-null int64\n",
      "hr            17379 non-null int64\n",
      "holiday       17379 non-null int64\n",
      "weekday       17379 non-null int64\n",
      "workingday    17379 non-null int64\n",
      "weathersit    17379 non-null int64\n",
      "temp          17379 non-null float64\n",
      "atemp         17379 non-null float64\n",
      "hum           17379 non-null float64\n",
      "windspeed     17379 non-null float64\n",
      "casual        17379 non-null int64\n",
      "registered    17379 non-null int64\n",
      "cnt           17379 non-null int64\n",
      "dtypes: float64(4), int64(12), object(1)\n",
      "memory usage: 2.2+ MB\n",
      "None\n",
      "\n",
      "Exploring field correlation...\n",
      "             instant    season        yr      mnth        hr   holiday  \\\n",
      "instant     1.000000  0.404046  0.866014  0.489164 -0.004775  0.014723   \n",
      "season      0.404046  1.000000 -0.010742  0.830386 -0.006117 -0.009585   \n",
      "yr          0.866014 -0.010742  1.000000 -0.010473 -0.003867  0.006692   \n",
      "mnth        0.489164  0.830386 -0.010473  1.000000 -0.005772  0.018430   \n",
      "hr         -0.004775 -0.006117 -0.003867 -0.005772  1.000000  0.000479   \n",
      "holiday     0.014723 -0.009585  0.006692  0.018430  0.000479  1.000000   \n",
      "weekday     0.001357 -0.002335 -0.004485  0.010400 -0.003498 -0.102088   \n",
      "workingday -0.003416  0.013743 -0.002196 -0.003477  0.002285 -0.252471   \n",
      "weathersit -0.014198 -0.014524 -0.019157  0.005400 -0.020203 -0.017036   \n",
      "temp        0.136178  0.312025  0.040913  0.201691  0.137603 -0.027340   \n",
      "atemp       0.137615  0.319380  0.039222  0.208096  0.133750 -0.030973   \n",
      "hum         0.009577  0.150625 -0.083546  0.164411 -0.276498 -0.010588   \n",
      "windspeed  -0.074505 -0.149773 -0.008740 -0.135386  0.137252  0.003988   \n",
      "casual      0.158295  0.120206  0.142779  0.068457  0.301202  0.031564   \n",
      "registered  0.282046  0.174226  0.253684  0.122273  0.374141 -0.047345   \n",
      "cnt         0.278379  0.178056  0.250495  0.120638  0.394071 -0.030927   \n",
      "\n",
      "             weekday  workingday  weathersit      temp     atemp       hum  \\\n",
      "instant     0.001357   -0.003416   -0.014198  0.136178  0.137615  0.009577   \n",
      "season     -0.002335    0.013743   -0.014524  0.312025  0.319380  0.150625   \n",
      "yr         -0.004485   -0.002196   -0.019157  0.040913  0.039222 -0.083546   \n",
      "mnth        0.010400   -0.003477    0.005400  0.201691  0.208096  0.164411   \n",
      "hr         -0.003498    0.002285   -0.020203  0.137603  0.133750 -0.276498   \n",
      "holiday    -0.102088   -0.252471   -0.017036 -0.027340 -0.030973 -0.010588   \n",
      "weekday     1.000000    0.035955    0.003311 -0.001795 -0.008821 -0.037158   \n",
      "workingday  0.035955    1.000000    0.044672  0.055390  0.054667  0.015688   \n",
      "weathersit  0.003311    0.044672    1.000000 -0.102640 -0.105563  0.418130   \n",
      "temp       -0.001795    0.055390   -0.102640  1.000000  0.987672 -0.069881   \n",
      "atemp      -0.008821    0.054667   -0.105563  0.987672  1.000000 -0.051918   \n",
      "hum        -0.037158    0.015688    0.418130 -0.069881 -0.051918  1.000000   \n",
      "windspeed   0.011502   -0.011830    0.026226 -0.023125 -0.062336 -0.290105   \n",
      "casual      0.032721   -0.300942   -0.152628  0.459616  0.454080 -0.347028   \n",
      "registered  0.021578    0.134326   -0.120966  0.335361  0.332559 -0.273933   \n",
      "cnt         0.026900    0.030284   -0.142426  0.404772  0.400929 -0.322911   \n",
      "\n",
      "            windspeed    casual  registered       cnt  \n",
      "instant     -0.074505  0.158295    0.282046  0.278379  \n",
      "season      -0.149773  0.120206    0.174226  0.178056  \n",
      "yr          -0.008740  0.142779    0.253684  0.250495  \n",
      "mnth        -0.135386  0.068457    0.122273  0.120638  \n",
      "hr           0.137252  0.301202    0.374141  0.394071  \n",
      "holiday      0.003988  0.031564   -0.047345 -0.030927  \n",
      "weekday      0.011502  0.032721    0.021578  0.026900  \n",
      "workingday  -0.011830 -0.300942    0.134326  0.030284  \n",
      "weathersit   0.026226 -0.152628   -0.120966 -0.142426  \n",
      "temp        -0.023125  0.459616    0.335361  0.404772  \n",
      "atemp       -0.062336  0.454080    0.332559  0.400929  \n",
      "hum         -0.290105 -0.347028   -0.273933 -0.322911  \n",
      "windspeed    1.000000  0.090287    0.082321  0.093234  \n",
      "casual       0.090287  1.000000    0.506618  0.694564  \n",
      "registered   0.082321  0.506618    1.000000  0.972151  \n",
      "cnt          0.093234  0.694564    0.972151  1.000000  \n"
     ]
    }
   ],
   "source": [
    "hours: DataFrame = pd.read_csv('./hour.csv')\n",
    "print(hours.shape)\n",
    "explore_df(hours)"
   ]
  },
  {
   "cell_type": "markdown",
   "metadata": {},
   "source": [
    "#### Fix datatype of columns & split the data into feature-set & target variables"
   ]
  },
  {
   "cell_type": "code",
   "execution_count": 121,
   "metadata": {
    "pycharm": {
     "is_executing": false,
     "name": "#%%\n"
    }
   },
   "outputs": [
    {
     "name": "stdout",
     "output_type": "stream",
     "text": [
      "Converting the following columns to categorical... ['season', 'holiday', 'weekday', 'weathersit', 'hr']\n",
      "<class 'pandas.core.frame.DataFrame'>\n",
      "RangeIndex: 17379 entries, 0 to 17378\n",
      "Data columns (total 17 columns):\n",
      "instant       17379 non-null int64\n",
      "dteday        17379 non-null object\n",
      "season        17379 non-null category\n",
      "yr            17379 non-null int64\n",
      "mnth          17379 non-null int64\n",
      "hr            17379 non-null category\n",
      "holiday       17379 non-null category\n",
      "weekday       17379 non-null category\n",
      "workingday    17379 non-null int64\n",
      "weathersit    17379 non-null category\n",
      "temp          17379 non-null float64\n",
      "atemp         17379 non-null float64\n",
      "hum           17379 non-null float64\n",
      "windspeed     17379 non-null float64\n",
      "casual        17379 non-null int64\n",
      "registered    17379 non-null int64\n",
      "cnt           17379 non-null int64\n",
      "dtypes: category(5), float64(4), int64(7), object(1)\n",
      "memory usage: 1.6+ MB\n",
      "None\n",
      "\n",
      "features: (17379, 8)  casual: (17379, 1)  registered: (17379, 1)\n"
     ]
    }
   ],
   "source": [
    "hours = fix_col_types(hours, True)\n",
    "# Splitting the data into feature-set & target variables\n",
    "h_features, h_casual, h_registered = split_columns(hours, True)"
   ]
  },
  {
   "cell_type": "markdown",
   "metadata": {},
   "source": [
    "#### Running models for 'casual' target variable"
   ]
  },
  {
   "cell_type": "code",
   "execution_count": 122,
   "metadata": {
    "pycharm": {
     "is_executing": false,
     "name": "#%%\n"
    }
   },
   "outputs": [
    {
     "name": "stdout",
     "output_type": "stream",
     "text": [
      "(13903, 8) (3476, 8) (13903, 1) (3476, 1)\n",
      "\n",
      "Executing Linear Regression =>\n",
      "MSE: 1640.89\n",
      "MAPE: 284.98 %\n",
      "\n",
      "Executing KNN Regression =>\n",
      "MSE: 655.70\n",
      "MAPE: 87.57 %\n"
     ]
    }
   ],
   "source": [
    "run_all_models(h_features, h_casual)"
   ]
  },
  {
   "cell_type": "markdown",
   "metadata": {},
   "source": [
    "#### Running models for 'registered' target variable"
   ]
  },
  {
   "cell_type": "code",
   "execution_count": 123,
   "metadata": {
    "pycharm": {
     "is_executing": false,
     "name": "#%%\n"
    }
   },
   "outputs": [
    {
     "name": "stdout",
     "output_type": "stream",
     "text": [
      "(13903, 8) (3476, 8) (13903, 1) (3476, 1)\n",
      "\n",
      "Executing Linear Regression =>\n",
      "MSE: 16774.86\n",
      "MAPE: 334.86 %\n",
      "\n",
      "Executing KNN Regression =>\n",
      "MSE: 5181.20\n",
      "MAPE: 51.09 %\n"
     ]
    }
   ],
   "source": [
    "run_all_models(h_features, h_registered)\n"
   ]
  }
 ],
 "metadata": {
  "kernelspec": {
   "display_name": "PyCharm (dsba6156)",
   "language": "python",
   "name": "pycharm-67ea9c55"
  },
  "language_info": {
   "codemirror_mode": {
    "name": "ipython",
    "version": 3
   },
   "file_extension": ".py",
   "mimetype": "text/x-python",
   "name": "python",
   "nbconvert_exporter": "python",
   "pygments_lexer": "ipython3",
   "version": "3.7.2"
  },
  "pycharm": {
   "stem_cell": {
    "cell_type": "raw",
    "metadata": {
     "collapsed": false
    },
    "source": []
   }
  }
 },
 "nbformat": 4,
 "nbformat_minor": 1
}
