{
 "cells": [
  {
   "cell_type": "code",
   "execution_count": 24,
   "metadata": {
    "collapsed": true,
    "pycharm": {
     "is_executing": false
    }
   },
   "outputs": [],
   "source": [
    "import pandas as pd\n",
    "import numpy as np\n",
    "from pandas import DataFrame\n",
    "\n",
    "from sklearn import tree\n",
    "from sklearn.model_selection import train_test_split\n",
    "from sklearn.tree import DecisionTreeClassifier as DTree\n",
    "from sklearn.naive_bayes import BernoulliNB,GaussianNB\n",
    "from sklearn.metrics import f1_score, precision_score, recall_score, confusion_matrix, classification_report\n",
    "\n",
    "from sklearn.model_selection import cross_val_score\n",
    "\n",
    "from sklearn import preprocessing\n",
    "le = preprocessing.LabelEncoder()"
   ]
  },
  {
   "cell_type": "markdown",
   "metadata": {
    "pycharm": {
     "name": "#%% md\n"
    }
   },
   "source": [
    "#### Define functions"
   ]
  },
  {
   "cell_type": "code",
   "execution_count": 25,
   "metadata": {
    "pycharm": {
     "is_executing": false,
     "name": "#%%\n"
    }
   },
   "outputs": [],
   "source": [
    "def read_file() -> DataFrame:\n",
    "    file_data: DataFrame = pd.read_csv('../data/house-votes-84.csv')\n",
    "    print(file_data.shape)\n",
    "    print(file_data.isna().sum())\n",
    "    return file_data\n",
    "\n",
    "def split_data(x: DataFrame, y: DataFrame) -> tuple:\n",
    "    z = train_test_split(x, y, test_size=0.2, random_state=0)\n",
    "    return z\n",
    "\n",
    "def build_model_dt(_x_train: DataFrame, _y_train: DataFrame) -> DTree:\n",
    "    _model = DTree(criterion='entropy')\n",
    "    _model.fit(_x_train, _y_train)\n",
    "    return _model\n",
    "\n",
    "def build_model_nb(_x_train: DataFrame, _y_train: DataFrame) -> BernoulliNB:\n",
    "    bayes_clf = BernoulliNB()\n",
    "    bayes_clf.fit(_x_train, _y_train)\n",
    "    return bayes_clf\n",
    "\n",
    "# TODO fix this.\n",
    "def eval_model(_model: DTree, _x_test, _y_test) -> None:\n",
    "    y_pred = _model.predict(_x_test)\n",
    "\n",
    "    #compare y_pred with actual targets for your test set(y_test) and calculate precision, recall, f1-score\n",
    "    print(\"Precision: %0.2f\" %precision_score(_y_test, y_pred , average=\"macro\"))\n",
    "    print(\"Recall:  %0.2f\" %recall_score(_y_test, y_pred , average=\"macro\"))\n",
    "    print(\"F1-score:  %0.2f\" %f1_score(_y_test, y_pred , average=\"macro\"))\n",
    "\n",
    "    print(confusion_matrix(_y_test, y_pred))\n",
    "    print(classification_report(_y_test, y_pred))\n",
    "\n",
    "def run_all_models(_x_train, _y_train, _x_test, _y_test):\n",
    "    # Decision Tree model\n",
    "    dt_model = build_model_dt(_x_train, _y_train)\n",
    "    eval_model(dt_model, _x_test, _y_test)\n",
    "\n",
    "    # Naive Bayesian model\n",
    "    nb_model = build_model_nb(_x_train, _y_train)\n",
    "    eval_model(nb_model, _x_test, _y_test)\n",
    "\n",
    "def split_to_x_y(df: DataFrame) -> tuple:\n",
    "    x = df.drop(columns=['Class Name'])\n",
    "    y = df[['Class Name']]\n",
    "    return x, y\n",
    "\n",
    "def run_cross_validation(model, x, y) -> None:\n",
    "    #scores = cross_val_score(nb, X, y, cv=5, scoring=scoring)\n",
    "    print(\"Precision: %0.2f (+/- %0.2f)\" % (cross_val_score(model, x, y, cv=5, scoring='precision').mean(), cross_val_score(model, x, y, cv=5, scoring='precision').std() * 2))\n",
    "    print(\"Recall: %0.2f (+/- %0.2f)\" % (cross_val_score(model, x, y, cv=5, scoring='recall').mean(), cross_val_score(model, x, y, cv=5, scoring='recall').std() * 2))\n",
    "    print(\"F1-score: %0.2f (+/- %0.2f)\" % (cross_val_score(model, x, y, cv=5, scoring='f1').mean(), cross_val_score(model, x, y, cv=5, scoring='f1').std() * 2))\n",
    "\n",
    "def run_cross_validation_all(x, y) -> None:\n",
    "    print(\"Naive-Bayes Classifier\")\n",
    "    # use Gaussian's NB if the inputs are a mix of categorical & continuous.\n",
    "    # nb = GaussianNB()\n",
    "    # use Bernoulli's NB if all the inputs are categorical.\n",
    "    nb = BernoulliNB()\n",
    "    run_cross_validation(nb, x, y)\n",
    "\n",
    "    print(\"Decision Tree Classifier\")\n",
    "    clf = tree.DecisionTreeClassifier()\n",
    "    run_cross_validation(clf, x, y)\n",
    "\n",
    "def split_and_run_models(_data: DataFrame) -> None:\n",
    "    x_values, y_values = split_to_x_y(_data)\n",
    "    x_train, x_test, y_train, y_test = split_data(x_values, y_values)\n",
    "    \n",
    "    # run all models\n",
    "    run_all_models(x_train, y_train, x_test, y_test)\n",
    "    # run cross validation\n",
    "    run_cross_validation_all(x_values, y_values)\n",
    "\n",
    "def impute_1_drop(_data: DataFrame) -> DataFrame:\n",
    "    _data_2 = _data.dropna(inplace=False)\n",
    "    return _data_2\n",
    "\n",
    "def impute_2_new_val(_data: DataFrame) -> DataFrame:\n",
    "    df_fill = _data.fillna('x',inplace=False)\n",
    "    return df_fill\n",
    "\n",
    "def impute_3_mode(_data: DataFrame) -> DataFrame:\n",
    "    df_fill = pd.DataFrame()\n",
    "    for col in _data.columns:\n",
    "        df_fill[col] = _data[col].astype('category')\n",
    "        df_fill[col].fillna(_data[col].mode()[0],inplace=True)\n",
    "    return df_fill"
   ]
  },
  {
   "cell_type": "markdown",
   "metadata": {},
   "source": [
    "#### Option #1 - ignore missing values\n",
    "- About 50% (203 / 435) of the records dropped due to missing values."
   ]
  },
  {
   "cell_type": "code",
   "execution_count": 26,
   "metadata": {
    "pycharm": {
     "is_executing": false,
     "name": "#%%\n"
    }
   },
   "outputs": [
    {
     "name": "stdout",
     "output_type": "stream",
     "text": [
      "(435, 17)\n",
      "Class Name                                  0\n",
      "handicapped-infants                        12\n",
      "water-project-cost-sharing                 48\n",
      "adoption-of-the-budget-resolution          11\n",
      "physician-fee-freeze                       11\n",
      "el-salvador-aid                            15\n",
      "religious-groups-in-schools                11\n",
      "anti-satellite-test-ban                    14\n",
      "aid-to-nicaraguan-contras                  15\n",
      "mx-missile                                 22\n",
      "immigration                                 7\n",
      "synfuels-corporation-cutback               21\n",
      "education-spending                         31\n",
      "superfund-right-to-sue                     25\n",
      "crime                                      17\n",
      "duty-free-exports                          28\n",
      "export-administration-act-south-africa    104\n",
      "dtype: int64\n",
      "Precision: 0.91\n",
      "Recall:  0.91\n",
      "F1-score:  0.91\n",
      "[[21  2]\n",
      " [ 2 22]]\n",
      "              precision    recall  f1-score   support\n",
      "\n",
      "           0       0.91      0.91      0.91        23\n",
      "           1       0.92      0.92      0.92        24\n",
      "\n",
      "    accuracy                           0.91        47\n",
      "   macro avg       0.91      0.91      0.91        47\n",
      "weighted avg       0.91      0.91      0.91        47\n",
      "\n",
      "Precision: 0.94\n",
      "Recall:  0.94\n",
      "F1-score:  0.94\n",
      "[[22  1]\n",
      " [ 2 22]]\n",
      "              precision    recall  f1-score   support\n",
      "\n",
      "           0       0.92      0.96      0.94        23\n",
      "           1       0.96      0.92      0.94        24\n",
      "\n",
      "    accuracy                           0.94        47\n",
      "   macro avg       0.94      0.94      0.94        47\n",
      "weighted avg       0.94      0.94      0.94        47\n",
      "\n",
      "Naive-Bayes Classifier\n",
      "Precision: 0.89 (+/- 0.19)\n",
      "Recall: 0.95 (+/- 0.09)\n",
      "F1-score: 0.91 (+/- 0.13)\n",
      "Decision Tree Classifier\n",
      "Precision: 0.95 (+/- 0.13)\n",
      "Recall: 0.95 (+/- 0.09)\n",
      "F1-score: 0.95 (+/- 0.07)\n"
     ]
    },
    {
     "name": "stderr",
     "output_type": "stream",
     "text": [
      "c:\\users\\balav\\appdata\\local\\programs\\python\\python37-32\\lib\\site-packages\\sklearn\\utils\\validation.py:724: DataConversionWarning: A column-vector y was passed when a 1d array was expected. Please change the shape of y to (n_samples, ), for example using ravel().\n",
      "  y = column_or_1d(y, warn=True)\n",
      "c:\\users\\balav\\appdata\\local\\programs\\python\\python37-32\\lib\\site-packages\\sklearn\\utils\\validation.py:724: DataConversionWarning: A column-vector y was passed when a 1d array was expected. Please change the shape of y to (n_samples, ), for example using ravel().\n",
      "  y = column_or_1d(y, warn=True)\n",
      "c:\\users\\balav\\appdata\\local\\programs\\python\\python37-32\\lib\\site-packages\\sklearn\\utils\\validation.py:724: DataConversionWarning: A column-vector y was passed when a 1d array was expected. Please change the shape of y to (n_samples, ), for example using ravel().\n",
      "  y = column_or_1d(y, warn=True)\n",
      "c:\\users\\balav\\appdata\\local\\programs\\python\\python37-32\\lib\\site-packages\\sklearn\\utils\\validation.py:724: DataConversionWarning: A column-vector y was passed when a 1d array was expected. Please change the shape of y to (n_samples, ), for example using ravel().\n",
      "  y = column_or_1d(y, warn=True)\n",
      "c:\\users\\balav\\appdata\\local\\programs\\python\\python37-32\\lib\\site-packages\\sklearn\\utils\\validation.py:724: DataConversionWarning: A column-vector y was passed when a 1d array was expected. Please change the shape of y to (n_samples, ), for example using ravel().\n",
      "  y = column_or_1d(y, warn=True)\n",
      "c:\\users\\balav\\appdata\\local\\programs\\python\\python37-32\\lib\\site-packages\\sklearn\\utils\\validation.py:724: DataConversionWarning: A column-vector y was passed when a 1d array was expected. Please change the shape of y to (n_samples, ), for example using ravel().\n",
      "  y = column_or_1d(y, warn=True)\n",
      "c:\\users\\balav\\appdata\\local\\programs\\python\\python37-32\\lib\\site-packages\\sklearn\\utils\\validation.py:724: DataConversionWarning: A column-vector y was passed when a 1d array was expected. Please change the shape of y to (n_samples, ), for example using ravel().\n",
      "  y = column_or_1d(y, warn=True)\n",
      "c:\\users\\balav\\appdata\\local\\programs\\python\\python37-32\\lib\\site-packages\\sklearn\\utils\\validation.py:724: DataConversionWarning: A column-vector y was passed when a 1d array was expected. Please change the shape of y to (n_samples, ), for example using ravel().\n",
      "  y = column_or_1d(y, warn=True)\n",
      "c:\\users\\balav\\appdata\\local\\programs\\python\\python37-32\\lib\\site-packages\\sklearn\\utils\\validation.py:724: DataConversionWarning: A column-vector y was passed when a 1d array was expected. Please change the shape of y to (n_samples, ), for example using ravel().\n",
      "  y = column_or_1d(y, warn=True)\n",
      "c:\\users\\balav\\appdata\\local\\programs\\python\\python37-32\\lib\\site-packages\\sklearn\\utils\\validation.py:724: DataConversionWarning: A column-vector y was passed when a 1d array was expected. Please change the shape of y to (n_samples, ), for example using ravel().\n",
      "  y = column_or_1d(y, warn=True)\n",
      "c:\\users\\balav\\appdata\\local\\programs\\python\\python37-32\\lib\\site-packages\\sklearn\\utils\\validation.py:724: DataConversionWarning: A column-vector y was passed when a 1d array was expected. Please change the shape of y to (n_samples, ), for example using ravel().\n",
      "  y = column_or_1d(y, warn=True)\n",
      "c:\\users\\balav\\appdata\\local\\programs\\python\\python37-32\\lib\\site-packages\\sklearn\\utils\\validation.py:724: DataConversionWarning: A column-vector y was passed when a 1d array was expected. Please change the shape of y to (n_samples, ), for example using ravel().\n",
      "  y = column_or_1d(y, warn=True)\n",
      "c:\\users\\balav\\appdata\\local\\programs\\python\\python37-32\\lib\\site-packages\\sklearn\\utils\\validation.py:724: DataConversionWarning: A column-vector y was passed when a 1d array was expected. Please change the shape of y to (n_samples, ), for example using ravel().\n",
      "  y = column_or_1d(y, warn=True)\n",
      "c:\\users\\balav\\appdata\\local\\programs\\python\\python37-32\\lib\\site-packages\\sklearn\\utils\\validation.py:724: DataConversionWarning: A column-vector y was passed when a 1d array was expected. Please change the shape of y to (n_samples, ), for example using ravel().\n",
      "  y = column_or_1d(y, warn=True)\n",
      "c:\\users\\balav\\appdata\\local\\programs\\python\\python37-32\\lib\\site-packages\\sklearn\\utils\\validation.py:724: DataConversionWarning: A column-vector y was passed when a 1d array was expected. Please change the shape of y to (n_samples, ), for example using ravel().\n",
      "  y = column_or_1d(y, warn=True)\n",
      "c:\\users\\balav\\appdata\\local\\programs\\python\\python37-32\\lib\\site-packages\\sklearn\\utils\\validation.py:724: DataConversionWarning: A column-vector y was passed when a 1d array was expected. Please change the shape of y to (n_samples, ), for example using ravel().\n",
      "  y = column_or_1d(y, warn=True)\n",
      "c:\\users\\balav\\appdata\\local\\programs\\python\\python37-32\\lib\\site-packages\\sklearn\\utils\\validation.py:724: DataConversionWarning: A column-vector y was passed when a 1d array was expected. Please change the shape of y to (n_samples, ), for example using ravel().\n",
      "  y = column_or_1d(y, warn=True)\n",
      "c:\\users\\balav\\appdata\\local\\programs\\python\\python37-32\\lib\\site-packages\\sklearn\\utils\\validation.py:724: DataConversionWarning: A column-vector y was passed when a 1d array was expected. Please change the shape of y to (n_samples, ), for example using ravel().\n",
      "  y = column_or_1d(y, warn=True)\n",
      "c:\\users\\balav\\appdata\\local\\programs\\python\\python37-32\\lib\\site-packages\\sklearn\\utils\\validation.py:724: DataConversionWarning: A column-vector y was passed when a 1d array was expected. Please change the shape of y to (n_samples, ), for example using ravel().\n",
      "  y = column_or_1d(y, warn=True)\n",
      "c:\\users\\balav\\appdata\\local\\programs\\python\\python37-32\\lib\\site-packages\\sklearn\\utils\\validation.py:724: DataConversionWarning: A column-vector y was passed when a 1d array was expected. Please change the shape of y to (n_samples, ), for example using ravel().\n",
      "  y = column_or_1d(y, warn=True)\n",
      "c:\\users\\balav\\appdata\\local\\programs\\python\\python37-32\\lib\\site-packages\\sklearn\\utils\\validation.py:724: DataConversionWarning: A column-vector y was passed when a 1d array was expected. Please change the shape of y to (n_samples, ), for example using ravel().\n",
      "  y = column_or_1d(y, warn=True)\n",
      "c:\\users\\balav\\appdata\\local\\programs\\python\\python37-32\\lib\\site-packages\\sklearn\\utils\\validation.py:724: DataConversionWarning: A column-vector y was passed when a 1d array was expected. Please change the shape of y to (n_samples, ), for example using ravel().\n",
      "  y = column_or_1d(y, warn=True)\n",
      "c:\\users\\balav\\appdata\\local\\programs\\python\\python37-32\\lib\\site-packages\\sklearn\\utils\\validation.py:724: DataConversionWarning: A column-vector y was passed when a 1d array was expected. Please change the shape of y to (n_samples, ), for example using ravel().\n",
      "  y = column_or_1d(y, warn=True)\n",
      "c:\\users\\balav\\appdata\\local\\programs\\python\\python37-32\\lib\\site-packages\\sklearn\\utils\\validation.py:724: DataConversionWarning: A column-vector y was passed when a 1d array was expected. Please change the shape of y to (n_samples, ), for example using ravel().\n",
      "  y = column_or_1d(y, warn=True)\n",
      "c:\\users\\balav\\appdata\\local\\programs\\python\\python37-32\\lib\\site-packages\\sklearn\\utils\\validation.py:724: DataConversionWarning: A column-vector y was passed when a 1d array was expected. Please change the shape of y to (n_samples, ), for example using ravel().\n",
      "  y = column_or_1d(y, warn=True)\n",
      "c:\\users\\balav\\appdata\\local\\programs\\python\\python37-32\\lib\\site-packages\\sklearn\\utils\\validation.py:724: DataConversionWarning: A column-vector y was passed when a 1d array was expected. Please change the shape of y to (n_samples, ), for example using ravel().\n",
      "  y = column_or_1d(y, warn=True)\n",
      "c:\\users\\balav\\appdata\\local\\programs\\python\\python37-32\\lib\\site-packages\\sklearn\\utils\\validation.py:724: DataConversionWarning: A column-vector y was passed when a 1d array was expected. Please change the shape of y to (n_samples, ), for example using ravel().\n",
      "  y = column_or_1d(y, warn=True)\n",
      "c:\\users\\balav\\appdata\\local\\programs\\python\\python37-32\\lib\\site-packages\\sklearn\\utils\\validation.py:724: DataConversionWarning: A column-vector y was passed when a 1d array was expected. Please change the shape of y to (n_samples, ), for example using ravel().\n",
      "  y = column_or_1d(y, warn=True)\n",
      "c:\\users\\balav\\appdata\\local\\programs\\python\\python37-32\\lib\\site-packages\\sklearn\\utils\\validation.py:724: DataConversionWarning: A column-vector y was passed when a 1d array was expected. Please change the shape of y to (n_samples, ), for example using ravel().\n",
      "  y = column_or_1d(y, warn=True)\n",
      "c:\\users\\balav\\appdata\\local\\programs\\python\\python37-32\\lib\\site-packages\\sklearn\\utils\\validation.py:724: DataConversionWarning: A column-vector y was passed when a 1d array was expected. Please change the shape of y to (n_samples, ), for example using ravel().\n",
      "  y = column_or_1d(y, warn=True)\n",
      "c:\\users\\balav\\appdata\\local\\programs\\python\\python37-32\\lib\\site-packages\\sklearn\\utils\\validation.py:724: DataConversionWarning: A column-vector y was passed when a 1d array was expected. Please change the shape of y to (n_samples, ), for example using ravel().\n",
      "  y = column_or_1d(y, warn=True)\n"
     ]
    }
   ],
   "source": [
    "data: DataFrame = read_file()\n",
    "\n",
    "data_1 = impute_1_drop(data)\n",
    "data_1_transformed = data_1.apply(le.fit_transform)\n",
    "\n",
    "split_and_run_models(data_1_transformed)"
   ]
  },
  {
   "cell_type": "markdown",
   "metadata": {
    "pycharm": {
     "name": "#%% md\n"
    }
   },
   "source": [
    "#### Option #2 - treat missing values as values"
   ]
  },
  {
   "cell_type": "code",
   "execution_count": 20,
   "metadata": {
    "pycharm": {
     "is_executing": false,
     "name": "#%%\n"
    }
   },
   "outputs": [
    {
     "name": "stdout",
     "output_type": "stream",
     "text": [
      "Precision: 0.93\n",
      "Recall:  0.93\n",
      "F1-score:  0.93\n",
      "[[48  4]\n",
      " [ 2 33]]\n",
      "              precision    recall  f1-score   support\n",
      "\n",
      "           0       0.96      0.92      0.94        52\n",
      "           1       0.89      0.94      0.92        35\n",
      "\n",
      "    accuracy                           0.93        87\n",
      "   macro avg       0.93      0.93      0.93        87\n",
      "weighted avg       0.93      0.93      0.93        87\n",
      "\n",
      "Precision: 0.87\n",
      "Recall:  0.88\n",
      "F1-score:  0.87\n",
      "[[43  9]\n",
      " [ 2 33]]\n",
      "              precision    recall  f1-score   support\n",
      "\n",
      "           0       0.96      0.83      0.89        52\n",
      "           1       0.79      0.94      0.86        35\n",
      "\n",
      "    accuracy                           0.87        87\n",
      "   macro avg       0.87      0.88      0.87        87\n",
      "weighted avg       0.89      0.87      0.87        87\n",
      "\n"
     ]
    },
    {
     "name": "stderr",
     "output_type": "stream",
     "text": [
      "c:\\users\\balav\\appdata\\local\\programs\\python\\python37-32\\lib\\site-packages\\sklearn\\utils\\validation.py:724: DataConversionWarning: A column-vector y was passed when a 1d array was expected. Please change the shape of y to (n_samples, ), for example using ravel().\n",
      "  y = column_or_1d(y, warn=True)\n"
     ]
    }
   ],
   "source": [
    "data_2 = impute_2_new_val(data)\n",
    "data_2_transformed = data_2.apply(le.fit_transform)\n",
    "\n",
    "split_and_run_models(data_2_transformed)"
   ]
  },
  {
   "cell_type": "markdown",
   "metadata": {},
   "source": [
    "#### Option #3 - impute missing values"
   ]
  },
  {
   "cell_type": "code",
   "execution_count": 21,
   "metadata": {
    "pycharm": {
     "is_executing": false,
     "name": "#%%\n"
    }
   },
   "outputs": [
    {
     "name": "stdout",
     "output_type": "stream",
     "text": [
      "Precision: 0.93\n",
      "Recall:  0.93\n",
      "F1-score:  0.93\n",
      "[[49  3]\n",
      " [ 3 32]]\n",
      "              precision    recall  f1-score   support\n",
      "\n",
      "           0       0.94      0.94      0.94        52\n",
      "           1       0.91      0.91      0.91        35\n",
      "\n",
      "    accuracy                           0.93        87\n",
      "   macro avg       0.93      0.93      0.93        87\n",
      "weighted avg       0.93      0.93      0.93        87\n",
      "\n",
      "Precision: 0.88\n",
      "Recall:  0.89\n",
      "F1-score:  0.88\n",
      "[[44  8]\n",
      " [ 2 33]]\n",
      "              precision    recall  f1-score   support\n",
      "\n",
      "           0       0.96      0.85      0.90        52\n",
      "           1       0.80      0.94      0.87        35\n",
      "\n",
      "    accuracy                           0.89        87\n",
      "   macro avg       0.88      0.89      0.88        87\n",
      "weighted avg       0.90      0.89      0.89        87\n",
      "\n"
     ]
    },
    {
     "name": "stderr",
     "output_type": "stream",
     "text": [
      "c:\\users\\balav\\appdata\\local\\programs\\python\\python37-32\\lib\\site-packages\\sklearn\\utils\\validation.py:724: DataConversionWarning: A column-vector y was passed when a 1d array was expected. Please change the shape of y to (n_samples, ), for example using ravel().\n",
      "  y = column_or_1d(y, warn=True)\n"
     ]
    }
   ],
   "source": [
    "data_3 = impute_3_mode(data)\n",
    "data_3_transformed = data_3.apply(le.fit_transform)\n",
    "\n",
    "split_and_run_models(data_3_transformed)"
   ]
  },
  {
   "cell_type": "markdown",
   "metadata": {},
   "source": [
    "### CrossValidation\n",
    "A great read on this : https://towardsdatascience.com/cross-validation-70289113a072\n"
   ]
  }
 ],
 "metadata": {
  "kernelspec": {
   "name": "pycharm-67ea9c55",
   "language": "python",
   "display_name": "PyCharm (dsba6156)"
  },
  "language_info": {
   "codemirror_mode": {
    "name": "ipython",
    "version": 3
   },
   "file_extension": ".py",
   "mimetype": "text/x-python",
   "name": "python",
   "nbconvert_exporter": "python",
   "pygments_lexer": "ipython3",
   "version": "3.7.2"
  },
  "pycharm": {
   "stem_cell": {
    "cell_type": "raw",
    "source": [],
    "metadata": {
     "collapsed": false
    }
   }
  }
 },
 "nbformat": 4,
 "nbformat_minor": 1
}