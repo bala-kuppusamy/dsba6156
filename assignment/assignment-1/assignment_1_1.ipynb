{
 "cells": [
  {
   "cell_type": "code",
   "execution_count": 102,
   "metadata": {
    "collapsed": true,
    "pycharm": {
     "is_executing": false
    }
   },
   "outputs": [],
   "source": [
    "import pandas as pd\n",
    "import numpy as np\n",
    "from pandas import DataFrame\n",
    "from sklearn.model_selection import train_test_split\n",
    "from sklearn.tree import DecisionTreeClassifier as DTree\n",
    "from sklearn.naive_bayes import BernoulliNB"
   ]
  },
  {
   "cell_type": "markdown",
   "source": [
    "#### Define functions"
   ],
   "metadata": {
    "collapsed": false,
    "pycharm": {
     "name": "#%% md\n"
    }
   }
  },
  {
   "cell_type": "code",
   "execution_count": 123,
   "outputs": [],
   "source": [
    "def read_file() -> DataFrame:\n",
    "    file_data: DataFrame = pd.read_csv('../data/house-votes-84.csv')\n",
    "    print(file_data.shape)\n",
    "    print(file_data.isna().sum())\n",
    "    return file_data\n",
    "\n",
    "# TODO fix this.\n",
    "def add_id_column(_data: DataFrame) -> DataFrame:\n",
    "    df_size = _data.iloc[:, 0:1].size\n",
    "    df2: list = [a + 1 for a in range(0, df_size)]\n",
    "    # TODO fix this.\n",
    "    # _data['id'] = df2\n",
    "    print(_data.shape)\n",
    "    print(_data.columns)\n",
    "    return _data\n",
    "\n",
    "def cleanup_data(_data: DataFrame) -> DataFrame:\n",
    "    _data[_data == 'y'] = 1\n",
    "    _data[_data == 'n'] = 0\n",
    "    print(_data.head(5))\n",
    "    return _data\n",
    "\n",
    "def split_to_x_y(df: DataFrame) -> tuple:\n",
    "    id2 = df.iloc[:, -1:]\n",
    "    print(id2)\n",
    "    x = df.iloc[:, 1:]\n",
    "    y = df.iloc[:, 0:1]\n",
    "    print(x.shape)\n",
    "    print(y.shape)\n",
    "    return x, y\n",
    "\n",
    "def split_data(x: DataFrame, y: DataFrame) -> tuple:\n",
    "    z = train_test_split(x, y, test_size=0.2, random_state=0)\n",
    "    print(z[0].shape)\n",
    "    print(z[1].shape)\n",
    "    print(z[2].shape)\n",
    "    print(z[3].shape)\n",
    "    return z\n",
    "\n",
    "def build_model_dt(_x_train: DataFrame, _y_train: DataFrame) -> DTree:\n",
    "    _model = DTree(criterion='entropy')\n",
    "    _model.fit(_x_train, _y_train)\n",
    "    return _model\n",
    "\n",
    "def build_model_nb(_x_train: DataFrame, _y_train: DataFrame) -> BernoulliNB:\n",
    "    bayes_clf = BernoulliNB()\n",
    "    bayes_clf.fit(_x_train, _y_train)\n",
    "    return bayes_clf\n",
    "\n",
    "# TODO fix this.\n",
    "def eval_model(_model: DTree, _x_test, _y_test) -> DataFrame:\n",
    "    predicted = _model.predict(_x_test)\n",
    "\n",
    "    predicted2 = np.array(predicted)\n",
    "    predicted3 = pd.DataFrame(dict(a = predicted2))\n",
    "\n",
    "    print('y_test', _y_test)\n",
    "    print('predicted', predicted3)\n",
    "\n",
    "    merged = _y_test.join(predicted3)\n",
    "    # merged = pd.merge(_y_test, predicted3)\n",
    "    print(merged)\n",
    "    return merged\n",
    "\n",
    "def run_all_models(_x_train, _y_train, _x_test, _y_test):\n",
    "    # Decision Tree model\n",
    "    dt_model = build_model_dt(_x_train, _y_train)\n",
    "    dt_conf = eval_model(dt_model, _x_test, _y_test)\n",
    "    print(dt_conf)\n",
    "\n",
    "    # Naive Bayesian model\n",
    "    nb_model = build_model_nb(_x_train, _y_train)\n",
    "    nb_conf = eval_model(nb_model, _x_test, _y_test)\n",
    "    print(nb_conf)\n",
    "\n",
    "def split_and_run_models(_data: DataFrame) -> None:\n",
    "    x_values, y_values = split_to_x_y(_data)\n",
    "    x_train, x_test, y_train, y_test = split_data(x_values, y_values)\n",
    "    \n",
    "    # run all models\n",
    "    run_all_models(x_train, y_train, x_test, y_test)\n",
    "\n",
    "def impute_1_drop(_data: DataFrame) -> DataFrame:\n",
    "    _data.dropna(inplace=True)\n",
    "    print(_data.describe())\n",
    "    return _data\n",
    "\n",
    "def impute_2_new_val(_data: DataFrame) -> DataFrame:\n",
    "    _data[pd.isna(_data)] = 2\n",
    "    print(_data.describe())\n",
    "    return _data\n",
    "\n",
    "def impute_3_max(_data: DataFrame) -> DataFrame:\n",
    "    # _data[pd.isna(_data)] = _data.mode()\n",
    "    df_size = _data.iloc[:, 0:1].size\n",
    "    \n",
    "    for i in range(0, df_size):\n",
    "        _data.iloc[i].fillna(_data.iloc[i].mode(), inplace=True)\n",
    "    \n",
    "    print(_data.describe())\n",
    "    return _data"
   ],
   "metadata": {
    "collapsed": false,
    "pycharm": {
     "name": "#%%\n",
     "is_executing": false
    }
   }
  },
  {
   "cell_type": "code",
   "execution_count": 125,
   "outputs": [
    {
     "name": "stdout",
     "text": [
      "(435, 17)\nClass Name                                  0\nhandicapped-infants                        12\nwater-project-cost-sharing                 48\nadoption-of-the-budget-resolution          11\nphysician-fee-freeze                       11\nel-salvador-aid                            15\nreligious-groups-in-schools                11\nanti-satellite-test-ban                    14\naid-to-nicaraguan-contras                  15\nmx-missile                                 22\nimmigration                                 7\nsynfuels-corporation-cutback               21\neducation-spending                         31\nsuperfund-right-to-sue                     25\ncrime                                      17\nduty-free-exports                          28\nexport-administration-act-south-africa    104\ndtype: int64\n(232, 17)\nClass Name                                0\nhandicapped-infants                       0\nwater-project-cost-sharing                0\nadoption-of-the-budget-resolution         0\nphysician-fee-freeze                      0\nel-salvador-aid                           0\nreligious-groups-in-schools               0\nanti-satellite-test-ban                   0\naid-to-nicaraguan-contras                 0\nmx-missile                                0\nimmigration                               0\nsynfuels-corporation-cutback              0\neducation-spending                        0\nsuperfund-right-to-sue                    0\ncrime                                     0\nduty-free-exports                         0\nexport-administration-act-south-africa    0\ndtype: int64\n"
     ],
     "output_type": "stream"
    }
   ],
   "source": [
    "file_data_100: DataFrame = pd.read_csv('./data/house-votes-84.csv')\n",
    "print(file_data_100.shape)\n",
    "print(file_data_100.isna().sum())\n",
    "file_data_200 = file_data_100.dropna(inplace=False)\n",
    "print(file_data_200.shape)\n",
    "print(file_data_200.isna().sum())\n"
   ],
   "metadata": {
    "collapsed": false,
    "pycharm": {
     "name": "#%%\n",
     "is_executing": false
    }
   }
  },
  {
   "cell_type": "markdown",
   "source": [
    "#### Option #1 - ignore missing values\n",
    "- About 50% (203 / 435) of the records dropped due to missing values."
   ],
   "metadata": {
    "collapsed": false
   }
  },
  {
   "cell_type": "code",
   "execution_count": 105,
   "outputs": [],
   "source": [
    "data_1: DataFrame = read_file()\n",
    "data_1 = add_id_column(data_1)\n",
    "data_1 = cleanup_data(data_1)\n",
    "\n",
    "data_1 = impute_1_drop(data_1)\n",
    "\n",
    "split_and_run_models(data_1)"
   ],
   "metadata": {
    "collapsed": false,
    "pycharm": {
     "name": "#%%\n",
     "is_executing": false
    }
   }
  },
  {
   "cell_type": "markdown",
   "source": [
    "#### Option #2 - treat missing values as values"
   ],
   "metadata": {
    "collapsed": false,
    "pycharm": {
     "name": "#%% md\n"
    }
   }
  },
  {
   "cell_type": "code",
   "execution_count": 107,
   "outputs": [],
   "source": [
    "data_2: DataFrame = read_file()\n",
    "data_2 = add_id_column(data_2)\n",
    "data_2 = cleanup_data(data_2)\n",
    "\n",
    "data_2 = impute_2_new_val(data_2)\n",
    "\n",
    "split_and_run_models(data_2)"
   ],
   "metadata": {
    "collapsed": false,
    "pycharm": {
     "name": "#%%\n",
     "is_executing": false
    }
   }
  },
  {
   "cell_type": "markdown",
   "source": [
    "#### Option #3 - impute missing values"
   ],
   "metadata": {
    "collapsed": false
   }
  },
  {
   "cell_type": "code",
   "execution_count": 122,
   "outputs": [
    {
     "name": "stdout",
     "text": [
      "(435, 17)\n(435, 17)\nIndex(['Class Name', 'handicapped-infants', 'water-project-cost-sharing',\n       'adoption-of-the-budget-resolution', 'physician-fee-freeze',\n       'el-salvador-aid', 'religious-groups-in-schools',\n       'anti-satellite-test-ban', 'aid-to-nicaraguan-contras', 'mx-missile',\n       'immigration', 'synfuels-corporation-cutback', 'education-spending',\n       'superfund-right-to-sue', 'crime', 'duty-free-exports',\n       'export-administration-act-south-africa'],\n      dtype='object')\n   Class Name handicapped-infants water-project-cost-sharing  \\\n0  republican                   0                          1   \n1  republican                   0                          1   \n2    democrat                 NaN                          1   \n3    democrat                   0                          1   \n4    democrat                   1                          1   \n\n  adoption-of-the-budget-resolution physician-fee-freeze el-salvador-aid  \\\n0                                 0                    1               1   \n1                                 0                    1               1   \n2                                 1                  NaN               1   \n3                                 1                    0             NaN   \n4                                 1                    0               1   \n\n  religious-groups-in-schools anti-satellite-test-ban  \\\n0                           1                       0   \n1                           1                       0   \n2                           1                       0   \n3                           1                       0   \n4                           1                       0   \n\n  aid-to-nicaraguan-contras mx-missile immigration  \\\n0                         0          0           1   \n1                         0          0           0   \n2                         0          0           0   \n3                         0          0           0   \n4                         0          0           0   \n\n  synfuels-corporation-cutback education-spending superfund-right-to-sue  \\\n0                          NaN                  1                      1   \n1                            0                  1                      1   \n2                            1                  0                      1   \n3                            1                  0                      1   \n4                            1                NaN                      1   \n\n  crime duty-free-exports export-administration-act-south-africa  \n0     1                 0                                      1  \n1     1                 0                                    NaN  \n2     1                 0                                      0  \n3     0                 0                                      1  \n4     1                 1                                      1  \ndf_size 17\n       Class Name  handicapped-infants  water-project-cost-sharing  \\\ncount         435                  423                         387   \nunique          2                    2                           2   \ntop      democrat                    0                           1   \nfreq          267                  236                         195   \n\n        adoption-of-the-budget-resolution  physician-fee-freeze  \\\ncount                                 424                   424   \nunique                                  2                     2   \ntop                                     1                     0   \nfreq                                  253                   247   \n\n        el-salvador-aid  religious-groups-in-schools  anti-satellite-test-ban  \\\ncount               420                          424                      421   \nunique                2                            2                        2   \ntop                   1                            1                        1   \nfreq                212                          272                      239   \n\n        aid-to-nicaraguan-contras  mx-missile  immigration  \\\ncount                         420         413          428   \nunique                          2           2            2   \ntop                             1           1            1   \nfreq                          242         207          216   \n\n        synfuels-corporation-cutback  education-spending  \\\ncount                            414                 404   \nunique                             2                   2   \ntop                                0                   0   \nfreq                             264                 233   \n\n        superfund-right-to-sue  crime  duty-free-exports  \\\ncount                      410    418                407   \nunique                       2      2                  2   \ntop                          1      1                  0   \nfreq                       209    248                233   \n\n        export-administration-act-south-africa  \ncount                                      331  \nunique                                       2  \ntop                                          1  \nfreq                                       269  \n     Class Name handicapped-infants water-project-cost-sharing  \\\n0    republican                   0                          1   \n1    republican                   0                          1   \n2      democrat                 NaN                          1   \n3      democrat                   0                          1   \n4      democrat                   1                          1   \n..          ...                 ...                        ...   \n430  republican                   0                          0   \n431    democrat                   0                          0   \n432  republican                   0                        NaN   \n433  republican                   0                          0   \n434  republican                   0                          1   \n\n    adoption-of-the-budget-resolution physician-fee-freeze el-salvador-aid  \\\n0                                   0                    1               1   \n1                                   0                    1               1   \n2                                   1                  NaN               1   \n3                                   1                    0             NaN   \n4                                   1                    0               1   \n..                                ...                  ...             ...   \n430                                 1                    1               1   \n431                                 1                    0               0   \n432                                 0                    1               1   \n433                                 0                    1               1   \n434                                 0                    1               1   \n\n    religious-groups-in-schools anti-satellite-test-ban  \\\n0                             1                       0   \n1                             1                       0   \n2                             1                       0   \n3                             1                       0   \n4                             1                       0   \n..                          ...                     ...   \n430                           1                       0   \n431                           0                       1   \n432                           1                       0   \n433                           1                     NaN   \n434                           1                       0   \n\n    aid-to-nicaraguan-contras mx-missile immigration  \\\n0                           0          0           1   \n1                           0          0           0   \n2                           0          0           0   \n3                           0          0           0   \n4                           0          0           0   \n..                        ...        ...         ...   \n430                         0          1           1   \n431                         1          1           1   \n432                         0          0           0   \n433                       NaN        NaN         NaN   \n434                         0          0           1   \n\n    synfuels-corporation-cutback education-spending superfund-right-to-sue  \\\n0                            NaN                  1                      1   \n1                              0                  1                      1   \n2                              1                  0                      1   \n3                              1                  0                      1   \n4                              1                NaN                      1   \n..                           ...                ...                    ...   \n430                            0                  1                      1   \n431                            0                  0                      0   \n432                            1                  1                      1   \n433                            0                  1                      1   \n434                            0                  1                      1   \n\n    crime duty-free-exports export-administration-act-south-africa  \n0       1                 0                                      1  \n1       1                 0                                    NaN  \n2       1                 0                                      0  \n3       0                 0                                      1  \n4       1                 1                                      1  \n..    ...               ...                                    ...  \n430     1                 0                                      1  \n431     0                 0                                      1  \n432     1                 0                                      1  \n433     1                 0                                      1  \n434     1               NaN                                      0  \n\n[435 rows x 17 columns]\n"
     ],
     "output_type": "stream"
    }
   ],
   "source": [
    "data_3: DataFrame = read_file()\n",
    "data_3 = add_id_column(data_3)\n",
    "data_3 = cleanup_data(data_3)\n",
    "\n",
    "# TODO fix\n",
    "df_size = data_3.iloc[0:1, :].size\n",
    "print('df_size', df_size)\n",
    "for i in range(0, df_size):\n",
    "    data_3.iloc[i][pd.isna(data_3.iloc[i])] = data_3.iloc[i].mode()\n",
    "    # data_3.iloc[i].fillna(data_3.iloc[i].mode(), inplace=True)\n",
    "print(data_3.describe())\n",
    "\n",
    "\n",
    "# data_3 = impute_3_max(data_3)\n",
    "\n",
    "print(data_3)\n",
    "\n",
    "# split_and_run_models(data_3)\n"
   ],
   "metadata": {
    "collapsed": false,
    "pycharm": {
     "name": "#%%\n",
     "is_executing": false
    }
   }
  }
 ],
 "metadata": {
  "kernelspec": {
   "display_name": "Python 3",
   "language": "python",
   "name": "python3"
  },
  "language_info": {
   "codemirror_mode": {
    "name": "ipython",
    "version": 2
   },
   "file_extension": ".py",
   "mimetype": "text/x-python",
   "name": "python",
   "nbconvert_exporter": "python",
   "pygments_lexer": "ipython2",
   "version": "2.7.6"
  },
  "pycharm": {
   "stem_cell": {
    "cell_type": "raw",
    "source": [],
    "metadata": {
     "collapsed": false
    }
   }
  }
 },
 "nbformat": 4,
 "nbformat_minor": 0
}