{
 "cells": [
  {
   "cell_type": "code",
   "execution_count": 1,
   "metadata": {
    "collapsed": true,
    "jupyter": {
     "outputs_hidden": true
    },
    "pycharm": {
     "is_executing": false
    }
   },
   "outputs": [],
   "source": [
    "import sklearn\n",
    "import graphviz\n",
    "import sklearn.tree\n",
    "import numpy as np\n",
    "# from StringIO import StringIO\n",
    "from sklearn.naive_bayes import BernoulliNB"
   ]
  },
  {
   "cell_type": "code",
   "execution_count": 2,
   "metadata": {
    "collapsed": true,
    "jupyter": {
     "outputs_hidden": true
    },
    "pycharm": {
     "is_executing": false
    }
   },
   "outputs": [],
   "source": [
    "col_names = \"rain,hot temp.,mild temp.,High Humidity,Strong winds,playTennis\"\n",
    "my_tennis_data = np.array([[0, 1, 0, 1, 0, 0],\n",
    "       [0, 1, 0, 1, 1, 0],\n",
    "       [1, 0, 1, 1, 0, 1],\n",
    "       [1, 0, 0, 0, 0, 1],\n",
    "       [1, 0, 0, 0, 1, 0],\n",
    "       [0, 0, 1, 1, 0, 1],\n",
    "       [0, 0, 0, 0, 0, 1],\n",
    "       [1, 0, 1, 0, 0, 1],\n",
    "       [0, 0, 1, 0, 1, 1],\n",
    "       [1, 0, 1, 1, 1, 0]])\n",
    "\n"
   ]
  },
  {
   "cell_type": "code",
   "execution_count": 3,
   "metadata": {
    "collapsed": false,
    "jupyter": {
     "outputs_hidden": false
    },
    "pycharm": {
     "is_executing": false
    }
   },
   "outputs": [
    {
     "data": {
      "text/plain": "array([[0, 1, 0, 1, 0, 0],\n       [0, 1, 0, 1, 1, 0],\n       [1, 0, 1, 1, 0, 1],\n       [1, 0, 0, 0, 0, 1],\n       [1, 0, 0, 0, 1, 0],\n       [0, 0, 1, 1, 0, 1],\n       [0, 0, 0, 0, 0, 1],\n       [1, 0, 1, 0, 0, 1],\n       [0, 0, 1, 0, 1, 1],\n       [1, 0, 1, 1, 1, 0]])"
     },
     "metadata": {},
     "output_type": "execute_result",
     "execution_count": 3
    }
   ],
   "source": [
    "my_tennis_data"
   ]
  },
  {
   "cell_type": "code",
   "execution_count": 4,
   "metadata": {
    "collapsed": true,
    "jupyter": {
     "outputs_hidden": true
    },
    "pycharm": {
     "is_executing": false
    }
   },
   "outputs": [],
   "source": [
    "### select all rows except last column\n",
    "X_matrix = my_tennis_data[:, :-1] \n",
    "feature_names = np.array(col_names.split(\",\")[:-1])\n",
    "#feature_names = [\"Outlook\", \"Temp\", \"Humidity\", \"Wind\"]\n",
    "### select last column\n",
    "Y = my_tennis_data[:, -1]\n",
    "label_name = [\"Dont play Tennis\", \"Play Tennis\"]"
   ]
  },
  {
   "cell_type": "code",
   "execution_count": 5,
   "metadata": {
    "collapsed": false,
    "jupyter": {
     "outputs_hidden": false
    },
    "pycharm": {
     "is_executing": false
    }
   },
   "outputs": [
    {
     "data": {
      "text/plain": "BernoulliNB(alpha=1.0, binarize=0.0, class_prior=None, fit_prior=True)"
     },
     "metadata": {},
     "output_type": "execute_result",
     "execution_count": 5
    }
   ],
   "source": [
    "bayes_clf = BernoulliNB()\n",
    "bayes_clf.fit(X_matrix, Y)"
   ]
  },
  {
   "cell_type": "code",
   "execution_count": 6,
   "metadata": {
    "collapsed": false,
    "jupyter": {
     "outputs_hidden": false
    },
    "pycharm": {
     "is_executing": false
    }
   },
   "outputs": [
    {
     "name": "stdout",
     "text": [
      "predicted: [1 1]\ntruth [1 0]\n"
     ],
     "output_type": "stream"
    }
   ],
   "source": [
    "print(\"predicted:\", bayes_clf.predict(X_matrix[-2:,:]))\n",
    "print(\"truth\", Y[-2:])"
   ]
  },
  {
   "cell_type": "code",
   "execution_count": 10,
   "metadata": {
    "collapsed": false,
    "jupyter": {
     "outputs_hidden": false
    }
   },
   "outputs": [
    {
     "data": {
      "text/plain": [
       "array([[0, 0, 1, 0, 1],\n",
       "       [1, 0, 1, 1, 1]])"
      ]
     },
     "execution_count": 10,
     "metadata": {},
     "output_type": "execute_result"
    }
   ],
   "source": [
    "X_matrix[-2:,:]"
   ]
  },
  {
   "cell_type": "code",
   "execution_count": null,
   "metadata": {
    "collapsed": true,
    "jupyter": {
     "outputs_hidden": true
    }
   },
   "outputs": [],
   "source": []
  }
 ],
 "metadata": {
  "anaconda-cloud": {},
  "kernelspec": {
   "name": "pycharm-67ea9c55",
   "language": "python",
   "display_name": "PyCharm (dsba6156)"
  },
  "language_info": {
   "codemirror_mode": {
    "name": "ipython",
    "version": 3
   },
   "file_extension": ".py",
   "mimetype": "text/x-python",
   "name": "python",
   "nbconvert_exporter": "python",
   "pygments_lexer": "ipython3",
   "version": "3.7.1"
  },
  "pycharm": {
   "stem_cell": {
    "cell_type": "raw",
    "source": [],
    "metadata": {
     "collapsed": false
    }
   }
  }
 },
 "nbformat": 4,
 "nbformat_minor": 4
}