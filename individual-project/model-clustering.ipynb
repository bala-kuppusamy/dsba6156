{
 "cells": [
  {
   "cell_type": "markdown",
   "source": [
    "## Execute Cluster Analysis"
   ],
   "metadata": {
    "collapsed": false
   }
  },
  {
   "cell_type": "code",
   "execution_count": 12,
   "metadata": {
    "pycharm": {
     "is_executing": false
    }
   },
   "outputs": [],
   "source": [
    "import pandas as pd\n",
    "from pandas import DataFrame\n",
    "\n",
    "from sklearn.cluster import KMeans\n",
    "\n",
    "from sklearn import preprocessing\n",
    "import seaborn as sns\n",
    "\n",
    "le = preprocessing.LabelEncoder()\n",
    "scalar = preprocessing.MinMaxScaler()\n",
    "sns.set()"
   ]
  },
  {
   "cell_type": "markdown",
   "metadata": {},
   "source": [
    "#### Define functions"
   ]
  },
  {
   "cell_type": "code",
   "execution_count": 2,
   "metadata": {
    "pycharm": {
     "is_executing": false,
     "name": "#%%\n"
    }
   },
   "outputs": [],
   "source": [
    "def run_kmeans_for_k(_x: DataFrame, _k: int) -> tuple:\n",
    "    kmeans = KMeans(n_clusters=_k, init='k-means++', max_iter=200, n_jobs=2, random_state=1)\n",
    "    kmeans.fit(_x)\n",
    "    _labels = pd.DataFrame(kmeans.labels_, columns=['label'])\n",
    "    x_labelled = pd.concat([_x, _labels], axis=1)\n",
    "    return x_labelled, kmeans.inertia_\n",
    "\n",
    "def run_kmeans(_x: DataFrame, min_k: int, max_k: int) -> DataFrame:\n",
    "    _inertia_df = pd.DataFrame(columns=['k', 'inertia'])\n",
    "    for k in range(min_k, max_k+1):\n",
    "        _x_labelled, _inertia = run_kmeans_for_k(_x, k)\n",
    "        _inertia_df = _inertia_df.append({'k': k, 'inertia': _inertia}, ignore_index=True)\n",
    "        print(k, _inertia)\n",
    "    return _inertia_df"
   ]
  },
  {
   "cell_type": "markdown",
   "metadata": {},
   "source": [
    "#### Read training dataset from pickle file"
   ]
  },
  {
   "cell_type": "code",
   "execution_count": 3,
   "metadata": {
    "pycharm": {
     "is_executing": false,
     "name": "#%%\n"
    }
   },
   "outputs": [
    {
     "name": "stdout",
     "text": [
      "(344667, 119)\n"
     ],
     "output_type": "stream"
    }
   ],
   "source": [
    "master: DataFrame = pd.read_pickle('./data/master.pickle')\n",
    "print(master.shape)"
   ]
  },
  {
   "cell_type": "markdown",
   "metadata": {},
   "source": [
    "#### Select features for the cluster analysis"
   ]
  },
  {
   "cell_type": "code",
   "execution_count": 4,
   "metadata": {
    "pycharm": {
     "is_executing": false,
     "name": "#%%\n"
    }
   },
   "outputs": [
    {
     "name": "stdout",
     "text": [
      "(344667, 17)\n"
     ],
     "output_type": "stream"
    }
   ],
   "source": [
    "features = ['Weekly_Sales', 'IsHoliday', 'Temperature', 'Fuel_Price', 'MarkDown1', 'MarkDown2', 'MarkDown3', \n",
    "              'MarkDown4', 'MarkDown5', 'CPI', 'Unemployment', 'Type', 'Size', 'Store', 'Dept', 'Year', 'Month']\n",
    "\n",
    "_master_features: DataFrame = master[features]\n",
    "print(_master_features.shape)"
   ]
  },
  {
   "cell_type": "markdown",
   "source": [
    "#### Encode labels for the categorical variables (to calculate Euclidean distance)"
   ],
   "metadata": {
    "collapsed": false
   }
  },
  {
   "cell_type": "code",
   "execution_count": 5,
   "outputs": [],
   "source": [
    "_master_encoded: DataFrame = _master_features.apply(le.fit_transform)"
   ],
   "metadata": {
    "collapsed": false,
    "pycharm": {
     "name": "#%%\n",
     "is_executing": false
    }
   }
  },
  {
   "cell_type": "markdown",
   "source": [
    "#### Scale the features based on MinMax (to calculate Euclidean distance)"
   ],
   "metadata": {
    "collapsed": false
   }
  },
  {
   "cell_type": "code",
   "execution_count": 6,
   "outputs": [],
   "source": [
    "_master_array = scalar.fit_transform(_master_encoded)\n",
    "master_scaled = pd.DataFrame(_master_array, columns=features)"
   ],
   "metadata": {
    "collapsed": false,
    "pycharm": {
     "name": "#%%\n",
     "is_executing": false
    }
   }
  },
  {
   "cell_type": "markdown",
   "metadata": {},
   "source": [
    "#### Running cluster analysis"
   ]
  },
  {
   "cell_type": "code",
   "execution_count": 14,
   "metadata": {
    "pycharm": {
     "is_executing": false,
     "name": "#%%\n"
    }
   },
   "outputs": [
    {
     "name": "stdout",
     "text": [
      "1 475505.18198258517\n",
      "2 377819.35769959044\n",
      "3 331380.34964605083\n",
      "4 309250.8789238843\n",
      "5 292181.46070563025\n",
      "6 274590.58327141433\n",
      "7 265099.1307451487\n",
      "8 257502.68326608473\n",
      "9 249774.7919228446\n",
      "10 239601.6089127989\n      k        inertia\n0   1.0  475505.181983\n1   2.0  377819.357700\n2   3.0  331380.349646\n3   4.0  309250.878924\n4   5.0  292181.460706\n5   6.0  274590.583271\n6   7.0  265099.130745\n7   8.0  257502.683266\n8   9.0  249774.791923\n9  10.0  239601.608913\n"
     ],
     "output_type": "stream"
    }
   ],
   "source": [
    "inertia_list_1 = run_kmeans(master_scaled, 1, 10)\n",
    "print(inertia_list_1.shape)"
   ]
  },
  {
   "cell_type": "code",
   "execution_count": 15,
   "outputs": [
    {
     "name": "stdout",
     "text": [
      "11 232716.26395141653\n",
      "12 226970.89900902452\n",
      "13 222564.674942369\n",
      "14 217436.7697258553\n",
      "15 213942.4855117169\n(5, 2)\n"
     ],
     "output_type": "stream"
    }
   ],
   "source": [
    "inertia_list_2 = run_kmeans(master_scaled, 11, 15)\n",
    "print(inertia_list_2.shape)"
   ],
   "metadata": {
    "collapsed": false,
    "pycharm": {
     "name": "#%%\n",
     "is_executing": false
    }
   }
  },
  {
   "cell_type": "code",
   "execution_count": 16,
   "outputs": [
    {
     "name": "stdout",
     "text": [
      "16 208518.0983712222\n",
      "17 204255.25101467455\n",
      "18 201883.06055829424\n",
      "19 198160.99915274713\n",
      "20 195484.02855617667\n(5, 2)\n"
     ],
     "output_type": "stream"
    }
   ],
   "source": [
    "inertia_list_3 = run_kmeans(master_scaled, 16, 20)\n",
    "print(inertia_list_3.shape)"
   ],
   "metadata": {
    "collapsed": false,
    "pycharm": {
     "name": "#%%\n",
     "is_executing": false
    }
   }
  },
  {
   "cell_type": "code",
   "execution_count": 19,
   "outputs": [
    {
     "name": "stdout",
     "text": [
      "      k        inertia\n0   1.0  475505.181983\n1   2.0  377819.357700\n2   3.0  331380.349646\n3   4.0  309250.878924\n4   5.0  292181.460706\n5   6.0  274590.583271\n6   7.0  265099.130745\n7   8.0  257502.683266\n8   9.0  249774.791923\n9  10.0  239601.608913\n0  11.0  232716.263951\n1  12.0  226970.899009\n2  13.0  222564.674942\n3  14.0  217436.769726\n4  15.0  213942.485512\n0  16.0  208518.098371\n1  17.0  204255.251015\n2  18.0  201883.060558\n3  19.0  198160.999153\n4  20.0  195484.028556\n"
     ],
     "output_type": "stream"
    }
   ],
   "source": [
    "inertia_list_all = pd.concat([inertia_list_1, inertia_list_2, inertia_list_3])\n",
    "print(inertia_list_all.head(20))"
   ],
   "metadata": {
    "collapsed": false,
    "pycharm": {
     "name": "#%%\n",
     "is_executing": false
    }
   }
  },
  {
   "cell_type": "markdown",
   "source": [
    "#### Plotting the cluster analysis results"
   ],
   "metadata": {
    "collapsed": false
   }
  },
  {
   "cell_type": "code",
   "execution_count": 18,
   "outputs": [
    {
     "data": {
      "text/plain": "<matplotlib.axes._subplots.AxesSubplot at 0xce2db0>"
     },
     "metadata": {},
     "output_type": "execute_result",
     "execution_count": 18
    },
    {
     "data": {
      "text/plain": "<Figure size 432x288 with 1 Axes>",
      "image/png": "[encoded data removed]"
     },
     "metadata": {},
     "output_type": "display_data"
    }
   ],
   "source": [
    "sns.lineplot(x='k', y='inertia', data=inertia_list_all)\n"
   ],
   "metadata": {
    "collapsed": false,
    "pycharm": {
     "name": "#%%\n",
     "is_executing": false
    }
   }
  }
 ],
 "metadata": {
  "kernelspec": {
   "display_name": "PyCharm (dsba6156)",
   "language": "python",
   "name": "pycharm-67ea9c55"
  },
  "language_info": {
   "codemirror_mode": {
    "name": "ipython",
    "version": 3
   },
   "file_extension": ".py",
   "mimetype": "text/x-python",
   "name": "python",
   "nbconvert_exporter": "python",
   "pygments_lexer": "ipython3",
   "version": "3.7.2"
  },
  "pycharm": {
   "stem_cell": {
    "cell_type": "raw",
    "source": [],
    "metadata": {
     "collapsed": false
    }
   }
  }
 },
 "nbformat": 4,
 "nbformat_minor": 1
}