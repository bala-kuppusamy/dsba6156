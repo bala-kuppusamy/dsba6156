{
 "cells": [
  {
   "cell_type": "markdown",
   "source": [
    "## Execute Clustering Analysis"
   ],
   "metadata": {
    "collapsed": false
   }
  },
  {
   "cell_type": "code",
   "execution_count": 26,
   "metadata": {
    "pycharm": {
     "is_executing": false
    }
   },
   "outputs": [],
   "source": [
    "import pandas as pd\n",
    "from pandas import DataFrame\n",
    "\n",
    "from sklearn.cluster import KMeans\n",
    "from sklearn.metrics import pairwise_distances\n",
    "from sklearn.metrics import silhouette_score\n",
    "\n",
    "from sklearn import preprocessing\n",
    "le = preprocessing.LabelEncoder()\n",
    "scalar = preprocessing.MinMaxScaler()"
   ]
  },
  {
   "cell_type": "markdown",
   "metadata": {},
   "source": [
    "#### Define functions"
   ]
  },
  {
   "cell_type": "code",
   "execution_count": 30,
   "metadata": {
    "pycharm": {
     "is_executing": false,
     "name": "#%%\n"
    }
   },
   "outputs": [],
   "source": [
    "def run_kmeans(_x: DataFrame, n_clusters: int) -> None:\n",
    "    kmeans = KMeans(n_clusters=n_clusters, random_state=1)\n",
    "    kmeans.fit(_x)\n",
    "    print(kmeans.cluster_centers_)\n",
    "    print(kmeans.labels_)\n",
    "    print(kmeans.inertia_)"
   ]
  },
  {
   "cell_type": "markdown",
   "metadata": {},
   "source": [
    "#### Read training dataset from pickle file"
   ]
  },
  {
   "cell_type": "code",
   "execution_count": 8,
   "metadata": {
    "pycharm": {
     "is_executing": false,
     "name": "#%%\n"
    }
   },
   "outputs": [],
   "source": [
    "master: DataFrame = pd.read_pickle('./data/master.pickle')\n",
    "print(master.shape)"
   ]
  },
  {
   "cell_type": "markdown",
   "metadata": {},
   "source": [
    "#### Select features for the classification analysis"
   ]
  },
  {
   "cell_type": "code",
   "execution_count": 9,
   "metadata": {
    "pycharm": {
     "is_executing": false,
     "name": "#%%\n"
    }
   },
   "outputs": [],
   "source": [
    "features_0 = ['Weekly_Sales', 'IsHoliday', 'Temperature', 'Fuel_Price', 'MarkDown1', 'MarkDown2', 'MarkDown3', \n",
    "              'MarkDown4', 'MarkDown5', 'CPI', 'Unemployment', 'Type', 'Size', 'Store', 'Dept', 'Year', 'Month']\n",
    "categorical = ['IsHoliday', 'Type']"
   ]
  },
  {
   "cell_type": "code",
   "source": [
    "master_1: DataFrame = master[features_0]\n",
    "print(master_1.shape)\n",
    "print(master_1.info())\n",
    "print(master_1.shape)"
   ],
   "metadata": {
    "collapsed": false,
    "pycharm": {
     "name": "#%%\n",
     "is_executing": false
    }
   },
   "execution_count": 21,
   "outputs": []
  },
  {
   "cell_type": "code",
   "execution_count": 18,
   "outputs": [],
   "source": [
    "master_2: DataFrame = master_1.apply(le.fit_transform)\n",
    "print(master_2.shape)\n",
    "print(master_2.head())"
   ],
   "metadata": {
    "collapsed": false,
    "pycharm": {
     "name": "#%%\n",
     "is_executing": false
    }
   }
  },
  {
   "cell_type": "code",
   "execution_count": 20,
   "outputs": [],
   "source": [
    "master_3 = scalar.fit_transform(master_2)"
   ],
   "metadata": {
    "collapsed": false,
    "pycharm": {
     "name": "#%%\n",
     "is_executing": false
    }
   }
  },
  {
   "cell_type": "code",
   "execution_count": 22,
   "outputs": [],
   "source": [
    "master_4 = pd.DataFrame(master_3, columns=features_0)"
   ],
   "metadata": {
    "collapsed": false,
    "pycharm": {
     "name": "#%%\n",
     "is_executing": false
    }
   }
  },
  {
   "cell_type": "code",
   "execution_count": 23,
   "outputs": [],
   "source": [
    "print(master_4.shape)\n",
    "print(master_4.head())"
   ],
   "metadata": {
    "collapsed": false,
    "pycharm": {
     "name": "#%%\n",
     "is_executing": false
    }
   }
  },
  {
   "cell_type": "markdown",
   "metadata": {},
   "source": [
    "#### Running classification models"
   ]
  },
  {
   "cell_type": "code",
   "execution_count": 31,
   "outputs": [
    {
     "name": "stdout",
     "text": [
      "[[4.71775927e-01 1.10673397e-01 3.31883749e-01 6.76905382e-01\n  5.80834083e-01 4.79241226e-01 4.54969027e-01 5.06261807e-01\n  5.75918558e-01 4.17572009e-01 4.22434938e-01 2.42298104e-01\n  5.52891126e-01 4.58303722e-01 4.85710521e-01 8.52571402e-01\n  3.81807270e-01]\n [4.46338872e-01 6.97325186e-02 5.48147381e-01 4.37522347e-01\n  3.47593667e-03 6.93361789e-03 1.23451576e-02 7.43228958e-04\n  4.97970123e-03 2.96823657e-01 5.64363375e-01 3.06656107e-01\n  4.86671678e-01 4.90875546e-01 4.88718969e-01 2.56926592e-01\n  4.96428912e-01]]\n[1 1 1 ... 0 0 0]\n377819.35628877743\n"
     ],
     "output_type": "stream"
    }
   ],
   "source": [
    "run_kmeans(master_4, 2)"
   ],
   "metadata": {
    "collapsed": false,
    "pycharm": {
     "name": "#%%\n",
     "is_executing": false
    }
   }
  },
  {
   "cell_type": "code",
   "execution_count": 32,
   "metadata": {
    "pycharm": {
     "is_executing": false,
     "name": "#%%\n"
    }
   },
   "outputs": [
    {
     "name": "stdout",
     "text": [
      "[[3.75211142e-01 7.24683523e-02 5.47597378e-01 4.59073109e-01\n  9.72843621e-03 1.47490441e-02 2.48109649e-02 2.59629489e-03\n  1.36864427e-02 2.82744499e-01 5.92120956e-01 5.81358032e-01\n  2.31657168e-01 5.16374378e-01 4.89971104e-01 2.85375851e-01\n  4.92323148e-01]\n [4.79605624e-01 1.06689838e-01 3.26813129e-01 6.80200346e-01\n  6.02982954e-01 4.92085612e-01 4.55933174e-01 5.30693471e-01\n  5.94374725e-01 4.10661972e-01 4.22074959e-01 2.15799646e-01\n  5.72758820e-01 4.47384468e-01 4.84715207e-01 8.51123094e-01\n  3.85624283e-01]\n [5.25505480e-01 6.95029197e-02 5.45540224e-01 4.17299834e-01\n  8.72030046e-04 4.15594546e-03 8.99249644e-03 2.85297408e-04\n  1.10454834e-03 3.19466504e-01 5.28775029e-01 3.42603946e-05\n  7.73704728e-01 4.65688215e-01 4.87660738e-01 2.40214851e-01\n  4.96404735e-01]]\n[2 2 2 ... 1 1 1]\n331380.3504466621\n"
     ],
     "output_type": "stream"
    }
   ],
   "source": [
    "run_kmeans(master_4, 4)"
   ]
  },
  {
   "cell_type": "markdown",
   "source": [
    "#### Running finalized model on test set"
   ],
   "metadata": {
    "collapsed": false
   }
  },
  {
   "cell_type": "code",
   "execution_count": 43,
   "outputs": [],
   "source": [
    "test: DataFrame = pd.read_pickle('./data/test.pickle')\n",
    "print(test.shape)"
   ],
   "metadata": {
    "collapsed": false,
    "pycharm": {
     "name": "#%%\n",
     "is_executing": false
    }
   }
  },
  {
   "cell_type": "code",
   "execution_count": 45,
   "outputs": [],
   "source": [],
   "metadata": {
    "collapsed": false,
    "pycharm": {
     "name": "#%%\n",
     "is_executing": false
    }
   }
  }
 ],
 "metadata": {
  "kernelspec": {
   "display_name": "PyCharm (dsba6156)",
   "language": "python",
   "name": "pycharm-67ea9c55"
  },
  "language_info": {
   "codemirror_mode": {
    "name": "ipython",
    "version": 3
   },
   "file_extension": ".py",
   "mimetype": "text/x-python",
   "name": "python",
   "nbconvert_exporter": "python",
   "pygments_lexer": "ipython3",
   "version": "3.7.2"
  },
  "pycharm": {
   "stem_cell": {
    "cell_type": "raw",
    "source": [],
    "metadata": {
     "collapsed": false
    }
   }
  }
 },
 "nbformat": 4,
 "nbformat_minor": 1
}