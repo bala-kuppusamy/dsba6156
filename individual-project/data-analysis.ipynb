{
 "cells": [
  {
   "cell_type": "code",
   "execution_count": 13,
   "metadata": {
    "collapsed": true,
    "pycharm": {
     "is_executing": false
    }
   },
   "outputs": [],
   "source": [
    "import pandas as pd\n",
    "# import numpy as np\n",
    "from pandas import DataFrame\n",
    "\n",
    "import matplotlib.pyplot as plt\n",
    "import seaborn as sns"
   ]
  },
  {
   "cell_type": "markdown",
   "source": [
    "#### Read dataset from file"
   ],
   "metadata": {
    "collapsed": false
   }
  },
  {
   "cell_type": "code",
   "execution_count": 14,
   "outputs": [
    {
     "name": "stdout",
     "text": [
      "(344667, 15)\n"
     ],
     "output_type": "stream"
    }
   ],
   "source": [
    "master: DataFrame = pd.read_csv('./data/master.csv')\n",
    "print(master.shape)"
   ],
   "metadata": {
    "collapsed": false,
    "pycharm": {
     "name": "#%%\n",
     "is_executing": false
    }
   }
  },
  {
   "cell_type": "markdown",
   "source": [
    "#### Exploring field values summary"
   ],
   "metadata": {
    "collapsed": false
   }
  },
  {
   "cell_type": "code",
   "execution_count": 15,
   "outputs": [
    {
     "name": "stdout",
     "text": [
      "                 count           mean           std        min           25%  \\\nWeekly_Sales  344667.0   16011.033071  22859.611439  -4988.940   2100.335000   \nTemperature   344667.0      57.391070     18.644742     -2.060     43.820000   \nFuel_Price    344667.0       3.278793      0.454502      2.472      2.843000   \nMarkDown1      74187.0    7377.990937   9695.184239      0.500   1842.420000   \nMarkDown2      66068.0    5520.011830  11806.737391   -265.760     96.520000   \nMarkDown3      68659.0    2812.494829  13457.720905     -1.000      5.900000   \nMarkDown4      66394.0    3867.350763   8176.212908      0.460    319.840000   \nMarkDown5      74529.0    4841.675275   5046.201077    135.160   1844.030000   \nCPI           344667.0     170.260421     38.767201    126.064    131.940807   \nUnemployment  344667.0       8.119909      1.865077      4.125      7.082000   \nSize          344667.0  136807.198011  60944.571069  34875.000  93638.000000   \n\n                        50%            75%            max  \nWeekly_Sales    7638.860000   20179.490000  693099.360000  \nTemperature       58.060000      71.240000     100.140000  \nFuel_Price         3.263000       3.669000       4.294000  \nMarkDown1       4879.040000    9006.210000   88646.760000  \nMarkDown2       1053.980000    5524.490000  104519.540000  \nMarkDown3         35.490000     203.990000  141630.610000  \nMarkDown4       1100.930000    3380.280000   67474.850000  \nMarkDown5       3429.820000    5996.690000   37581.270000  \nCPI              182.238988     211.406287     225.367254  \nUnemployment       7.951000       8.622000      14.313000  \nSize          140167.000000  202505.000000  219622.000000  \n"
     ],
     "output_type": "stream"
    }
   ],
   "source": [
    "print(master.describe().T)"
   ],
   "metadata": {
    "collapsed": false,
    "pycharm": {
     "name": "#%%\n",
     "is_executing": false
    }
   }
  },
  {
   "cell_type": "markdown",
   "source": [
    "#### Exploring field types"
   ],
   "metadata": {
    "collapsed": false
   }
  },
  {
   "cell_type": "code",
   "execution_count": 16,
   "outputs": [
    {
     "name": "stdout",
     "text": [
      "<class 'pandas.core.frame.DataFrame'>\nRangeIndex: 344667 entries, 0 to 344666\nData columns (total 15 columns):\nStore_Dept      344667 non-null object\nDate            344667 non-null object\nWeekly_Sales    344667 non-null float64\nIsHoliday       344667 non-null bool\nTemperature     344667 non-null float64\nFuel_Price      344667 non-null float64\nMarkDown1       74187 non-null float64\nMarkDown2       66068 non-null float64\nMarkDown3       68659 non-null float64\nMarkDown4       66394 non-null float64\nMarkDown5       74529 non-null float64\nCPI             344667 non-null float64\nUnemployment    344667 non-null float64\nType            344667 non-null object\nSize            344667 non-null int64\ndtypes: bool(1), float64(10), int64(1), object(3)\nmemory usage: 33.2+ MB\nNone\n"
     ],
     "output_type": "stream"
    }
   ],
   "source": [
    "print(master.info())"
   ],
   "metadata": {
    "collapsed": false,
    "pycharm": {
     "name": "#%%\n",
     "is_executing": false
    }
   }
  },
  {
   "cell_type": "markdown",
   "source": [
    "#### Exploring field correlation"
   ],
   "metadata": {
    "collapsed": false
   }
  },
  {
   "cell_type": "code",
   "execution_count": 17,
   "outputs": [
    {
     "name": "stdout",
     "text": [
      "              Weekly_Sales  IsHoliday  Temperature  Fuel_Price  MarkDown1  \\\nWeekly_Sales      1.000000   0.014033    -0.002499    0.002062   0.057833   \nIsHoliday         0.014033   1.000000    -0.168885   -0.074035  -0.077953   \nTemperature      -0.002499  -0.168885     1.000000    0.057290  -0.099513   \nFuel_Price        0.002062  -0.074035     0.057290    1.000000   0.069270   \nMarkDown1         0.057833  -0.077953    -0.099513    0.069270   1.000000   \nMarkDown2         0.033304   0.358563    -0.211968   -0.214492   0.041786   \nMarkDown3         0.078896   0.487070     0.010172   -0.086221  -0.133596   \nMarkDown4         0.024924  -0.003105    -0.125322   -0.005782   0.864866   \nMarkDown5         0.101243  -0.096215    -0.042591   -0.114328   0.230008   \nCPI              -0.020811   0.001065     0.179387   -0.160191  -0.050044   \nUnemployment     -0.024294   0.000057     0.168046    0.001050   0.021584   \nSize              0.242486   0.000459    -0.057018    0.007537   0.286096   \n\n              MarkDown2  MarkDown3  MarkDown4  MarkDown5       CPI  \\\nWeekly_Sales   0.033304   0.078896   0.024924   0.101243 -0.020811   \nIsHoliday      0.358563   0.487070  -0.003105  -0.096215  0.001065   \nTemperature   -0.211968   0.010172  -0.125322  -0.042591  0.179387   \nFuel_Price    -0.214492  -0.086221  -0.005782  -0.114328 -0.160191   \nMarkDown1      0.041786  -0.133596   0.864866   0.230008 -0.050044   \nMarkDown2      1.000000  -0.091862  -0.023869  -0.003003 -0.044077   \nMarkDown3     -0.091862   1.000000  -0.091013  -0.052371 -0.030198   \nMarkDown4     -0.023869  -0.091013   1.000000   0.164512 -0.060962   \nMarkDown5     -0.003003  -0.052371   0.164512   1.000000 -0.004534   \nCPI           -0.044077  -0.030198  -0.060962  -0.004534  1.000000   \nUnemployment  -0.005939  -0.000778   0.014676   0.041614 -0.296919   \nSize           0.176107   0.068691   0.141587   0.348732 -0.004530   \n\n              Unemployment      Size  \nWeekly_Sales     -0.024294  0.242486  \nIsHoliday         0.000057  0.000459  \nTemperature       0.168046 -0.057018  \nFuel_Price        0.001050  0.007537  \nMarkDown1         0.021584  0.286096  \nMarkDown2        -0.005939  0.176107  \nMarkDown3        -0.000778  0.068691  \nMarkDown4         0.014676  0.141587  \nMarkDown5         0.041614  0.348732  \nCPI              -0.296919 -0.004530  \nUnemployment      1.000000 -0.078915  \nSize             -0.078915  1.000000  \n"
     ],
     "output_type": "stream"
    }
   ],
   "source": [
    "print(master.corr())"
   ],
   "metadata": {
    "collapsed": false,
    "pycharm": {
     "name": "#%%\n",
     "is_executing": false
    }
   }
  },
  {
   "cell_type": "markdown",
   "source": [
    "#### Exploring null values"
   ],
   "metadata": {
    "collapsed": false
   }
  },
  {
   "cell_type": "code",
   "execution_count": 18,
   "outputs": [
    {
     "name": "stdout",
     "text": [
      "Store_Dept           0\nDate                 0\nWeekly_Sales         0\nIsHoliday            0\nTemperature          0\nFuel_Price           0\nMarkDown1       270480\nMarkDown2       278599\nMarkDown3       276008\nMarkDown4       278273\nMarkDown5       270138\nCPI                  0\nUnemployment         0\nType                 0\nSize                 0\ndtype: int64\n"
     ],
     "output_type": "stream"
    }
   ],
   "source": [
    "print(master.isna().sum())\n"
   ],
   "metadata": {
    "collapsed": false,
    "pycharm": {
     "name": "#%%\n",
     "is_executing": false
    }
   }
  },
  {
   "cell_type": "markdown",
   "source": [
    "#### Plot distribution"
   ],
   "metadata": {
    "collapsed": false
   }
  },
  {
   "cell_type": "code",
   "execution_count": 19,
   "outputs": [],
   "source": [
    "sns.set()"
   ],
   "metadata": {
    "collapsed": false,
    "pycharm": {
     "name": "#%%\n",
     "is_executing": false
    }
   }
  },
  {
   "cell_type": "markdown",
   "source": [
    "##### Plot distribution of categorical variables\n",
    "###### IsHoliday, Type"
   ],
   "metadata": {
    "collapsed": false
   }
  },
  {
   "cell_type": "code",
   "execution_count": 20,
   "outputs": [],
   "source": [
    "type_dist = master['Type'].value_counts()\n",
    "type_dist_df = pd.DataFrame({'type': type_dist.index, 'count': type_dist.values})\n",
    "\n",
    "holiday_dist = master['IsHoliday'].value_counts()\n",
    "holiday_dist_df = pd.DataFrame({'holiday': holiday_dist.index, 'count': holiday_dist.values})"
   ],
   "metadata": {
    "collapsed": false,
    "pycharm": {
     "name": "#%%\n",
     "is_executing": false
    }
   }
  },
  {
   "cell_type": "code",
   "execution_count": 21,
   "outputs": [
    {
     "data": {
      "text/plain": "Text(0.5, 1.0, 'Holiday')"
     },
     "metadata": {},
     "output_type": "execute_result",
     "execution_count": 21
    },
    {
     "data": {
      "text/plain": "<Figure size 432x288 with 2 Axes>",
      "image/png": "[encoded data removed]"
     },
     "metadata": {},
     "output_type": "display_data"
    }
   ],
   "source": [
    "fig1, axs = plt.subplots(1, 2)\n",
    "axs[0].bar(type_dist_df['type'], type_dist_df['count'])\n",
    "axs[0].set_title('Type')\n",
    "axs[1].bar(holiday_dist_df['holiday'], holiday_dist_df['count'])\n",
    "axs[1].set_title('Holiday')\n",
    "\n",
    "sns.catplot(x='Type', y='Size', kind='box', data=master)"
   ],
   "metadata": {
    "collapsed": false,
    "pycharm": {
     "name": "#%%\n",
     "is_executing": false
    }
   }
  },
  {
   "cell_type": "markdown",
   "source": [
    "##### Distribution of continuous variables\n",
    "###### Temperature, Fuel_Price, CPI, Unemployment, Size"
   ],
   "metadata": {
    "collapsed": false
   }
  },
  {
   "cell_type": "code",
   "execution_count": 22,
   "outputs": [
    {
     "data": {
      "text/plain": "<Figure size 432x288 with 6 Axes>",
      "image/png": "[encoded data removed]"
     },
     "metadata": {},
     "output_type": "display_data"
    }
   ],
   "source": [
    "cols_2d = [['Temperature', 'Fuel_Price'], ['CPI', 'Unemployment'], ['Size']]\n",
    "fig3, axs = plt.subplots(3, 2, tight_layout=True)\n",
    "for i, cols_1d in enumerate(cols_2d):\n",
    "    for j, col in enumerate(cols_1d):\n",
    "        axs[i, j].hist(master[col], bins=100)\n",
    "        axs[i, j].set_title(col)"
   ],
   "metadata": {
    "collapsed": false,
    "pycharm": {
     "name": "#%%\n",
     "is_executing": false
    }
   }
  },
  {
   "cell_type": "markdown",
   "source": [
    "###### MarkDown1-MarkDown5"
   ],
   "metadata": {
    "collapsed": false
   }
  },
  {
   "cell_type": "code",
   "execution_count": 25,
   "outputs": [
    {
     "name": "stderr",
     "text": [
      "C:\\Users\\balav\\AppData\\Local\\Programs\\Python\\Python37-32\\lib\\site-packages\\numpy\\lib\\histograms.py:829: RuntimeWarning: invalid value encountered in greater_equal\n  keep = (tmp_a >= first_edge)\nC:\\Users\\balav\\AppData\\Local\\Programs\\Python\\Python37-32\\lib\\site-packages\\numpy\\lib\\histograms.py:830: RuntimeWarning: invalid value encountered in less_equal\n  keep &= (tmp_a <= last_edge)\n"
     ],
     "output_type": "stream"
    },
    {
     "data": {
      "text/plain": "<Figure size 432x288 with 6 Axes>",
      "image/png": "[encoded data removed]"
     },
     "metadata": {},
     "output_type": "display_data"
    }
   ],
   "source": [
    "cols_2d = [['MarkDown1', 'MarkDown2'], ['MarkDown3', 'MarkDown4'], ['MarkDown5']]\n",
    "fig3, axs = plt.subplots(3, 2, tight_layout=True)\n",
    "for i, cols_1d in enumerate(cols_2d):\n",
    "    for j, col in enumerate(cols_1d):\n",
    "        axs[i, j].hist(master[col], bins=100)\n",
    "        axs[i, j].set_title(col)\n"
   ],
   "metadata": {
    "collapsed": false,
    "pycharm": {
     "name": "#%%\n",
     "is_executing": false
    }
   }
  }
 ],
 "metadata": {
  "kernelspec": {
   "name": "pycharm-67ea9c55",
   "language": "python",
   "display_name": "PyCharm (dsba6156)"
  },
  "language_info": {
   "codemirror_mode": {
    "name": "ipython",
    "version": 2
   },
   "file_extension": ".py",
   "mimetype": "text/x-python",
   "name": "python",
   "nbconvert_exporter": "python",
   "pygments_lexer": "ipython2",
   "version": "2.7.6"
  },
  "pycharm": {
   "stem_cell": {
    "cell_type": "raw",
    "source": [],
    "metadata": {
     "collapsed": false
    }
   }
  }
 },
 "nbformat": 4,
 "nbformat_minor": 0
}