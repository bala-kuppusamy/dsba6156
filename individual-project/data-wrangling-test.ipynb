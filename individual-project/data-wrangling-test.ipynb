{
 "cells": [
  {
   "cell_type": "markdown",
   "metadata": {},
   "source": [
    "## Data wrangling - 'test' dataset"
   ]
  },
  {
   "cell_type": "code",
   "execution_count": 22,
   "metadata": {
    "collapsed": true,
    "pycharm": {
     "is_executing": false
    }
   },
   "outputs": [],
   "source": [
    "import pandas as pd\n",
    "from pandas import DataFrame"
   ]
  },
  {
   "cell_type": "markdown",
   "metadata": {},
   "source": [
    "#### Read dataset from file"
   ]
  },
  {
   "cell_type": "code",
   "execution_count": 23,
   "metadata": {
    "pycharm": {
     "is_executing": false,
     "name": "#%%\n"
    }
   },
   "outputs": [],
   "source": [
    "test: DataFrame = pd.read_csv('./data/test.csv')"
   ]
  },
  {
   "cell_type": "markdown",
   "metadata": {},
   "source": [
    "#### Split Store_Dept to separate attributes"
   ]
  },
  {
   "cell_type": "code",
   "execution_count": 24,
   "metadata": {
    "pycharm": {
     "is_executing": false,
     "name": "#%%\n"
    }
   },
   "outputs": [],
   "source": [
    "store_dept = test['Store_Dept'].str.split(pat='_', expand=True)\n",
    "test['Store'] = store_dept[0]\n",
    "test['Dept'] = store_dept[1]"
   ]
  },
  {
   "cell_type": "markdown",
   "metadata": {},
   "source": [
    "#### Split Month & Year from Date"
   ]
  },
  {
   "cell_type": "code",
   "execution_count": 25,
   "metadata": {
    "pycharm": {
     "is_executing": false,
     "name": "#%%\n"
    }
   },
   "outputs": [],
   "source": [
    "test['Date'] = pd.to_datetime(test['Date'], format='%m/%d/%y')\n",
    "test['Year'] = test['Date'].map(lambda x: x.year)\n",
    "test['Month'] = test['Date'].map(lambda x: x.month)"
   ]
  },
  {
   "cell_type": "markdown",
   "metadata": {},
   "source": [
    "#### Calculate if the row has anyone of the markdowns populated"
   ]
  },
  {
   "cell_type": "code",
   "execution_count": 26,
   "metadata": {
    "pycharm": {
     "is_executing": false,
     "name": "#%%\n"
    }
   },
   "outputs": [],
   "source": [
    "no_markdowns = test['MarkDown1'].isna() & test['MarkDown2'].isna() \\\n",
    "        & test['MarkDown3'].isna() & test['MarkDown4'].isna() \\\n",
    "        & test['MarkDown5'].isna()\n",
    "test['HasMarkDown'] = (no_markdowns == False)"
   ]
  },
  {
   "cell_type": "markdown",
   "metadata": {},
   "source": [
    "#### Clearing NA values"
   ]
  },
  {
   "cell_type": "code",
   "execution_count": 27,
   "metadata": {
    "pycharm": {
     "is_executing": false,
     "name": "#%%\n"
    }
   },
   "outputs": [],
   "source": [
    "cols = ['MarkDown1', 'MarkDown2', 'MarkDown3', 'MarkDown4', 'MarkDown5']\n",
    "for col in cols:\n",
    "    test[col] = test[col].fillna(0)"
   ]
  },
  {
   "cell_type": "markdown",
   "metadata": {},
   "source": [
    "#### Datatype conversion"
   ]
  },
  {
   "cell_type": "code",
   "execution_count": 28,
   "metadata": {
    "pycharm": {
     "is_executing": false,
     "name": "#%%\n"
    }
   },
   "outputs": [
    {
     "name": "stdout",
     "output_type": "stream",
     "text": [
      "<class 'pandas.core.frame.DataFrame'>\n",
      "RangeIndex: 76903 entries, 0 to 76902\n",
      "Data columns (total 19 columns):\n",
      "Weekly_Sales    76903 non-null float64\n",
      "Date            76903 non-null datetime64[ns]\n",
      "IsHoliday       76903 non-null category\n",
      "Temperature     76903 non-null float64\n",
      "Fuel_Price      76903 non-null float64\n",
      "MarkDown1       76903 non-null float64\n",
      "MarkDown2       76903 non-null float64\n",
      "MarkDown3       76903 non-null float64\n",
      "MarkDown4       76903 non-null float64\n",
      "MarkDown5       76903 non-null float64\n",
      "CPI             76903 non-null float64\n",
      "Unemployment    76903 non-null float64\n",
      "Type            76903 non-null category\n",
      "Size            76903 non-null int64\n",
      "Store           76903 non-null category\n",
      "Dept            76903 non-null category\n",
      "Year            76903 non-null category\n",
      "Month           76903 non-null category\n",
      "HasMarkDown     76903 non-null category\n",
      "dtypes: category(7), datetime64[ns](1), float64(10), int64(1)\n",
      "memory usage: 7.6 MB\n"
     ]
    }
   ],
   "source": [
    "cols = ['Store', 'Dept', 'Type', 'IsHoliday', 'HasMarkDown', 'Year', 'Month']\n",
    "for col in cols:\n",
    "    test[col] = pd.Categorical(test[col])\n",
    "\n",
    "test = test.drop(columns='Store_Dept')\n",
    "test.info(verbose=True)"
   ]
  },
  {
   "cell_type": "markdown",
   "metadata": {},
   "source": [
    "#### Dummy coding"
   ]
  },
  {
   "cell_type": "code",
   "execution_count": 29,
   "metadata": {
    "pycharm": {
     "is_executing": false,
     "name": "#%%\n"
    }
   },
   "outputs": [
    {
     "name": "stdout",
     "output_type": "stream",
     "text": [
      "<class 'pandas.core.frame.DataFrame'>\n",
      "RangeIndex: 76903 entries, 0 to 76902\n",
      "Data columns (total 113 columns):\n",
      "Weekly_Sales         float64\n",
      "Date                 datetime64[ns]\n",
      "IsHoliday            category\n",
      "Temperature          float64\n",
      "Fuel_Price           float64\n",
      "MarkDown1            float64\n",
      "MarkDown2            float64\n",
      "MarkDown3            float64\n",
      "MarkDown4            float64\n",
      "MarkDown5            float64\n",
      "CPI                  float64\n",
      "Unemployment         float64\n",
      "Type                 category\n",
      "Size                 int64\n",
      "Store                category\n",
      "Dept                 category\n",
      "Year                 category\n",
      "Month                category\n",
      "HasMarkDown          category\n",
      "Type_A               uint8\n",
      "Type_B               uint8\n",
      "Type_C               uint8\n",
      "IsHoliday_False      uint8\n",
      "IsHoliday_True       uint8\n",
      "HasMarkDown_True     uint8\n",
      "Month_5              uint8\n",
      "Month_6              uint8\n",
      "Month_7              uint8\n",
      "Month_8              uint8\n",
      "Month_9              uint8\n",
      "Month_10             uint8\n",
      "Dept_1               uint8\n",
      "Dept_10              uint8\n",
      "Dept_11              uint8\n",
      "Dept_12              uint8\n",
      "Dept_13              uint8\n",
      "Dept_14              uint8\n",
      "Dept_16              uint8\n",
      "Dept_17              uint8\n",
      "Dept_18              uint8\n",
      "Dept_19              uint8\n",
      "Dept_2               uint8\n",
      "Dept_20              uint8\n",
      "Dept_21              uint8\n",
      "Dept_22              uint8\n",
      "Dept_23              uint8\n",
      "Dept_24              uint8\n",
      "Dept_25              uint8\n",
      "Dept_26              uint8\n",
      "Dept_27              uint8\n",
      "Dept_28              uint8\n",
      "Dept_29              uint8\n",
      "Dept_3               uint8\n",
      "Dept_30              uint8\n",
      "Dept_31              uint8\n",
      "Dept_32              uint8\n",
      "Dept_33              uint8\n",
      "Dept_34              uint8\n",
      "Dept_35              uint8\n",
      "Dept_36              uint8\n",
      "Dept_37              uint8\n",
      "Dept_38              uint8\n",
      "Dept_39              uint8\n",
      "Dept_4               uint8\n",
      "Dept_40              uint8\n",
      "Dept_41              uint8\n",
      "Dept_42              uint8\n",
      "Dept_43              uint8\n",
      "Dept_44              uint8\n",
      "Dept_45              uint8\n",
      "Dept_46              uint8\n",
      "Dept_47              uint8\n",
      "Dept_48              uint8\n",
      "Dept_49              uint8\n",
      "Dept_5               uint8\n",
      "Dept_50              uint8\n",
      "Dept_51              uint8\n",
      "Dept_52              uint8\n",
      "Dept_54              uint8\n",
      "Dept_55              uint8\n",
      "Dept_56              uint8\n",
      "Dept_58              uint8\n",
      "Dept_59              uint8\n",
      "Dept_6               uint8\n",
      "Dept_60              uint8\n",
      "Dept_65              uint8\n",
      "Dept_67              uint8\n",
      "Dept_7               uint8\n",
      "Dept_71              uint8\n",
      "Dept_72              uint8\n",
      "Dept_74              uint8\n",
      "Dept_77              uint8\n",
      "Dept_78              uint8\n",
      "Dept_79              uint8\n",
      "Dept_8               uint8\n",
      "Dept_80              uint8\n",
      "Dept_81              uint8\n",
      "Dept_82              uint8\n",
      "Dept_83              uint8\n",
      "Dept_85              uint8\n",
      "Dept_87              uint8\n",
      "Dept_9               uint8\n",
      "Dept_90              uint8\n",
      "Dept_91              uint8\n",
      "Dept_92              uint8\n",
      "Dept_93              uint8\n",
      "Dept_94              uint8\n",
      "Dept_95              uint8\n",
      "Dept_96              uint8\n",
      "Dept_97              uint8\n",
      "Dept_98              uint8\n",
      "Dept_99              uint8\n",
      "HasMarkDown_False    int64\n",
      "dtypes: category(7), datetime64[ns](1), float64(10), int64(2), uint8(93)\n",
      "memory usage: 15.0 MB\n"
     ]
    }
   ],
   "source": [
    "types = pd.get_dummies(pd.DataFrame({'Type': test['Type']}))\n",
    "test = pd.concat([test, types], axis=1)\n",
    "\n",
    "is_holiday = pd.get_dummies(pd.DataFrame({'IsHoliday': test['IsHoliday']}))\n",
    "test = pd.concat([test, is_holiday], axis=1)\n",
    "\n",
    "has_markdown = pd.get_dummies(pd.DataFrame({'HasMarkDown': test['HasMarkDown']}))\n",
    "test = pd.concat([test, has_markdown], axis=1)\n",
    "\n",
    "month = pd.get_dummies(pd.DataFrame({'Month': test['Month']}))\n",
    "test = pd.concat([test, month], axis=1)\n",
    "\n",
    "dept = pd.get_dummies(pd.DataFrame({'Dept': test['Dept']}))\n",
    "test = pd.concat([test, dept], axis=1)\n",
    "\n",
    "test['HasMarkDown_False'] = 0\n",
    "\n",
    "test.info(verbose=True)"
   ]
  },
  {
   "cell_type": "code",
   "execution_count": 30,
   "metadata": {
    "pycharm": {
     "is_executing": false,
     "name": "#%%\n"
    }
   },
   "outputs": [
    {
     "name": "stdout",
     "output_type": "stream",
     "text": [
      "DataFrame stored in pickle file...\n"
     ]
    }
   ],
   "source": [
    "test.to_pickle('./data/test.pickle')\n",
    "print('DataFrame stored in pickle file...')\n"
   ]
  }
 ],
 "metadata": {
  "kernelspec": {
   "display_name": "PyCharm (dsba6156)",
   "language": "python",
   "name": "pycharm-67ea9c55"
  },
  "language_info": {
   "codemirror_mode": {
    "name": "ipython",
    "version": 3
   },
   "file_extension": ".py",
   "mimetype": "text/x-python",
   "name": "python",
   "nbconvert_exporter": "python",
   "pygments_lexer": "ipython3",
   "version": "3.7.2"
  },
  "pycharm": {
   "stem_cell": {
    "cell_type": "raw",
    "metadata": {
     "collapsed": false
    },
    "source": []
   }
  }
 },
 "nbformat": 4,
 "nbformat_minor": 1
}
