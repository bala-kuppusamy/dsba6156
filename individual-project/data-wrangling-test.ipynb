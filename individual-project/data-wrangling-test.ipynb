{
 "cells": [
  {
   "cell_type": "markdown",
   "source": [
    "## Data wrangling - 'test' dataset"
   ],
   "metadata": {
    "collapsed": false
   }
  },
  {
   "cell_type": "code",
   "execution_count": 22,
   "metadata": {
    "collapsed": true,
    "pycharm": {
     "is_executing": false
    }
   },
   "outputs": [],
   "source": [
    "import pandas as pd\n",
    "from pandas import DataFrame"
   ]
  },
  {
   "cell_type": "markdown",
   "source": [
    "#### Read dataset from file"
   ],
   "metadata": {
    "collapsed": false
   }
  },
  {
   "cell_type": "code",
   "execution_count": 23,
   "outputs": [],
   "source": [
    "test: DataFrame = pd.read_csv('./data/test.csv')"
   ],
   "metadata": {
    "collapsed": false,
    "pycharm": {
     "name": "#%%\n",
     "is_executing": false
    }
   }
  },
  {
   "cell_type": "markdown",
   "source": [
    "#### Split Store_Dept to separate attributes"
   ],
   "metadata": {
    "collapsed": false
   }
  },
  {
   "cell_type": "code",
   "execution_count": 24,
   "outputs": [],
   "source": [
    "store_dept = test['Store_Dept'].str.split(pat='_', expand=True)\n",
    "test['Store'] = store_dept[0]\n",
    "test['Dept'] = store_dept[1]"
   ],
   "metadata": {
    "collapsed": false,
    "pycharm": {
     "name": "#%%\n",
     "is_executing": false
    }
   }
  },
  {
   "cell_type": "markdown",
   "source": [
    "#### Split Month & Year from Date"
   ],
   "metadata": {
    "collapsed": false
   }
  },
  {
   "cell_type": "code",
   "execution_count": 25,
   "outputs": [],
   "source": [
    "test['Date'] = pd.to_datetime(test['Date'], format='%m/%d/%y')\n",
    "test['Year'] = test['Date'].map(lambda x: x.year)\n",
    "test['Month'] = test['Date'].map(lambda x: x.month)"
   ],
   "metadata": {
    "collapsed": false,
    "pycharm": {
     "name": "#%%\n",
     "is_executing": false
    }
   }
  },
  {
   "cell_type": "markdown",
   "source": [
    "#### Calculate if the row has anyone of the markdowns populated"
   ],
   "metadata": {
    "collapsed": false
   }
  },
  {
   "cell_type": "code",
   "execution_count": 26,
   "outputs": [],
   "source": [
    "no_markdowns = test['MarkDown1'].isna() & test['MarkDown2'].isna() \\\n",
    "        & test['MarkDown3'].isna() & test['MarkDown4'].isna() \\\n",
    "        & test['MarkDown5'].isna()\n",
    "test['HasMarkDown'] = (no_markdowns == False)"
   ],
   "metadata": {
    "collapsed": false,
    "pycharm": {
     "name": "#%%\n",
     "is_executing": false
    }
   }
  },
  {
   "cell_type": "markdown",
   "source": [
    "#### Clearing NA values"
   ],
   "metadata": {
    "collapsed": false
   }
  },
  {
   "cell_type": "code",
   "execution_count": 27,
   "outputs": [],
   "source": [
    "cols = ['MarkDown1', 'MarkDown2', 'MarkDown3', 'MarkDown4', 'MarkDown5']\n",
    "for col in cols:\n",
    "    test[col] = test[col].fillna(0)"
   ],
   "metadata": {
    "collapsed": false,
    "pycharm": {
     "name": "#%%\n",
     "is_executing": false
    }
   }
  },
  {
   "cell_type": "markdown",
   "source": [
    "#### Datatype conversion"
   ],
   "metadata": {
    "collapsed": false
   }
  },
  {
   "cell_type": "code",
   "execution_count": 28,
   "outputs": [
    {
     "name": "stdout",
     "text": [
      "<class 'pandas.core.frame.DataFrame'>\nRangeIndex: 76903 entries, 0 to 76902\nData columns (total 19 columns):\nWeekly_Sales    76903 non-null float64\nDate            76903 non-null datetime64[ns]\nIsHoliday       76903 non-null category\nTemperature     76903 non-null float64\nFuel_Price      76903 non-null float64\nMarkDown1       76903 non-null float64\nMarkDown2       76903 non-null float64\nMarkDown3       76903 non-null float64\nMarkDown4       76903 non-null float64\nMarkDown5       76903 non-null float64\nCPI             76903 non-null float64\nUnemployment    76903 non-null float64\nType            76903 non-null category\nSize            76903 non-null int64\nStore           76903 non-null category\nDept            76903 non-null category\nYear            76903 non-null category\nMonth           76903 non-null category\nHasMarkDown     76903 non-null category\ndtypes: category(7), datetime64[ns](1), float64(10), int64(1)\nmemory usage: 7.6 MB\n"
     ],
     "output_type": "stream"
    }
   ],
   "source": [
    "# master['HasMarkDown'] = master['HasMarkDown'].map(lambda x: 'Y' if x == True else 'N')\n",
    "# master['IsHoliday'] = master['IsHoliday'].map(lambda x: 'Y' if x == True else 'N')\n",
    "\n",
    "cols = ['Store', 'Dept', 'Type', 'IsHoliday', 'HasMarkDown', 'Year', 'Month']\n",
    "for col in cols:\n",
    "    test[col] = pd.Categorical(test[col])\n",
    "\n",
    "test = test.drop(columns='Store_Dept')\n",
    "test.info(verbose=True)"
   ],
   "metadata": {
    "collapsed": false,
    "pycharm": {
     "name": "#%%\n",
     "is_executing": false
    }
   }
  },
  {
   "cell_type": "markdown",
   "source": [
    "#### Dummy coding"
   ],
   "metadata": {
    "collapsed": false
   }
  },
  {
   "cell_type": "code",
   "execution_count": 29,
   "outputs": [
    {
     "name": "stdout",
     "text": [
      "<class 'pandas.core.frame.DataFrame'>\nRangeIndex: 76903 entries, 0 to 76902\nData columns (total 113 columns):\nWeekly_Sales         float64\nDate                 datetime64[ns]\nIsHoliday            category\nTemperature          float64\nFuel_Price           float64\nMarkDown1            float64\nMarkDown2            float64\nMarkDown3            float64\nMarkDown4            float64\nMarkDown5            float64\nCPI                  float64\nUnemployment         float64\nType                 category\nSize                 int64\nStore                category\nDept                 category\nYear                 category\nMonth                category\nHasMarkDown          category\nType_A               uint8\nType_B               uint8\nType_C               uint8\nIsHoliday_False      uint8\nIsHoliday_True       uint8\nHasMarkDown_True     uint8\nMonth_5              uint8\nMonth_6              uint8\nMonth_7              uint8\nMonth_8              uint8\nMonth_9              uint8\nMonth_10             uint8\nDept_1               uint8\nDept_10              uint8\nDept_11              uint8\nDept_12              uint8\nDept_13              uint8\nDept_14              uint8\nDept_16              uint8\nDept_17              uint8\nDept_18              uint8\nDept_19              uint8\nDept_2               uint8\nDept_20              uint8\nDept_21              uint8\nDept_22              uint8\nDept_23              uint8\nDept_24              uint8\nDept_25              uint8\nDept_26              uint8\nDept_27              uint8\nDept_28              uint8\nDept_29              uint8\nDept_3               uint8\nDept_30              uint8\nDept_31              uint8\nDept_32              uint8\nDept_33              uint8\nDept_34              uint8\nDept_35              uint8\nDept_36              uint8\nDept_37              uint8\nDept_38              uint8\nDept_39              uint8\nDept_4               uint8\nDept_40              uint8\nDept_41              uint8\nDept_42              uint8\nDept_43              uint8\nDept_44              uint8\nDept_45              uint8\nDept_46              uint8\nDept_47              uint8\nDept_48              uint8\nDept_49              uint8\nDept_5               uint8\nDept_50              uint8\nDept_51              uint8\nDept_52              uint8\nDept_54              uint8\nDept_55              uint8\nDept_56              uint8\nDept_58              uint8\nDept_59              uint8\nDept_6               uint8\nDept_60              uint8\nDept_65              uint8\nDept_67              uint8\nDept_7               uint8\nDept_71              uint8\nDept_72              uint8\nDept_74              uint8\nDept_77              uint8\nDept_78              uint8\nDept_79              uint8\nDept_8               uint8\nDept_80              uint8\nDept_81              uint8\nDept_82              uint8\nDept_83              uint8\nDept_85              uint8\nDept_87              uint8\nDept_9               uint8\nDept_90              uint8\nDept_91              uint8\nDept_92              uint8\nDept_93              uint8\nDept_94              uint8\nDept_95              uint8\nDept_96              uint8\nDept_97              uint8\nDept_98              uint8\nDept_99              uint8\nHasMarkDown_False    int64\ndtypes: category(7), datetime64[ns](1), float64(10), int64(2), uint8(93)\nmemory usage: 15.0 MB\n"
     ],
     "output_type": "stream"
    }
   ],
   "source": [
    "types = pd.get_dummies(pd.DataFrame({'Type': test['Type']}))\n",
    "test = pd.concat([test, types], axis=1)\n",
    "\n",
    "is_holiday = pd.get_dummies(pd.DataFrame({'IsHoliday': test['IsHoliday']}))\n",
    "test = pd.concat([test, is_holiday], axis=1)\n",
    "\n",
    "has_markdown = pd.get_dummies(pd.DataFrame({'HasMarkDown': test['HasMarkDown']}))\n",
    "test = pd.concat([test, has_markdown], axis=1)\n",
    "\n",
    "month = pd.get_dummies(pd.DataFrame({'Month': test['Month']}))\n",
    "test = pd.concat([test, month], axis=1)\n",
    "\n",
    "dept = pd.get_dummies(pd.DataFrame({'Dept': test['Dept']}))\n",
    "test = pd.concat([test, dept], axis=1)\n",
    "\n",
    "test['HasMarkDown_False'] = 0\n",
    "\n",
    "test.info(verbose=True)"
   ],
   "metadata": {
    "collapsed": false,
    "pycharm": {
     "name": "#%%\n",
     "is_executing": false
    }
   }
  },
  {
   "cell_type": "code",
   "execution_count": 30,
   "outputs": [
    {
     "name": "stdout",
     "text": [
      "DataFrame stored in pickle file...\n"
     ],
     "output_type": "stream"
    }
   ],
   "source": [
    "test.to_pickle('./data/test.pickle')\n",
    "print('DataFrame stored in pickle file...')\n"
   ],
   "metadata": {
    "collapsed": false,
    "pycharm": {
     "name": "#%%\n",
     "is_executing": false
    }
   }
  }
 ],
 "metadata": {
  "kernelspec": {
   "name": "pycharm-67ea9c55",
   "language": "python",
   "display_name": "PyCharm (dsba6156)"
  },
  "language_info": {
   "codemirror_mode": {
    "name": "ipython",
    "version": 2
   },
   "file_extension": ".py",
   "mimetype": "text/x-python",
   "name": "python",
   "nbconvert_exporter": "python",
   "pygments_lexer": "ipython2",
   "version": "2.7.6"
  },
  "pycharm": {
   "stem_cell": {
    "cell_type": "raw",
    "source": [],
    "metadata": {
     "collapsed": false
    }
   }
  }
 },
 "nbformat": 4,
 "nbformat_minor": 0
}