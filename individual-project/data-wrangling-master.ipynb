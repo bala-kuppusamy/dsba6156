{
 "cells": [
  {
   "cell_type": "markdown",
   "source": [
    "## Data wrangling - 'master' dataset"
   ],
   "metadata": {
    "collapsed": false
   }
  },
  {
   "cell_type": "code",
   "execution_count": 2,
   "metadata": {
    "collapsed": true,
    "pycharm": {
     "is_executing": false
    }
   },
   "outputs": [],
   "source": [
    "import pandas as pd\n",
    "from pandas import DataFrame"
   ]
  },
  {
   "cell_type": "markdown",
   "source": [
    "#### Read dataset from file"
   ],
   "metadata": {
    "collapsed": false
   }
  },
  {
   "cell_type": "code",
   "execution_count": 3,
   "outputs": [],
   "source": [
    "master: DataFrame = pd.read_csv('./data/master.csv')"
   ],
   "metadata": {
    "collapsed": false,
    "pycharm": {
     "name": "#%%\n",
     "is_executing": false
    }
   }
  },
  {
   "cell_type": "markdown",
   "source": [
    "#### Split Store_Dept to separate attributes"
   ],
   "metadata": {
    "collapsed": false
   }
  },
  {
   "cell_type": "code",
   "execution_count": 5,
   "outputs": [
    {
     "name": "stdout",
     "text": [
      "<class 'pandas.core.frame.DataFrame'>\nRangeIndex: 344667 entries, 0 to 344666\nData columns (total 2 columns):\n0    344667 non-null object\n1    344667 non-null object\ndtypes: object(2)\nmemory usage: 2.6+ MB\n"
     ],
     "output_type": "stream"
    }
   ],
   "source": [
    "store_dept = master['Store_Dept'].str.split(pat='_', expand=True)\n",
    "master['Store'] = store_dept[0]\n",
    "master['Dept'] = store_dept[1]"
   ],
   "metadata": {
    "collapsed": false,
    "pycharm": {
     "name": "#%%\n",
     "is_executing": false
    }
   }
  },
  {
   "cell_type": "markdown",
   "source": [
    "#### Split Month & Year from Date"
   ],
   "metadata": {
    "collapsed": false
   }
  },
  {
   "cell_type": "code",
   "execution_count": 101,
   "outputs": [],
   "source": [
    "master['Date'] = pd.to_datetime(master['Date'], format='%m/%d/%y')\n",
    "master['Year'] = master['Date'].map(lambda x: x.year)\n",
    "master['Month'] = master['Date'].map(lambda x: x.month)"
   ],
   "metadata": {
    "collapsed": false,
    "pycharm": {
     "name": "#%%\n",
     "is_executing": false
    }
   }
  },
  {
   "cell_type": "markdown",
   "source": [
    "#### Calculate if the row has anyone of the markdowns populated"
   ],
   "metadata": {
    "collapsed": false
   }
  },
  {
   "cell_type": "code",
   "execution_count": 102,
   "outputs": [],
   "source": [
    "no_markdowns = master['MarkDown1'].isna() & master['MarkDown2'].isna() \\\n",
    "        & master['MarkDown3'].isna() & master['MarkDown4'].isna() \\\n",
    "        & master['MarkDown5'].isna()\n",
    "master['HasMarkDown'] = (no_markdowns == False)"
   ],
   "metadata": {
    "collapsed": false,
    "pycharm": {
     "name": "#%%\n",
     "is_executing": false
    }
   }
  },
  {
   "cell_type": "markdown",
   "source": [
    "#### Clearing NA values"
   ],
   "metadata": {
    "collapsed": false
   }
  },
  {
   "cell_type": "code",
   "execution_count": 103,
   "outputs": [],
   "source": [
    "cols = ['MarkDown1', 'MarkDown2', 'MarkDown3', 'MarkDown4', 'MarkDown5']\n",
    "for col in cols:\n",
    "    master[col] = master[col].fillna(0)"
   ],
   "metadata": {
    "collapsed": false,
    "pycharm": {
     "name": "#%%\n",
     "is_executing": false
    }
   }
  },
  {
   "cell_type": "markdown",
   "source": [
    "#### Datatype conversion"
   ],
   "metadata": {
    "collapsed": false
   }
  },
  {
   "cell_type": "code",
   "execution_count": 104,
   "outputs": [
    {
     "name": "stdout",
     "text": [
      "<class 'pandas.core.frame.DataFrame'>\nRangeIndex: 344667 entries, 0 to 344666\nData columns (total 19 columns):\nDate            344667 non-null datetime64[ns]\nWeekly_Sales    344667 non-null float64\nIsHoliday       344667 non-null category\nTemperature     344667 non-null float64\nFuel_Price      344667 non-null float64\nMarkDown1       344667 non-null float64\nMarkDown2       344667 non-null float64\nMarkDown3       344667 non-null float64\nMarkDown4       344667 non-null float64\nMarkDown5       344667 non-null float64\nCPI             344667 non-null float64\nUnemployment    344667 non-null float64\nType            344667 non-null category\nSize            344667 non-null int64\nStore           344667 non-null category\nDept            344667 non-null category\nYear            344667 non-null category\nMonth           344667 non-null category\nHasMarkDown     344667 non-null category\ndtypes: category(7), datetime64[ns](1), float64(10), int64(1)\nmemory usage: 33.9 MB\n"
     ],
     "output_type": "stream"
    }
   ],
   "source": [
    "# master['HasMarkDown'] = master['HasMarkDown'].map(lambda x: 'Y' if x == True else 'N')\n",
    "# master['IsHoliday'] = master['IsHoliday'].map(lambda x: 'Y' if x == True else 'N')\n",
    "\n",
    "cols = ['Store', 'Dept', 'Type', 'IsHoliday', 'HasMarkDown', 'Year', 'Month']\n",
    "for col in cols:\n",
    "    master[col] = pd.Categorical(master[col])\n",
    "\n",
    "master = master.drop(columns='Store_Dept')\n",
    "master.info()"
   ],
   "metadata": {
    "collapsed": false,
    "pycharm": {
     "name": "#%%\n",
     "is_executing": false
    }
   }
  },
  {
   "cell_type": "markdown",
   "source": [
    "#### Dummy coding"
   ],
   "metadata": {
    "collapsed": false
   }
  },
  {
   "cell_type": "code",
   "execution_count": 105,
   "outputs": [
    {
     "name": "stdout",
     "text": [
      "<class 'pandas.core.frame.DataFrame'>\nRangeIndex: 344667 entries, 0 to 344666\nColumns: 119 entries, Date to Dept_99\ndtypes: category(7), datetime64[ns](1), float64(10), int64(1), uint8(100)\nmemory usage: 66.7 MB\n"
     ],
     "output_type": "stream"
    }
   ],
   "source": [
    "types = pd.get_dummies(pd.DataFrame({'Type': master['Type']}))\n",
    "master = pd.concat([master, types], axis=1)\n",
    "\n",
    "is_holiday = pd.get_dummies(pd.DataFrame({'IsHoliday': master['IsHoliday']}))\n",
    "master = pd.concat([master, is_holiday], axis=1)\n",
    "\n",
    "has_markdown = pd.get_dummies(pd.DataFrame({'HasMarkDown': master['HasMarkDown']}))\n",
    "master = pd.concat([master, has_markdown], axis=1)\n",
    "\n",
    "month = pd.get_dummies(pd.DataFrame({'Month': master['Month']}))\n",
    "master = pd.concat([master, month], axis=1)\n",
    "\n",
    "dept = pd.get_dummies(pd.DataFrame({'Dept': master['Dept']}))\n",
    "master = pd.concat([master, dept], axis=1)\n",
    "\n",
    "master.info()"
   ],
   "metadata": {
    "collapsed": false,
    "pycharm": {
     "name": "#%%\n",
     "is_executing": false
    }
   }
  },
  {
   "cell_type": "code",
   "execution_count": 106,
   "outputs": [
    {
     "data": {
      "text/plain": "        Date  Weekly_Sales IsHoliday  Temperature  Fuel_Price  MarkDown1  \\\n0 2010-02-05      24924.50     False        42.31       2.572        0.0   \n1 2010-02-12      46039.49      True        38.51       2.548        0.0   \n2 2010-02-19      41595.55     False        39.93       2.514        0.0   \n3 2010-02-26      19403.54     False        46.63       2.561        0.0   \n4 2010-03-05      21827.90     False        46.50       2.625        0.0   \n\n   MarkDown2  MarkDown3  MarkDown4  MarkDown5  ...  Dept_90  Dept_91 Dept_92  \\\n0        0.0        0.0        0.0        0.0  ...        0        0       0   \n1        0.0        0.0        0.0        0.0  ...        0        0       0   \n2        0.0        0.0        0.0        0.0  ...        0        0       0   \n3        0.0        0.0        0.0        0.0  ...        0        0       0   \n4        0.0        0.0        0.0        0.0  ...        0        0       0   \n\n   Dept_93 Dept_94 Dept_95 Dept_96 Dept_97 Dept_98  Dept_99  \n0        0       0       0       0       0       0        0  \n1        0       0       0       0       0       0        0  \n2        0       0       0       0       0       0        0  \n3        0       0       0       0       0       0        0  \n4        0       0       0       0       0       0        0  \n\n[5 rows x 119 columns]",
      "text/html": "<div>\n<style scoped>\n    .dataframe tbody tr th:only-of-type {\n        vertical-align: middle;\n    }\n\n    .dataframe tbody tr th {\n        vertical-align: top;\n    }\n\n    .dataframe thead th {\n        text-align: right;\n    }\n</style>\n<table border=\"1\" class=\"dataframe\">\n  <thead>\n    <tr style=\"text-align: right;\">\n      <th></th>\n      <th>Date</th>\n      <th>Weekly_Sales</th>\n      <th>IsHoliday</th>\n      <th>Temperature</th>\n      <th>Fuel_Price</th>\n      <th>MarkDown1</th>\n      <th>MarkDown2</th>\n      <th>MarkDown3</th>\n      <th>MarkDown4</th>\n      <th>MarkDown5</th>\n      <th>...</th>\n      <th>Dept_90</th>\n      <th>Dept_91</th>\n      <th>Dept_92</th>\n      <th>Dept_93</th>\n      <th>Dept_94</th>\n      <th>Dept_95</th>\n      <th>Dept_96</th>\n      <th>Dept_97</th>\n      <th>Dept_98</th>\n      <th>Dept_99</th>\n    </tr>\n  </thead>\n  <tbody>\n    <tr>\n      <td>0</td>\n      <td>2010-02-05</td>\n      <td>24924.50</td>\n      <td>False</td>\n      <td>42.31</td>\n      <td>2.572</td>\n      <td>0.0</td>\n      <td>0.0</td>\n      <td>0.0</td>\n      <td>0.0</td>\n      <td>0.0</td>\n      <td>...</td>\n      <td>0</td>\n      <td>0</td>\n      <td>0</td>\n      <td>0</td>\n      <td>0</td>\n      <td>0</td>\n      <td>0</td>\n      <td>0</td>\n      <td>0</td>\n      <td>0</td>\n    </tr>\n    <tr>\n      <td>1</td>\n      <td>2010-02-12</td>\n      <td>46039.49</td>\n      <td>True</td>\n      <td>38.51</td>\n      <td>2.548</td>\n      <td>0.0</td>\n      <td>0.0</td>\n      <td>0.0</td>\n      <td>0.0</td>\n      <td>0.0</td>\n      <td>...</td>\n      <td>0</td>\n      <td>0</td>\n      <td>0</td>\n      <td>0</td>\n      <td>0</td>\n      <td>0</td>\n      <td>0</td>\n      <td>0</td>\n      <td>0</td>\n      <td>0</td>\n    </tr>\n    <tr>\n      <td>2</td>\n      <td>2010-02-19</td>\n      <td>41595.55</td>\n      <td>False</td>\n      <td>39.93</td>\n      <td>2.514</td>\n      <td>0.0</td>\n      <td>0.0</td>\n      <td>0.0</td>\n      <td>0.0</td>\n      <td>0.0</td>\n      <td>...</td>\n      <td>0</td>\n      <td>0</td>\n      <td>0</td>\n      <td>0</td>\n      <td>0</td>\n      <td>0</td>\n      <td>0</td>\n      <td>0</td>\n      <td>0</td>\n      <td>0</td>\n    </tr>\n    <tr>\n      <td>3</td>\n      <td>2010-02-26</td>\n      <td>19403.54</td>\n      <td>False</td>\n      <td>46.63</td>\n      <td>2.561</td>\n      <td>0.0</td>\n      <td>0.0</td>\n      <td>0.0</td>\n      <td>0.0</td>\n      <td>0.0</td>\n      <td>...</td>\n      <td>0</td>\n      <td>0</td>\n      <td>0</td>\n      <td>0</td>\n      <td>0</td>\n      <td>0</td>\n      <td>0</td>\n      <td>0</td>\n      <td>0</td>\n      <td>0</td>\n    </tr>\n    <tr>\n      <td>4</td>\n      <td>2010-03-05</td>\n      <td>21827.90</td>\n      <td>False</td>\n      <td>46.50</td>\n      <td>2.625</td>\n      <td>0.0</td>\n      <td>0.0</td>\n      <td>0.0</td>\n      <td>0.0</td>\n      <td>0.0</td>\n      <td>...</td>\n      <td>0</td>\n      <td>0</td>\n      <td>0</td>\n      <td>0</td>\n      <td>0</td>\n      <td>0</td>\n      <td>0</td>\n      <td>0</td>\n      <td>0</td>\n      <td>0</td>\n    </tr>\n  </tbody>\n</table>\n<p>5 rows × 119 columns</p>\n</div>"
     },
     "metadata": {},
     "output_type": "execute_result",
     "execution_count": 106
    }
   ],
   "source": [
    "master.head()"
   ],
   "metadata": {
    "collapsed": false,
    "pycharm": {
     "name": "#%%\n",
     "is_executing": false
    }
   }
  },
  {
   "cell_type": "code",
   "execution_count": 108,
   "outputs": [
    {
     "name": "stdout",
     "text": [
      "DataFrame stored in pickle file...\n"
     ],
     "output_type": "stream"
    }
   ],
   "source": [
    "master.to_pickle('./data/master.pickle')\n",
    "print('DataFrame stored in pickle file...')\n"
   ],
   "metadata": {
    "collapsed": false,
    "pycharm": {
     "name": "#%%\n",
     "is_executing": false
    }
   }
  }
 ],
 "metadata": {
  "kernelspec": {
   "name": "pycharm-67ea9c55",
   "language": "python",
   "display_name": "PyCharm (dsba6156)"
  },
  "language_info": {
   "codemirror_mode": {
    "name": "ipython",
    "version": 2
   },
   "file_extension": ".py",
   "mimetype": "text/x-python",
   "name": "python",
   "nbconvert_exporter": "python",
   "pygments_lexer": "ipython2",
   "version": "2.7.6"
  },
  "pycharm": {
   "stem_cell": {
    "cell_type": "raw",
    "source": [],
    "metadata": {
     "collapsed": false
    }
   }
  }
 },
 "nbformat": 4,
 "nbformat_minor": 0
}