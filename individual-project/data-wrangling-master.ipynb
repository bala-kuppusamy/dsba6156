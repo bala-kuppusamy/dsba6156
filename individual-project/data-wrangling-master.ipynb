{
 "cells": [
  {
   "cell_type": "markdown",
   "metadata": {},
   "source": [
    "## Data wrangling - 'master' dataset"
   ]
  },
  {
   "cell_type": "code",
   "execution_count": 2,
   "metadata": {
    "collapsed": true,
    "pycharm": {
     "is_executing": false
    }
   },
   "outputs": [],
   "source": [
    "import pandas as pd\n",
    "from pandas import DataFrame"
   ]
  },
  {
   "cell_type": "markdown",
   "metadata": {},
   "source": [
    "#### Read dataset from file"
   ]
  },
  {
   "cell_type": "code",
   "execution_count": 3,
   "metadata": {
    "pycharm": {
     "is_executing": false,
     "name": "#%%\n"
    }
   },
   "outputs": [],
   "source": [
    "master: DataFrame = pd.read_csv('./data/master.csv')"
   ]
  },
  {
   "cell_type": "markdown",
   "metadata": {},
   "source": [
    "#### Split Store_Dept to separate attributes"
   ]
  },
  {
   "cell_type": "code",
   "execution_count": 5,
   "metadata": {
    "pycharm": {
     "is_executing": false,
     "name": "#%%\n"
    }
   },
   "outputs": [
    {
     "name": "stdout",
     "output_type": "stream",
     "text": [
      "<class 'pandas.core.frame.DataFrame'>\n",
      "RangeIndex: 344667 entries, 0 to 344666\n",
      "Data columns (total 2 columns):\n",
      "0    344667 non-null object\n",
      "1    344667 non-null object\n",
      "dtypes: object(2)\n",
      "memory usage: 2.6+ MB\n"
     ]
    }
   ],
   "source": [
    "store_dept = master['Store_Dept'].str.split(pat='_', expand=True)\n",
    "master['Store'] = store_dept[0]\n",
    "master['Dept'] = store_dept[1]"
   ]
  },
  {
   "cell_type": "markdown",
   "metadata": {},
   "source": [
    "#### Split Month & Year from Date"
   ]
  },
  {
   "cell_type": "code",
   "execution_count": 101,
   "metadata": {
    "pycharm": {
     "is_executing": false,
     "name": "#%%\n"
    }
   },
   "outputs": [],
   "source": [
    "master['Date'] = pd.to_datetime(master['Date'], format='%m/%d/%y')\n",
    "master['Year'] = master['Date'].map(lambda x: x.year)\n",
    "master['Month'] = master['Date'].map(lambda x: x.month)"
   ]
  },
  {
   "cell_type": "markdown",
   "metadata": {},
   "source": [
    "#### Calculate if the row has anyone of the markdowns populated"
   ]
  },
  {
   "cell_type": "code",
   "execution_count": 102,
   "metadata": {
    "pycharm": {
     "is_executing": false,
     "name": "#%%\n"
    }
   },
   "outputs": [],
   "source": [
    "no_markdowns = master['MarkDown1'].isna() & master['MarkDown2'].isna() \\\n",
    "        & master['MarkDown3'].isna() & master['MarkDown4'].isna() \\\n",
    "        & master['MarkDown5'].isna()\n",
    "master['HasMarkDown'] = (no_markdowns == False)"
   ]
  },
  {
   "cell_type": "markdown",
   "metadata": {},
   "source": [
    "#### Clearing NA values"
   ]
  },
  {
   "cell_type": "code",
   "execution_count": 103,
   "metadata": {
    "pycharm": {
     "is_executing": false,
     "name": "#%%\n"
    }
   },
   "outputs": [],
   "source": [
    "cols = ['MarkDown1', 'MarkDown2', 'MarkDown3', 'MarkDown4', 'MarkDown5']\n",
    "for col in cols:\n",
    "    master[col] = master[col].fillna(0)"
   ]
  },
  {
   "cell_type": "markdown",
   "metadata": {},
   "source": [
    "#### Datatype conversion"
   ]
  },
  {
   "cell_type": "code",
   "execution_count": 104,
   "metadata": {
    "pycharm": {
     "is_executing": false,
     "name": "#%%\n"
    }
   },
   "outputs": [
    {
     "name": "stdout",
     "output_type": "stream",
     "text": [
      "<class 'pandas.core.frame.DataFrame'>\n",
      "RangeIndex: 344667 entries, 0 to 344666\n",
      "Data columns (total 19 columns):\n",
      "Date            344667 non-null datetime64[ns]\n",
      "Weekly_Sales    344667 non-null float64\n",
      "IsHoliday       344667 non-null category\n",
      "Temperature     344667 non-null float64\n",
      "Fuel_Price      344667 non-null float64\n",
      "MarkDown1       344667 non-null float64\n",
      "MarkDown2       344667 non-null float64\n",
      "MarkDown3       344667 non-null float64\n",
      "MarkDown4       344667 non-null float64\n",
      "MarkDown5       344667 non-null float64\n",
      "CPI             344667 non-null float64\n",
      "Unemployment    344667 non-null float64\n",
      "Type            344667 non-null category\n",
      "Size            344667 non-null int64\n",
      "Store           344667 non-null category\n",
      "Dept            344667 non-null category\n",
      "Year            344667 non-null category\n",
      "Month           344667 non-null category\n",
      "HasMarkDown     344667 non-null category\n",
      "dtypes: category(7), datetime64[ns](1), float64(10), int64(1)\n",
      "memory usage: 33.9 MB\n"
     ]
    }
   ],
   "source": [
    "cols = ['Store', 'Dept', 'Type', 'IsHoliday', 'HasMarkDown', 'Year', 'Month']\n",
    "for col in cols:\n",
    "    master[col] = pd.Categorical(master[col])\n",
    "\n",
    "master = master.drop(columns='Store_Dept')\n",
    "master.info()"
   ]
  },
  {
   "cell_type": "markdown",
   "metadata": {},
   "source": [
    "#### Dummy coding"
   ]
  },
  {
   "cell_type": "code",
   "execution_count": 105,
   "metadata": {
    "pycharm": {
     "is_executing": false,
     "name": "#%%\n"
    }
   },
   "outputs": [
    {
     "name": "stdout",
     "output_type": "stream",
     "text": [
      "<class 'pandas.core.frame.DataFrame'>\n",
      "RangeIndex: 344667 entries, 0 to 344666\n",
      "Columns: 119 entries, Date to Dept_99\n",
      "dtypes: category(7), datetime64[ns](1), float64(10), int64(1), uint8(100)\n",
      "memory usage: 66.7 MB\n"
     ]
    }
   ],
   "source": [
    "types = pd.get_dummies(pd.DataFrame({'Type': master['Type']}))\n",
    "master = pd.concat([master, types], axis=1)\n",
    "\n",
    "is_holiday = pd.get_dummies(pd.DataFrame({'IsHoliday': master['IsHoliday']}))\n",
    "master = pd.concat([master, is_holiday], axis=1)\n",
    "\n",
    "has_markdown = pd.get_dummies(pd.DataFrame({'HasMarkDown': master['HasMarkDown']}))\n",
    "master = pd.concat([master, has_markdown], axis=1)\n",
    "\n",
    "month = pd.get_dummies(pd.DataFrame({'Month': master['Month']}))\n",
    "master = pd.concat([master, month], axis=1)\n",
    "\n",
    "dept = pd.get_dummies(pd.DataFrame({'Dept': master['Dept']}))\n",
    "master = pd.concat([master, dept], axis=1)\n",
    "\n",
    "master.info()"
   ]
  },
  {
   "cell_type": "code",
   "execution_count": 106,
   "metadata": {
    "pycharm": {
     "is_executing": false,
     "name": "#%%\n"
    }
   },
   "outputs": [
    {
     "data": {
      "text/html": [
       "<div>\n",
       "<style scoped>\n",
       "    .dataframe tbody tr th:only-of-type {\n",
       "        vertical-align: middle;\n",
       "    }\n",
       "\n",
       "    .dataframe tbody tr th {\n",
       "        vertical-align: top;\n",
       "    }\n",
       "\n",
       "    .dataframe thead th {\n",
       "        text-align: right;\n",
       "    }\n",
       "</style>\n",
       "<table border=\"1\" class=\"dataframe\">\n",
       "  <thead>\n",
       "    <tr style=\"text-align: right;\">\n",
       "      <th></th>\n",
       "      <th>Date</th>\n",
       "      <th>Weekly_Sales</th>\n",
       "      <th>IsHoliday</th>\n",
       "      <th>Temperature</th>\n",
       "      <th>Fuel_Price</th>\n",
       "      <th>MarkDown1</th>\n",
       "      <th>MarkDown2</th>\n",
       "      <th>MarkDown3</th>\n",
       "      <th>MarkDown4</th>\n",
       "      <th>MarkDown5</th>\n",
       "      <th>...</th>\n",
       "      <th>Dept_90</th>\n",
       "      <th>Dept_91</th>\n",
       "      <th>Dept_92</th>\n",
       "      <th>Dept_93</th>\n",
       "      <th>Dept_94</th>\n",
       "      <th>Dept_95</th>\n",
       "      <th>Dept_96</th>\n",
       "      <th>Dept_97</th>\n",
       "      <th>Dept_98</th>\n",
       "      <th>Dept_99</th>\n",
       "    </tr>\n",
       "  </thead>\n",
       "  <tbody>\n",
       "    <tr>\n",
       "      <td>0</td>\n",
       "      <td>2010-02-05</td>\n",
       "      <td>24924.50</td>\n",
       "      <td>False</td>\n",
       "      <td>42.31</td>\n",
       "      <td>2.572</td>\n",
       "      <td>0.0</td>\n",
       "      <td>0.0</td>\n",
       "      <td>0.0</td>\n",
       "      <td>0.0</td>\n",
       "      <td>0.0</td>\n",
       "      <td>...</td>\n",
       "      <td>0</td>\n",
       "      <td>0</td>\n",
       "      <td>0</td>\n",
       "      <td>0</td>\n",
       "      <td>0</td>\n",
       "      <td>0</td>\n",
       "      <td>0</td>\n",
       "      <td>0</td>\n",
       "      <td>0</td>\n",
       "      <td>0</td>\n",
       "    </tr>\n",
       "    <tr>\n",
       "      <td>1</td>\n",
       "      <td>2010-02-12</td>\n",
       "      <td>46039.49</td>\n",
       "      <td>True</td>\n",
       "      <td>38.51</td>\n",
       "      <td>2.548</td>\n",
       "      <td>0.0</td>\n",
       "      <td>0.0</td>\n",
       "      <td>0.0</td>\n",
       "      <td>0.0</td>\n",
       "      <td>0.0</td>\n",
       "      <td>...</td>\n",
       "      <td>0</td>\n",
       "      <td>0</td>\n",
       "      <td>0</td>\n",
       "      <td>0</td>\n",
       "      <td>0</td>\n",
       "      <td>0</td>\n",
       "      <td>0</td>\n",
       "      <td>0</td>\n",
       "      <td>0</td>\n",
       "      <td>0</td>\n",
       "    </tr>\n",
       "    <tr>\n",
       "      <td>2</td>\n",
       "      <td>2010-02-19</td>\n",
       "      <td>41595.55</td>\n",
       "      <td>False</td>\n",
       "      <td>39.93</td>\n",
       "      <td>2.514</td>\n",
       "      <td>0.0</td>\n",
       "      <td>0.0</td>\n",
       "      <td>0.0</td>\n",
       "      <td>0.0</td>\n",
       "      <td>0.0</td>\n",
       "      <td>...</td>\n",
       "      <td>0</td>\n",
       "      <td>0</td>\n",
       "      <td>0</td>\n",
       "      <td>0</td>\n",
       "      <td>0</td>\n",
       "      <td>0</td>\n",
       "      <td>0</td>\n",
       "      <td>0</td>\n",
       "      <td>0</td>\n",
       "      <td>0</td>\n",
       "    </tr>\n",
       "    <tr>\n",
       "      <td>3</td>\n",
       "      <td>2010-02-26</td>\n",
       "      <td>19403.54</td>\n",
       "      <td>False</td>\n",
       "      <td>46.63</td>\n",
       "      <td>2.561</td>\n",
       "      <td>0.0</td>\n",
       "      <td>0.0</td>\n",
       "      <td>0.0</td>\n",
       "      <td>0.0</td>\n",
       "      <td>0.0</td>\n",
       "      <td>...</td>\n",
       "      <td>0</td>\n",
       "      <td>0</td>\n",
       "      <td>0</td>\n",
       "      <td>0</td>\n",
       "      <td>0</td>\n",
       "      <td>0</td>\n",
       "      <td>0</td>\n",
       "      <td>0</td>\n",
       "      <td>0</td>\n",
       "      <td>0</td>\n",
       "    </tr>\n",
       "    <tr>\n",
       "      <td>4</td>\n",
       "      <td>2010-03-05</td>\n",
       "      <td>21827.90</td>\n",
       "      <td>False</td>\n",
       "      <td>46.50</td>\n",
       "      <td>2.625</td>\n",
       "      <td>0.0</td>\n",
       "      <td>0.0</td>\n",
       "      <td>0.0</td>\n",
       "      <td>0.0</td>\n",
       "      <td>0.0</td>\n",
       "      <td>...</td>\n",
       "      <td>0</td>\n",
       "      <td>0</td>\n",
       "      <td>0</td>\n",
       "      <td>0</td>\n",
       "      <td>0</td>\n",
       "      <td>0</td>\n",
       "      <td>0</td>\n",
       "      <td>0</td>\n",
       "      <td>0</td>\n",
       "      <td>0</td>\n",
       "    </tr>\n",
       "  </tbody>\n",
       "</table>\n",
       "<p>5 rows × 119 columns</p>\n",
       "</div>"
      ],
      "text/plain": [
       "        Date  Weekly_Sales IsHoliday  Temperature  Fuel_Price  MarkDown1  \\\n",
       "0 2010-02-05      24924.50     False        42.31       2.572        0.0   \n",
       "1 2010-02-12      46039.49      True        38.51       2.548        0.0   \n",
       "2 2010-02-19      41595.55     False        39.93       2.514        0.0   \n",
       "3 2010-02-26      19403.54     False        46.63       2.561        0.0   \n",
       "4 2010-03-05      21827.90     False        46.50       2.625        0.0   \n",
       "\n",
       "   MarkDown2  MarkDown3  MarkDown4  MarkDown5  ...  Dept_90  Dept_91 Dept_92  \\\n",
       "0        0.0        0.0        0.0        0.0  ...        0        0       0   \n",
       "1        0.0        0.0        0.0        0.0  ...        0        0       0   \n",
       "2        0.0        0.0        0.0        0.0  ...        0        0       0   \n",
       "3        0.0        0.0        0.0        0.0  ...        0        0       0   \n",
       "4        0.0        0.0        0.0        0.0  ...        0        0       0   \n",
       "\n",
       "   Dept_93 Dept_94 Dept_95 Dept_96 Dept_97 Dept_98  Dept_99  \n",
       "0        0       0       0       0       0       0        0  \n",
       "1        0       0       0       0       0       0        0  \n",
       "2        0       0       0       0       0       0        0  \n",
       "3        0       0       0       0       0       0        0  \n",
       "4        0       0       0       0       0       0        0  \n",
       "\n",
       "[5 rows x 119 columns]"
      ]
     },
     "execution_count": 106,
     "metadata": {},
     "output_type": "execute_result"
    }
   ],
   "source": [
    "master.head()"
   ]
  },
  {
   "cell_type": "code",
   "execution_count": 108,
   "metadata": {
    "pycharm": {
     "is_executing": false,
     "name": "#%%\n"
    }
   },
   "outputs": [
    {
     "name": "stdout",
     "output_type": "stream",
     "text": [
      "DataFrame stored in pickle file...\n"
     ]
    }
   ],
   "source": [
    "master.to_pickle('./data/master.pickle')\n",
    "print('DataFrame stored in pickle file...')\n"
   ]
  }
 ],
 "metadata": {
  "kernelspec": {
   "display_name": "PyCharm (dsba6156)",
   "language": "python",
   "name": "pycharm-67ea9c55"
  },
  "language_info": {
   "codemirror_mode": {
    "name": "ipython",
    "version": 3
   },
   "file_extension": ".py",
   "mimetype": "text/x-python",
   "name": "python",
   "nbconvert_exporter": "python",
   "pygments_lexer": "ipython3",
   "version": "3.7.2"
  },
  "pycharm": {
   "stem_cell": {
    "cell_type": "raw",
    "metadata": {
     "collapsed": false
    },
    "source": []
   }
  }
 },
 "nbformat": 4,
 "nbformat_minor": 1
}
